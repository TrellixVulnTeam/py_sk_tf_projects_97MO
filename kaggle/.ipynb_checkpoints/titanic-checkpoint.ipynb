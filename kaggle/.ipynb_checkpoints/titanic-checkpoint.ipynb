{
 "cells": [
  {
   "cell_type": "markdown",
   "metadata": {},
   "source": [
    "# Kaggle Titanic Project\n",
    "Problem Statement:\n",
    "Given PassengerId, Pclass, Name, Sex, Age, Parch, Ticket, Fare, Cabin, and Embarked, predict Survived or not.\n",
    "Data Format:\n",
    "PassengerId: 1, 2, ..., N :integer\n",
    "Pclass: 1, 2, 3 : integer\n",
    "Name: Last_Name, Title. First_Name_and_Other_Parts - comma and period separated : string : object\n",
    "Sex: Male, Female : string : object\n",
    "Age: nn.mm : float\n",
    "SibSp: 0, 1, 2, ... : integer\n",
    "Parch: 0, 1, 2, ... : integer\n",
    "Ticket: string : object\n",
    "Fare: xyz.mm : float\n",
    "cabin: string : object\n",
    "Embarked: character : object\n",
    "\n",
    "We assume the data has been downloaded, processed and loaded as .pickle file. I have created two .pickle files:\n",
    "train_all.pickle - contains all provided data split into train, valid and test subsets\n",
    "train_sample.pickle - contains smaller subsets of the train_all.pickle for working on the software\n",
    "\n",
    "We start our analysis by unpickling the data.\n"
   ]
  }
 ],
 "metadata": {
  "kernelspec": {
   "display_name": "Python 3",
   "language": "python",
   "name": "python3"
  },
  "language_info": {
   "codemirror_mode": {
    "name": "ipython",
    "version": 3
   },
   "file_extension": ".py",
   "mimetype": "text/x-python",
   "name": "python",
   "nbconvert_exporter": "python",
   "pygments_lexer": "ipython3",
   "version": "3.6.1"
  }
 },
 "nbformat": 4,
 "nbformat_minor": 2
}
