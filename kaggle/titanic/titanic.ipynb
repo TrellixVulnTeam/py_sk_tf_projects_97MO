{
 "cells": [
  {
   "cell_type": "markdown",
   "metadata": {},
   "source": [
    "# Kaggle Titanic Project\n",
    "Problem Statement:\n",
    "Given PassengerId, Pclass, Name, Sex, Age, Parch, Ticket, Fare, Cabin, and Embarked, predict Survived or not.\n",
    "Data Format:\n",
    "PassengerId: 1, 2, ..., N :integer\n",
    "Pclass: 1, 2, 3 : integer\n",
    "Name: Last_Name, Title. First_Name_and_Other_Parts - comma and period separated : string : object\n",
    "Sex: Male, Female : string : object\n",
    "Age: nn.mm : float\n",
    "SibSp: 0, 1, 2, ... : integer\n",
    "Parch: 0, 1, 2, ... : integer\n",
    "Ticket: string : object\n",
    "Fare: xyz.mm : float\n",
    "cabin: string : object\n",
    "Embarked: character : object\n",
    "\n",
    "We assume the data has been downloaded, processed and loaded as .pickle file. I have created two .pickle files:\n",
    "train_all.pickle - contains all provided data split into train, valid and test subsets\n",
    "train_sample.pickle - contains smaller subsets of the train_all.pickle for working on the software\n",
    "\n",
    "We start our analysis by unpickling the data.\n"
   ]
  },
  {
   "cell_type": "code",
   "execution_count": 1,
   "metadata": {},
   "outputs": [
    {
     "data": {
      "text/html": [
       "<div>\n",
       "<style>\n",
       "    .dataframe thead tr:only-child th {\n",
       "        text-align: right;\n",
       "    }\n",
       "\n",
       "    .dataframe thead th {\n",
       "        text-align: left;\n",
       "    }\n",
       "\n",
       "    .dataframe tbody tr th {\n",
       "        vertical-align: top;\n",
       "    }\n",
       "</style>\n",
       "<table border=\"1\" class=\"dataframe\">\n",
       "  <thead>\n",
       "    <tr style=\"text-align: right;\">\n",
       "      <th></th>\n",
       "      <th>PassengerId</th>\n",
       "      <th>Survived</th>\n",
       "      <th>Pclass</th>\n",
       "      <th>Name</th>\n",
       "      <th>Sex</th>\n",
       "      <th>Age</th>\n",
       "      <th>SibSp</th>\n",
       "      <th>Parch</th>\n",
       "      <th>Ticket</th>\n",
       "      <th>Fare</th>\n",
       "      <th>Cabin</th>\n",
       "      <th>Embarked</th>\n",
       "    </tr>\n",
       "  </thead>\n",
       "  <tbody>\n",
       "    <tr>\n",
       "      <th>0</th>\n",
       "      <td>1</td>\n",
       "      <td>0</td>\n",
       "      <td>3</td>\n",
       "      <td>Braund, Mr. Owen Harris</td>\n",
       "      <td>male</td>\n",
       "      <td>22.0</td>\n",
       "      <td>1</td>\n",
       "      <td>0</td>\n",
       "      <td>A/5 21171</td>\n",
       "      <td>7.2500</td>\n",
       "      <td>NaN</td>\n",
       "      <td>S</td>\n",
       "    </tr>\n",
       "    <tr>\n",
       "      <th>1</th>\n",
       "      <td>2</td>\n",
       "      <td>1</td>\n",
       "      <td>1</td>\n",
       "      <td>Cumings, Mrs. John Bradley (Florence Briggs Th...</td>\n",
       "      <td>female</td>\n",
       "      <td>38.0</td>\n",
       "      <td>1</td>\n",
       "      <td>0</td>\n",
       "      <td>PC 17599</td>\n",
       "      <td>71.2833</td>\n",
       "      <td>C85</td>\n",
       "      <td>C</td>\n",
       "    </tr>\n",
       "  </tbody>\n",
       "</table>\n",
       "</div>"
      ],
      "text/plain": [
       "   PassengerId  Survived  Pclass  \\\n",
       "0            1         0       3   \n",
       "1            2         1       1   \n",
       "\n",
       "                                                Name     Sex   Age  SibSp  \\\n",
       "0                            Braund, Mr. Owen Harris    male  22.0      1   \n",
       "1  Cumings, Mrs. John Bradley (Florence Briggs Th...  female  38.0      1   \n",
       "\n",
       "   Parch     Ticket     Fare Cabin Embarked  \n",
       "0      0  A/5 21171   7.2500   NaN        S  \n",
       "1      0   PC 17599  71.2833   C85        C  "
      ]
     },
     "execution_count": 1,
     "metadata": {},
     "output_type": "execute_result"
    }
   ],
   "source": [
    "import os\n",
    "import numpy as np\n",
    "import pandas as pd\n",
    "from six.moves import cPickle as pickle\n",
    "from sklearn.model_selection import train_test_split\n",
    "from sklearn.preprocessing import Imputer\n",
    "\n",
    "import matplotlib.pyplot as plt\n",
    "\n",
    "DATA_ROOT = \"./datasets\"\n",
    "CSV_FILENAME = \"train.csv\"\n",
    "LABEL_LIST = [\"Survived\"]\n",
    "\n",
    "\n",
    "##\n",
    "path_to_data_dir = DATA_ROOT\n",
    "csv_filename = CSV_FILENAME\n",
    "csv_path = os.path.join(path_to_data_dir, csv_filename)\n",
    "raw_data = pd.read_csv(csv_path)\n",
    "raw_data.head(2)"
   ]
  },
  {
   "cell_type": "code",
   "execution_count": 2,
   "metadata": {},
   "outputs": [
    {
     "data": {
      "text/html": [
       "<div>\n",
       "<style>\n",
       "    .dataframe thead tr:only-child th {\n",
       "        text-align: right;\n",
       "    }\n",
       "\n",
       "    .dataframe thead th {\n",
       "        text-align: left;\n",
       "    }\n",
       "\n",
       "    .dataframe tbody tr th {\n",
       "        vertical-align: top;\n",
       "    }\n",
       "</style>\n",
       "<table border=\"1\" class=\"dataframe\">\n",
       "  <thead>\n",
       "    <tr style=\"text-align: right;\">\n",
       "      <th></th>\n",
       "      <th>Survived</th>\n",
       "      <th>Pclass</th>\n",
       "      <th>Name</th>\n",
       "      <th>Sex</th>\n",
       "      <th>Age</th>\n",
       "      <th>SibSp</th>\n",
       "      <th>Parch</th>\n",
       "      <th>Ticket</th>\n",
       "      <th>Fare</th>\n",
       "      <th>Cabin</th>\n",
       "      <th>Embarked</th>\n",
       "    </tr>\n",
       "    <tr>\n",
       "      <th>PassengerId</th>\n",
       "      <th></th>\n",
       "      <th></th>\n",
       "      <th></th>\n",
       "      <th></th>\n",
       "      <th></th>\n",
       "      <th></th>\n",
       "      <th></th>\n",
       "      <th></th>\n",
       "      <th></th>\n",
       "      <th></th>\n",
       "      <th></th>\n",
       "    </tr>\n",
       "  </thead>\n",
       "  <tbody>\n",
       "    <tr>\n",
       "      <th>1</th>\n",
       "      <td>0</td>\n",
       "      <td>3</td>\n",
       "      <td>Braund, Mr. Owen Harris</td>\n",
       "      <td>male</td>\n",
       "      <td>22.0</td>\n",
       "      <td>1</td>\n",
       "      <td>0</td>\n",
       "      <td>A/5 21171</td>\n",
       "      <td>7.2500</td>\n",
       "      <td>NaN</td>\n",
       "      <td>S</td>\n",
       "    </tr>\n",
       "    <tr>\n",
       "      <th>2</th>\n",
       "      <td>1</td>\n",
       "      <td>1</td>\n",
       "      <td>Cumings, Mrs. John Bradley (Florence Briggs Th...</td>\n",
       "      <td>female</td>\n",
       "      <td>38.0</td>\n",
       "      <td>1</td>\n",
       "      <td>0</td>\n",
       "      <td>PC 17599</td>\n",
       "      <td>71.2833</td>\n",
       "      <td>C85</td>\n",
       "      <td>C</td>\n",
       "    </tr>\n",
       "  </tbody>\n",
       "</table>\n",
       "</div>"
      ],
      "text/plain": [
       "             Survived  Pclass  \\\n",
       "PassengerId                     \n",
       "1                   0       3   \n",
       "2                   1       1   \n",
       "\n",
       "                                                          Name     Sex   Age  \\\n",
       "PassengerId                                                                    \n",
       "1                                      Braund, Mr. Owen Harris    male  22.0   \n",
       "2            Cumings, Mrs. John Bradley (Florence Briggs Th...  female  38.0   \n",
       "\n",
       "             SibSp  Parch     Ticket     Fare Cabin Embarked  \n",
       "PassengerId                                                   \n",
       "1                1      0  A/5 21171   7.2500   NaN        S  \n",
       "2                1      0   PC 17599  71.2833   C85        C  "
      ]
     },
     "execution_count": 2,
     "metadata": {},
     "output_type": "execute_result"
    }
   ],
   "source": [
    "## NOTE - WE SHOULD HAVE PASSENGERID TO BE THE INDEX\n",
    "raw_data.index = raw_data.PassengerId\n",
    "raw_data = raw_data.drop('PassengerId', axis = 1)\n",
    "raw_data.head(2)"
   ]
  },
  {
   "cell_type": "code",
   "execution_count": 3,
   "metadata": {},
   "outputs": [
    {
     "name": "stdout",
     "output_type": "stream",
     "text": [
      "\n",
      "Saving pickle file: ./datasets/train_all.pickle\n",
      "\n",
      "Saving pickle file: ./datasets/train_samples.pickle\n"
     ]
    }
   ],
   "source": [
    "def randomize_data(data):\n",
    "  \n",
    "  \"\"\"\n",
    "  given a DataFrame with each row as one instance of data, returns a DataFrame that is randomized.\n",
    "  \"\"\"\n",
    "  \n",
    "  permutations = np.random.permutation(data.shape[0])\n",
    "  shuffled_data = data.iloc[permutations, :]\n",
    "  return shuffled_data\n",
    "\n",
    "\n",
    "def load_data_as_DataFrame_from_csv_file(path_to_data_dir, csv_filename):\n",
    "  csv_path = os.path.join(path_to_data_dir, csv_filename)\n",
    "  raw_data = pd.read_csv(csv_path)\n",
    "  raw_data.index = raw_data.PassengerId   ## The present data has an index for data\n",
    "  raw_data = raw_data.drop('PassengerId', axis = 1)    \n",
    "  return raw_data\n",
    "\n",
    "\n",
    "def create_train_valid_test_sets(data, test_size = 0.2, valid_size = 0.2):\n",
    "  \"\"\"\n",
    "  Split the full data set into three subsets \n",
    "  Returns the DataFrames train, valid, test in that order \n",
    "  \"\"\"\n",
    "  \n",
    "  train_set_full, test = train_test_split(data, test_size=test_size, random_state=42)\n",
    "  train, valid = train_test_split(train_set_full, test_size=valid_size, random_state=42)\n",
    "  \n",
    "  return train, valid, test\n",
    "\n",
    "def select_samples_from_full(df, cutoff_size = 1000):\n",
    "  num_samples = df.shape[0]\n",
    "  if num_samples > cutoff_size:\n",
    "    sample_size = cutoff_size\n",
    "  else:\n",
    "    sample_size = df.shape[0]\n",
    "  return sample_size\n",
    "\n",
    "def separate_X_and_y(df, label_list):\n",
    "  X = df[df.columns.difference(label_list)]\n",
    "  y = df[label_list]\n",
    "  return X, y\n",
    "\n",
    "def generate_working_datasets(path_to_data_dir, csv_filename, label_list):\n",
    "\n",
    "  data = load_data_as_DataFrame_from_csv_file(path_to_data_dir, csv_filename)\n",
    "  randomized_data = randomize_data(data)\n",
    "\n",
    "  train, valid, test = create_train_valid_test_sets(randomized_data, test_size = 0.2, valid_size = 0.2)\n",
    "  \n",
    "  sample_train_size = select_samples_from_full(train)\n",
    "  sample_valid_size = select_samples_from_full(valid)\n",
    "  sample_test_size = select_samples_from_full(test)\n",
    "  \n",
    "  sample_train = train.iloc[:sample_train_size, :]\n",
    "  sample_valid = valid.iloc[:sample_valid_size, :]\n",
    "  sample_test = test.iloc[:sample_test_size, :]\n",
    "   \n",
    "  # separate the X and y in each set\n",
    "  \n",
    "  X_train, y_train = separate_X_and_y(train, label_list)\n",
    "  X_valid, y_valid = separate_X_and_y(valid, label_list)\n",
    "  X_test, y_test = separate_X_and_y(test, label_list)\n",
    "  X_sample_train, y_sample_train = separate_X_and_y(sample_train, label_list)\n",
    "  X_sample_valid, y_sample_valid = separate_X_and_y(sample_valid, label_list)\n",
    "  X_sample_test, y_sample_test = separate_X_and_y(sample_test, label_list)\n",
    "\n",
    "# package for easier handling\n",
    "\n",
    "  datasets_all = {\n",
    "      \"X_train\" : X_train, \"y_train\" : y_train,\n",
    "      \"X_valid\" : X_valid, \"y_valid\" : y_valid,\n",
    "      \"X_test\" : X_test, \"y_test\" : y_test,\n",
    "      }\n",
    "  datasets_sample = {\n",
    "      \"X_sample_train\" : X_sample_train, \"y_sample_train\" : y_sample_train,\n",
    "      \"X_sample_valid\" : X_sample_valid, \"y_sample_valid\" : y_sample_valid,\n",
    "      \"X_sample_test\" : X_sample_test, \"y_sample_test\" : y_sample_test,\n",
    "      }\n",
    " \n",
    "  return datasets_all, datasets_sample\n",
    "\n",
    "\n",
    "def save_datasets(path_to_data_dir, csv_filename, datasets, is_sample = False):\n",
    "  file_name_list = csv_filename.split('.')\n",
    "  file_name_list_no_csv = file_name_list[0:-1]\n",
    "  filename = ''.join(file_name_list_no_csv) # drope .csv\n",
    "  if is_sample:\n",
    "    filename_pickle = filename +'_samples'+ '.pickle'\n",
    "  else:\n",
    "    filename_pickle = filename +'_all'+ '.pickle'\n",
    "  pickle_file = os.path.join(path_to_data_dir, filename_pickle)\n",
    "#  print(pickle_file)\n",
    "  try:\n",
    "    with open(pickle_file, \"wb\") as f:\n",
    "      print(\"\\nSaving pickle file:\", pickle_file)\n",
    "      pickle.dump(datasets, f, pickle.HIGHEST_PROTOCOL)\n",
    "  except Exception as e:\n",
    "    print('Unable to save data to', pickle_file, ':', e)\n",
    "    raise\n",
    "\n",
    "## Call these function to separate data\n",
    "label_list = LABEL_LIST\n",
    "datasets_all, datasets_sample = generate_working_datasets(path_to_data_dir, csv_filename, label_list)\n",
    "save_datasets(path_to_data_dir, csv_filename, datasets_all, is_sample = False)\n",
    "save_datasets(path_to_data_dir, csv_filename, datasets_sample, is_sample = True)"
   ]
  },
  {
   "cell_type": "code",
   "execution_count": 4,
   "metadata": {
    "collapsed": true
   },
   "outputs": [],
   "source": [
    "def load_pickle_data(path_to_pickle_file, is_sample = False):\n",
    "  ''' A utility function to load pickle data'''\n",
    "  with open(path_to_pickle_file, 'rb') as f:\n",
    "    saved = pickle.load(f)\n",
    "    if is_sample:\n",
    "      X_train = saved[\"X_sample_train\"]\n",
    "      y_train = saved[\"y_sample_train\"]\n",
    "      X_valid = saved[\"X_sample_valid\"]\n",
    "      y_valid = saved[\"y_sample_valid\"]\n",
    "      X_test  = saved[\"X_sample_test\"]\n",
    "      y_test  = saved[\"y_sample_test\"]\n",
    " \n",
    "    else:\n",
    "      X_train = saved[\"X_train\"]\n",
    "      y_train = saved[\"y_train\"]\n",
    "      X_valid = saved[\"X_valid\"]\n",
    "      y_valid = saved[\"y_valid\"]\n",
    "      X_test  = saved[\"X_test\"]\n",
    "      y_test  = saved[\"y_test\"]\n",
    "        \n",
    "    del saved # will free up memory\n",
    "    return X_train, y_train, X_valid, y_valid, X_test, y_test\n",
    "\n",
    "\n",
    "## Load Data from appropriate pickle file\n",
    "IS_SAMPLE = True\n",
    "# FOR TITANIC DATA\n",
    "PICKLE_FILE_ALL_DATA = \"./datasets/train_all.pickle\"\n",
    "PICKLE_FILE_SAMPLE_DATA = \"./datasets/train_samples.pickle\"\n",
    "\n",
    "#--------------------------Do not change below  \n",
    "is_sample = IS_SAMPLE\n",
    "if is_sample:  \n",
    "  path_to_pickle_file = PICKLE_FILE_SAMPLE_DATA\n",
    "else:\n",
    "  path_to_pickle_file = PICKLE_FILE_ALL_DATA\n",
    "\n",
    "load_pickle_data(path_to_pickle_file, is_sample)\n",
    "X_train, y_train, X_valid, y_valid, X_test, y_test = load_pickle_data(path_to_pickle_file, is_sample)\n",
    "## NOTE: THIS X_TEST IS NOT THE TEST DATA PROVIDED FOR THE PROJECT"
   ]
  },
  {
   "cell_type": "markdown",
   "metadata": {},
   "source": [
    "## Observations on Data"
   ]
  },
  {
   "cell_type": "code",
   "execution_count": 5,
   "metadata": {},
   "outputs": [
    {
     "data": {
      "text/html": [
       "<div>\n",
       "<style>\n",
       "    .dataframe thead tr:only-child th {\n",
       "        text-align: right;\n",
       "    }\n",
       "\n",
       "    .dataframe thead th {\n",
       "        text-align: left;\n",
       "    }\n",
       "\n",
       "    .dataframe tbody tr th {\n",
       "        vertical-align: top;\n",
       "    }\n",
       "</style>\n",
       "<table border=\"1\" class=\"dataframe\">\n",
       "  <thead>\n",
       "    <tr style=\"text-align: right;\">\n",
       "      <th></th>\n",
       "      <th>Age</th>\n",
       "      <th>Cabin</th>\n",
       "      <th>Embarked</th>\n",
       "      <th>Fare</th>\n",
       "      <th>Name</th>\n",
       "      <th>Parch</th>\n",
       "      <th>Pclass</th>\n",
       "      <th>Sex</th>\n",
       "      <th>SibSp</th>\n",
       "      <th>Ticket</th>\n",
       "    </tr>\n",
       "    <tr>\n",
       "      <th>PassengerId</th>\n",
       "      <th></th>\n",
       "      <th></th>\n",
       "      <th></th>\n",
       "      <th></th>\n",
       "      <th></th>\n",
       "      <th></th>\n",
       "      <th></th>\n",
       "      <th></th>\n",
       "      <th></th>\n",
       "      <th></th>\n",
       "    </tr>\n",
       "  </thead>\n",
       "  <tbody>\n",
       "    <tr>\n",
       "      <th>557</th>\n",
       "      <td>48.0</td>\n",
       "      <td>A16</td>\n",
       "      <td>C</td>\n",
       "      <td>39.6000</td>\n",
       "      <td>Duff Gordon, Lady. (Lucille Christiana Sutherl...</td>\n",
       "      <td>0</td>\n",
       "      <td>1</td>\n",
       "      <td>female</td>\n",
       "      <td>1</td>\n",
       "      <td>11755</td>\n",
       "    </tr>\n",
       "    <tr>\n",
       "      <th>49</th>\n",
       "      <td>NaN</td>\n",
       "      <td>NaN</td>\n",
       "      <td>C</td>\n",
       "      <td>21.6792</td>\n",
       "      <td>Samaan, Mr. Youssef</td>\n",
       "      <td>0</td>\n",
       "      <td>3</td>\n",
       "      <td>male</td>\n",
       "      <td>2</td>\n",
       "      <td>2662</td>\n",
       "    </tr>\n",
       "  </tbody>\n",
       "</table>\n",
       "</div>"
      ],
      "text/plain": [
       "              Age Cabin Embarked     Fare  \\\n",
       "PassengerId                                 \n",
       "557          48.0   A16        C  39.6000   \n",
       "49            NaN   NaN        C  21.6792   \n",
       "\n",
       "                                                          Name  Parch  Pclass  \\\n",
       "PassengerId                                                                     \n",
       "557          Duff Gordon, Lady. (Lucille Christiana Sutherl...      0       1   \n",
       "49                                         Samaan, Mr. Youssef      0       3   \n",
       "\n",
       "                Sex  SibSp Ticket  \n",
       "PassengerId                        \n",
       "557          female      1  11755  \n",
       "49             male      2   2662  "
      ]
     },
     "execution_count": 5,
     "metadata": {},
     "output_type": "execute_result"
    }
   ],
   "source": [
    "X_train.head(2) ## check if loading worked"
   ]
  },
  {
   "cell_type": "code",
   "execution_count": 6,
   "metadata": {},
   "outputs": [
    {
     "data": {
      "text/plain": [
       "Age         float64\n",
       "Cabin        object\n",
       "Embarked     object\n",
       "Fare        float64\n",
       "Name         object\n",
       "Parch         int64\n",
       "Pclass        int64\n",
       "Sex          object\n",
       "SibSp         int64\n",
       "Ticket       object\n",
       "dtype: object"
      ]
     },
     "execution_count": 6,
     "metadata": {},
     "output_type": "execute_result"
    }
   ],
   "source": [
    "X_train.dtypes  ## check the data types"
   ]
  },
  {
   "cell_type": "markdown",
   "metadata": {},
   "source": [
    "### Index and PasssengerId are not same. We will just make note of this and not make index same as PassengerId\n",
    "All that matters is that both X_train and y_train are using the same index values for the same passenger"
   ]
  },
  {
   "cell_type": "markdown",
   "metadata": {},
   "source": [
    "#X_train = X_train.set_index(\"PassengerId\") ##THIS WILL GO INTO THE DATA TRANSFORMATION PIPELINE\n"
   ]
  },
  {
   "cell_type": "markdown",
   "metadata": {},
   "source": [
    "### CHANGE OF MIND: I WILL GO BACK A FEW STEPS ABOVE AND SET PASSENGERID TO BE INDEX"
   ]
  },
  {
   "cell_type": "code",
   "execution_count": 7,
   "metadata": {},
   "outputs": [
    {
     "data": {
      "text/html": [
       "<div>\n",
       "<style>\n",
       "    .dataframe thead tr:only-child th {\n",
       "        text-align: right;\n",
       "    }\n",
       "\n",
       "    .dataframe thead th {\n",
       "        text-align: left;\n",
       "    }\n",
       "\n",
       "    .dataframe tbody tr th {\n",
       "        vertical-align: top;\n",
       "    }\n",
       "</style>\n",
       "<table border=\"1\" class=\"dataframe\">\n",
       "  <thead>\n",
       "    <tr style=\"text-align: right;\">\n",
       "      <th></th>\n",
       "      <th>Age</th>\n",
       "      <th>Cabin</th>\n",
       "      <th>Embarked</th>\n",
       "      <th>Fare</th>\n",
       "      <th>Name</th>\n",
       "      <th>Parch</th>\n",
       "      <th>Pclass</th>\n",
       "      <th>Sex</th>\n",
       "      <th>SibSp</th>\n",
       "      <th>Ticket</th>\n",
       "    </tr>\n",
       "    <tr>\n",
       "      <th>PassengerId</th>\n",
       "      <th></th>\n",
       "      <th></th>\n",
       "      <th></th>\n",
       "      <th></th>\n",
       "      <th></th>\n",
       "      <th></th>\n",
       "      <th></th>\n",
       "      <th></th>\n",
       "      <th></th>\n",
       "      <th></th>\n",
       "    </tr>\n",
       "  </thead>\n",
       "  <tbody>\n",
       "    <tr>\n",
       "      <th>557</th>\n",
       "      <td>48.0</td>\n",
       "      <td>A16</td>\n",
       "      <td>C</td>\n",
       "      <td>39.6000</td>\n",
       "      <td>Duff Gordon, Lady. (Lucille Christiana Sutherl...</td>\n",
       "      <td>0</td>\n",
       "      <td>1</td>\n",
       "      <td>female</td>\n",
       "      <td>1</td>\n",
       "      <td>11755</td>\n",
       "    </tr>\n",
       "    <tr>\n",
       "      <th>49</th>\n",
       "      <td>NaN</td>\n",
       "      <td>NaN</td>\n",
       "      <td>C</td>\n",
       "      <td>21.6792</td>\n",
       "      <td>Samaan, Mr. Youssef</td>\n",
       "      <td>0</td>\n",
       "      <td>3</td>\n",
       "      <td>male</td>\n",
       "      <td>2</td>\n",
       "      <td>2662</td>\n",
       "    </tr>\n",
       "  </tbody>\n",
       "</table>\n",
       "</div>"
      ],
      "text/plain": [
       "              Age Cabin Embarked     Fare  \\\n",
       "PassengerId                                 \n",
       "557          48.0   A16        C  39.6000   \n",
       "49            NaN   NaN        C  21.6792   \n",
       "\n",
       "                                                          Name  Parch  Pclass  \\\n",
       "PassengerId                                                                     \n",
       "557          Duff Gordon, Lady. (Lucille Christiana Sutherl...      0       1   \n",
       "49                                         Samaan, Mr. Youssef      0       3   \n",
       "\n",
       "                Sex  SibSp Ticket  \n",
       "PassengerId                        \n",
       "557          female      1  11755  \n",
       "49             male      2   2662  "
      ]
     },
     "execution_count": 7,
     "metadata": {},
     "output_type": "execute_result"
    }
   ],
   "source": [
    "X_train.head(2)"
   ]
  },
  {
   "cell_type": "code",
   "execution_count": 8,
   "metadata": {},
   "outputs": [
    {
     "data": {
      "text/html": [
       "<div>\n",
       "<style>\n",
       "    .dataframe thead tr:only-child th {\n",
       "        text-align: right;\n",
       "    }\n",
       "\n",
       "    .dataframe thead th {\n",
       "        text-align: left;\n",
       "    }\n",
       "\n",
       "    .dataframe tbody tr th {\n",
       "        vertical-align: top;\n",
       "    }\n",
       "</style>\n",
       "<table border=\"1\" class=\"dataframe\">\n",
       "  <thead>\n",
       "    <tr style=\"text-align: right;\">\n",
       "      <th></th>\n",
       "      <th>Survived</th>\n",
       "    </tr>\n",
       "    <tr>\n",
       "      <th>PassengerId</th>\n",
       "      <th></th>\n",
       "    </tr>\n",
       "  </thead>\n",
       "  <tbody>\n",
       "    <tr>\n",
       "      <th>557</th>\n",
       "      <td>1</td>\n",
       "    </tr>\n",
       "    <tr>\n",
       "      <th>49</th>\n",
       "      <td>0</td>\n",
       "    </tr>\n",
       "  </tbody>\n",
       "</table>\n",
       "</div>"
      ],
      "text/plain": [
       "             Survived\n",
       "PassengerId          \n",
       "557                 1\n",
       "49                  0"
      ]
     },
     "execution_count": 8,
     "metadata": {},
     "output_type": "execute_result"
    }
   ],
   "source": [
    "y_train.head(2)"
   ]
  },
  {
   "cell_type": "markdown",
   "metadata": {},
   "source": [
    "###  WORK OUT RULES FOR HANDLING MISSING VALUES\n",
    "#### Just to check which columns in X_train have missing values - this is just an exploration. BEWARE: We cannot look into the X_test, which mayhave a different set of missing columns that we will find in X_train. so, we need to have imputer that ADDRESS ALL COLUMNS, NOT JUST THE ONES WE CAN FIND IN THE X_TRAIN."
   ]
  },
  {
   "cell_type": "code",
   "execution_count": 9,
   "metadata": {},
   "outputs": [
    {
     "name": "stdout",
     "output_type": "stream",
     "text": [
      "Age 19.3321616872 %\n",
      "Cabin 77.1528998243 %\n",
      "Embarked 0.175746924429 %\n",
      "Fare 0.0 %\n",
      "Name 0.0 %\n",
      "Parch 0.0 %\n",
      "Pclass 0.0 %\n",
      "Sex 0.0 %\n",
      "SibSp 0.0 %\n",
      "Ticket 0.0 %\n"
     ]
    }
   ],
   "source": [
    "# lets look at NaN's in all data columns\n",
    "for col in X_train:\n",
    "    print( col, 100*sum(pd.isnull(X_train[col]))/X_train.shape[0], '%' )"
   ]
  },
  {
   "cell_type": "code",
   "execution_count": 10,
   "metadata": {},
   "outputs": [
    {
     "data": {
      "text/plain": [
       "(891, 11)"
      ]
     },
     "execution_count": 10,
     "metadata": {},
     "output_type": "execute_result"
    }
   ],
   "source": [
    "# Based on fraction of NaN's in Cabin, we will drop Cabin ## Will be handled by pipeline\n",
    "# While we are at it, we should check out these for raw_data - the original DataFrame\n",
    "raw_data.shape"
   ]
  },
  {
   "cell_type": "code",
   "execution_count": 11,
   "metadata": {},
   "outputs": [
    {
     "name": "stdout",
     "output_type": "stream",
     "text": [
      "NANs in the full train data:\n",
      "Survived 0.0 %\n",
      "Pclass 0.0 %\n",
      "Name 0.0 %\n",
      "Sex 0.0 %\n",
      "Age 19.8653198653 %\n",
      "SibSp 0.0 %\n",
      "Parch 0.0 %\n",
      "Ticket 0.0 %\n",
      "Fare 0.0 %\n",
      "Cabin 77.1043771044 %\n",
      "Embarked 0.224466891134 %\n"
     ]
    }
   ],
   "source": [
    "print(\"NANs in the full train data:\")\n",
    "for col in raw_data:\n",
    "    df = raw_data\n",
    "    print( col, 100*sum(pd.isnull(df[col]))/df.shape[0], '%' )"
   ]
  },
  {
   "cell_type": "markdown",
   "metadata": {},
   "source": [
    "### ORDER OF OUR WORK\n",
    "#### MISSING VALUES IN CABIN\n",
    "#### MISSING VALUES IN EMBARK\n",
    "#### MISSING VALUES IN AGE\n",
    "-----------------------------------------------------------------------\n",
    "AFTER THESE EXPLORATIONS, I WILL WRITE AN IMPUTER CLASS THAT WE CAN USE IN A PIPELINE AND TRANSFORM ALL DATASETS.\n",
    "\n",
    "#### MISSING VALUES IN CABIN\n",
    "THERE ARE TOO MANY MISSING VALUES IN CABIN. ONE SIMPLE STRATEGY WILL BE TO JUST DELETE THEM, BUT THAT WOULD MEAN LOSING INFORMATION CONTAINED IN OTHER VARIABLES THAT CORRESPOND TO THAT ROW. THIS IS USUALLY NOT AN OPTIMAL SOLUTION. WE CAN REPLACE THE NANS IN CABIN NY LETTER U. I ALSO NOTICED THAT CABIN NAMES HAVE A LETTER AND SOME NUMBERS. WE WILL AGGREGATE THEM INTO JUST LETTERS, OTHERWISE THERE WILL BE TOO MANY CATEGORIES ARIZING FROM CABIN COLUMN."
   ]
  },
  {
   "cell_type": "code",
   "execution_count": 12,
   "metadata": {
    "collapsed": true,
    "scrolled": true
   },
   "outputs": [],
   "source": [
    "### We will replace NaN in cabin by letter U and other cabins will a single letter\n",
    "def fill_cabin_name_NaN_by_letter (df):\n",
    "\n",
    "    df[['Cabin']] = df[['Cabin']].fillna(value='U')\n",
    "\n",
    "fill_cabin_name_NaN_by_letter (X_train)"
   ]
  },
  {
   "cell_type": "code",
   "execution_count": 13,
   "metadata": {},
   "outputs": [
    {
     "data": {
      "text/html": [
       "<div>\n",
       "<style>\n",
       "    .dataframe thead tr:only-child th {\n",
       "        text-align: right;\n",
       "    }\n",
       "\n",
       "    .dataframe thead th {\n",
       "        text-align: left;\n",
       "    }\n",
       "\n",
       "    .dataframe tbody tr th {\n",
       "        vertical-align: top;\n",
       "    }\n",
       "</style>\n",
       "<table border=\"1\" class=\"dataframe\">\n",
       "  <thead>\n",
       "    <tr style=\"text-align: right;\">\n",
       "      <th></th>\n",
       "      <th>Age</th>\n",
       "      <th>Cabin</th>\n",
       "      <th>Embarked</th>\n",
       "      <th>Fare</th>\n",
       "      <th>Name</th>\n",
       "      <th>Parch</th>\n",
       "      <th>Pclass</th>\n",
       "      <th>Sex</th>\n",
       "      <th>SibSp</th>\n",
       "      <th>Ticket</th>\n",
       "    </tr>\n",
       "    <tr>\n",
       "      <th>PassengerId</th>\n",
       "      <th></th>\n",
       "      <th></th>\n",
       "      <th></th>\n",
       "      <th></th>\n",
       "      <th></th>\n",
       "      <th></th>\n",
       "      <th></th>\n",
       "      <th></th>\n",
       "      <th></th>\n",
       "      <th></th>\n",
       "    </tr>\n",
       "  </thead>\n",
       "  <tbody>\n",
       "    <tr>\n",
       "      <th>557</th>\n",
       "      <td>48.0</td>\n",
       "      <td>A16</td>\n",
       "      <td>C</td>\n",
       "      <td>39.6000</td>\n",
       "      <td>Duff Gordon, Lady. (Lucille Christiana Sutherl...</td>\n",
       "      <td>0</td>\n",
       "      <td>1</td>\n",
       "      <td>female</td>\n",
       "      <td>1</td>\n",
       "      <td>11755</td>\n",
       "    </tr>\n",
       "    <tr>\n",
       "      <th>49</th>\n",
       "      <td>NaN</td>\n",
       "      <td>U</td>\n",
       "      <td>C</td>\n",
       "      <td>21.6792</td>\n",
       "      <td>Samaan, Mr. Youssef</td>\n",
       "      <td>0</td>\n",
       "      <td>3</td>\n",
       "      <td>male</td>\n",
       "      <td>2</td>\n",
       "      <td>2662</td>\n",
       "    </tr>\n",
       "    <tr>\n",
       "      <th>520</th>\n",
       "      <td>32.0</td>\n",
       "      <td>U</td>\n",
       "      <td>S</td>\n",
       "      <td>7.8958</td>\n",
       "      <td>Pavlovic, Mr. Stefo</td>\n",
       "      <td>0</td>\n",
       "      <td>3</td>\n",
       "      <td>male</td>\n",
       "      <td>0</td>\n",
       "      <td>349242</td>\n",
       "    </tr>\n",
       "    <tr>\n",
       "      <th>245</th>\n",
       "      <td>30.0</td>\n",
       "      <td>U</td>\n",
       "      <td>C</td>\n",
       "      <td>7.2250</td>\n",
       "      <td>Attalah, Mr. Sleiman</td>\n",
       "      <td>0</td>\n",
       "      <td>3</td>\n",
       "      <td>male</td>\n",
       "      <td>0</td>\n",
       "      <td>2694</td>\n",
       "    </tr>\n",
       "    <tr>\n",
       "      <th>208</th>\n",
       "      <td>26.0</td>\n",
       "      <td>U</td>\n",
       "      <td>C</td>\n",
       "      <td>18.7875</td>\n",
       "      <td>Albimona, Mr. Nassef Cassem</td>\n",
       "      <td>0</td>\n",
       "      <td>3</td>\n",
       "      <td>male</td>\n",
       "      <td>0</td>\n",
       "      <td>2699</td>\n",
       "    </tr>\n",
       "    <tr>\n",
       "      <th>4</th>\n",
       "      <td>35.0</td>\n",
       "      <td>C123</td>\n",
       "      <td>S</td>\n",
       "      <td>53.1000</td>\n",
       "      <td>Futrelle, Mrs. Jacques Heath (Lily May Peel)</td>\n",
       "      <td>0</td>\n",
       "      <td>1</td>\n",
       "      <td>female</td>\n",
       "      <td>1</td>\n",
       "      <td>113803</td>\n",
       "    </tr>\n",
       "    <tr>\n",
       "      <th>800</th>\n",
       "      <td>30.0</td>\n",
       "      <td>U</td>\n",
       "      <td>S</td>\n",
       "      <td>24.1500</td>\n",
       "      <td>Van Impe, Mrs. Jean Baptiste (Rosalie Paula Go...</td>\n",
       "      <td>1</td>\n",
       "      <td>3</td>\n",
       "      <td>female</td>\n",
       "      <td>1</td>\n",
       "      <td>345773</td>\n",
       "    </tr>\n",
       "    <tr>\n",
       "      <th>178</th>\n",
       "      <td>50.0</td>\n",
       "      <td>C49</td>\n",
       "      <td>C</td>\n",
       "      <td>28.7125</td>\n",
       "      <td>Isham, Miss. Ann Elizabeth</td>\n",
       "      <td>0</td>\n",
       "      <td>1</td>\n",
       "      <td>female</td>\n",
       "      <td>0</td>\n",
       "      <td>PC 17595</td>\n",
       "    </tr>\n",
       "    <tr>\n",
       "      <th>682</th>\n",
       "      <td>27.0</td>\n",
       "      <td>D49</td>\n",
       "      <td>C</td>\n",
       "      <td>76.7292</td>\n",
       "      <td>Hassab, Mr. Hammad</td>\n",
       "      <td>0</td>\n",
       "      <td>1</td>\n",
       "      <td>male</td>\n",
       "      <td>0</td>\n",
       "      <td>PC 17572</td>\n",
       "    </tr>\n",
       "    <tr>\n",
       "      <th>409</th>\n",
       "      <td>21.0</td>\n",
       "      <td>U</td>\n",
       "      <td>S</td>\n",
       "      <td>7.7750</td>\n",
       "      <td>Birkeland, Mr. Hans Martin Monsen</td>\n",
       "      <td>0</td>\n",
       "      <td>3</td>\n",
       "      <td>male</td>\n",
       "      <td>0</td>\n",
       "      <td>312992</td>\n",
       "    </tr>\n",
       "  </tbody>\n",
       "</table>\n",
       "</div>"
      ],
      "text/plain": [
       "              Age Cabin Embarked     Fare  \\\n",
       "PassengerId                                 \n",
       "557          48.0   A16        C  39.6000   \n",
       "49            NaN     U        C  21.6792   \n",
       "520          32.0     U        S   7.8958   \n",
       "245          30.0     U        C   7.2250   \n",
       "208          26.0     U        C  18.7875   \n",
       "4            35.0  C123        S  53.1000   \n",
       "800          30.0     U        S  24.1500   \n",
       "178          50.0   C49        C  28.7125   \n",
       "682          27.0   D49        C  76.7292   \n",
       "409          21.0     U        S   7.7750   \n",
       "\n",
       "                                                          Name  Parch  Pclass  \\\n",
       "PassengerId                                                                     \n",
       "557          Duff Gordon, Lady. (Lucille Christiana Sutherl...      0       1   \n",
       "49                                         Samaan, Mr. Youssef      0       3   \n",
       "520                                        Pavlovic, Mr. Stefo      0       3   \n",
       "245                                       Attalah, Mr. Sleiman      0       3   \n",
       "208                                Albimona, Mr. Nassef Cassem      0       3   \n",
       "4                 Futrelle, Mrs. Jacques Heath (Lily May Peel)      0       1   \n",
       "800          Van Impe, Mrs. Jean Baptiste (Rosalie Paula Go...      1       3   \n",
       "178                                 Isham, Miss. Ann Elizabeth      0       1   \n",
       "682                                         Hassab, Mr. Hammad      0       1   \n",
       "409                          Birkeland, Mr. Hans Martin Monsen      0       3   \n",
       "\n",
       "                Sex  SibSp    Ticket  \n",
       "PassengerId                           \n",
       "557          female      1     11755  \n",
       "49             male      2      2662  \n",
       "520            male      0    349242  \n",
       "245            male      0      2694  \n",
       "208            male      0      2699  \n",
       "4            female      1    113803  \n",
       "800          female      1    345773  \n",
       "178          female      0  PC 17595  \n",
       "682            male      0  PC 17572  \n",
       "409            male      0    312992  "
      ]
     },
     "execution_count": 13,
     "metadata": {},
     "output_type": "execute_result"
    }
   ],
   "source": [
    "X_train.head(10)"
   ]
  },
  {
   "cell_type": "code",
   "execution_count": 14,
   "metadata": {
    "collapsed": true
   },
   "outputs": [],
   "source": [
    "#def process_cabin (df):  # This JUST PUTS THE TWO FUNCTIONS ABOVE INTO ONE - I SHOULDN'T USE IT THOUGH\n",
    "#    fill_cabin_name_NaN_by_letter (df, 'Cabin')\n",
    "#    replace_cabin_name_by_single_letter(df, 'Cabin')\n",
    "#process_cabin (X_train)"
   ]
  },
  {
   "cell_type": "markdown",
   "metadata": {},
   "source": [
    "### MISSING VALUES IN EMBARKED\n",
    "Next we will look at Embarked - replace the NaNs here by the most common one since so few are missing and this is as good a guess as any"
   ]
  },
  {
   "cell_type": "code",
   "execution_count": 15,
   "metadata": {},
   "outputs": [
    {
     "name": "stdout",
     "output_type": "stream",
     "text": [
      "              Age Cabin Embarked  Fare  \\\n",
      "PassengerId                              \n",
      "830          62.0   B28      NaN  80.0   \n",
      "\n",
      "                                                  Name  Parch  Pclass     Sex  \\\n",
      "PassengerId                                                                     \n",
      "830          Stone, Mrs. George Nelson (Martha Evelyn)      0       1  female   \n",
      "\n",
      "             SibSp  Ticket  \n",
      "PassengerId                 \n",
      "830              0  113572  \n",
      "S    412\n",
      "C    107\n",
      "Q     49\n",
      "Name: Embarked, dtype: int64\n"
     ]
    }
   ],
   "source": [
    "def process_embarked(df):  # This is the one that should go into data transformation ***********\n",
    "    ''' replace_NaN_in_Embarked_by_most_common '''\n",
    "    embarkation_counts = X_train['Embarked'].value_counts()\n",
    "    most_common = embarkation_counts.index[0]\n",
    "    df[['Embarked']] = df[['Embarked']].fillna(value=most_common)\n",
    "print( X_train[pd.isnull(X_train['Embarked']) ] )\n",
    "print( X_train['Embarked'].value_counts() )\n",
    "process_embarked(X_train)\n",
    "#print(X_train.loc[61,:])  # must use .loc here since iloc is not what 61 and 829 are!\n",
    "#print(X_train.loc[829,:])"
   ]
  },
  {
   "cell_type": "markdown",
   "metadata": {},
   "source": [
    "### MISSING VALUES IN AGE\n",
    "We could just replace the missing values in Age by the median of Age column. But, here we can actually do better if we make use of the Title in the given names and coarse-grain the Age into reasonable bins.\n",
    "Age-group : Age\n",
    "Baby  : 0 - 2\n",
    "Child : 2 - 10\n",
    "Young_adult : 10 - 18\n",
    "Adult : 18-50\n",
    "Old : 50 : 65\n",
    "Very_old : 65+\n",
    "If Title is Master or Miss use median of categories Baby, Child and Young_adult.\n",
    "For other Titles use median of the rest.\n",
    "Therefore, we will need to extract titles\n"
   ]
  },
  {
   "cell_type": "markdown",
   "metadata": {},
   "source": [
    "#### DEALING WITH MISSING AGE BY SIMPLE REPLACEMENT BY MEDIAN\n",
    "THERE IS ALREADY A READY-MADE IMPUTER IN SKLEARN.PREPROCESSING."
   ]
  },
  {
   "cell_type": "code",
   "execution_count": 16,
   "metadata": {},
   "outputs": [
    {
     "data": {
      "text/html": [
       "<div>\n",
       "<style>\n",
       "    .dataframe thead tr:only-child th {\n",
       "        text-align: right;\n",
       "    }\n",
       "\n",
       "    .dataframe thead th {\n",
       "        text-align: left;\n",
       "    }\n",
       "\n",
       "    .dataframe tbody tr th {\n",
       "        vertical-align: top;\n",
       "    }\n",
       "</style>\n",
       "<table border=\"1\" class=\"dataframe\">\n",
       "  <thead>\n",
       "    <tr style=\"text-align: right;\">\n",
       "      <th></th>\n",
       "      <th>Age</th>\n",
       "    </tr>\n",
       "    <tr>\n",
       "      <th>PassengerId</th>\n",
       "      <th></th>\n",
       "    </tr>\n",
       "  </thead>\n",
       "  <tbody>\n",
       "    <tr>\n",
       "      <th>557</th>\n",
       "      <td>48.0</td>\n",
       "    </tr>\n",
       "    <tr>\n",
       "      <th>49</th>\n",
       "      <td>NaN</td>\n",
       "    </tr>\n",
       "    <tr>\n",
       "      <th>520</th>\n",
       "      <td>32.0</td>\n",
       "    </tr>\n",
       "    <tr>\n",
       "      <th>245</th>\n",
       "      <td>30.0</td>\n",
       "    </tr>\n",
       "    <tr>\n",
       "      <th>208</th>\n",
       "      <td>26.0</td>\n",
       "    </tr>\n",
       "    <tr>\n",
       "      <th>4</th>\n",
       "      <td>35.0</td>\n",
       "    </tr>\n",
       "    <tr>\n",
       "      <th>800</th>\n",
       "      <td>30.0</td>\n",
       "    </tr>\n",
       "    <tr>\n",
       "      <th>178</th>\n",
       "      <td>50.0</td>\n",
       "    </tr>\n",
       "    <tr>\n",
       "      <th>682</th>\n",
       "      <td>27.0</td>\n",
       "    </tr>\n",
       "    <tr>\n",
       "      <th>409</th>\n",
       "      <td>21.0</td>\n",
       "    </tr>\n",
       "  </tbody>\n",
       "</table>\n",
       "</div>"
      ],
      "text/plain": [
       "              Age\n",
       "PassengerId      \n",
       "557          48.0\n",
       "49            NaN\n",
       "520          32.0\n",
       "245          30.0\n",
       "208          26.0\n",
       "4            35.0\n",
       "800          30.0\n",
       "178          50.0\n",
       "682          27.0\n",
       "409          21.0"
      ]
     },
     "execution_count": 16,
     "metadata": {},
     "output_type": "execute_result"
    }
   ],
   "source": [
    "from sklearn.preprocessing import Imputer\n",
    "imputer_for_age = Imputer(strategy = 'median')  ## This needs numerical columns\n",
    "the_ages = X_train[['Age']]\n",
    "col_name_age = list( the_ages.columns )\n",
    "the_ages.head(10)"
   ]
  },
  {
   "cell_type": "code",
   "execution_count": 17,
   "metadata": {},
   "outputs": [
    {
     "data": {
      "text/html": [
       "<div>\n",
       "<style>\n",
       "    .dataframe thead tr:only-child th {\n",
       "        text-align: right;\n",
       "    }\n",
       "\n",
       "    .dataframe thead th {\n",
       "        text-align: left;\n",
       "    }\n",
       "\n",
       "    .dataframe tbody tr th {\n",
       "        vertical-align: top;\n",
       "    }\n",
       "</style>\n",
       "<table border=\"1\" class=\"dataframe\">\n",
       "  <thead>\n",
       "    <tr style=\"text-align: right;\">\n",
       "      <th></th>\n",
       "      <th>Age</th>\n",
       "    </tr>\n",
       "    <tr>\n",
       "      <th>PassengerId</th>\n",
       "      <th></th>\n",
       "    </tr>\n",
       "  </thead>\n",
       "  <tbody>\n",
       "    <tr>\n",
       "      <th>557</th>\n",
       "      <td>48.0</td>\n",
       "    </tr>\n",
       "    <tr>\n",
       "      <th>49</th>\n",
       "      <td>28.0</td>\n",
       "    </tr>\n",
       "    <tr>\n",
       "      <th>520</th>\n",
       "      <td>32.0</td>\n",
       "    </tr>\n",
       "    <tr>\n",
       "      <th>245</th>\n",
       "      <td>30.0</td>\n",
       "    </tr>\n",
       "    <tr>\n",
       "      <th>208</th>\n",
       "      <td>26.0</td>\n",
       "    </tr>\n",
       "    <tr>\n",
       "      <th>4</th>\n",
       "      <td>35.0</td>\n",
       "    </tr>\n",
       "    <tr>\n",
       "      <th>800</th>\n",
       "      <td>30.0</td>\n",
       "    </tr>\n",
       "    <tr>\n",
       "      <th>178</th>\n",
       "      <td>50.0</td>\n",
       "    </tr>\n",
       "    <tr>\n",
       "      <th>682</th>\n",
       "      <td>27.0</td>\n",
       "    </tr>\n",
       "    <tr>\n",
       "      <th>409</th>\n",
       "      <td>21.0</td>\n",
       "    </tr>\n",
       "  </tbody>\n",
       "</table>\n",
       "</div>"
      ],
      "text/plain": [
       "              Age\n",
       "PassengerId      \n",
       "557          48.0\n",
       "49           28.0\n",
       "520          32.0\n",
       "245          30.0\n",
       "208          26.0\n",
       "4            35.0\n",
       "800          30.0\n",
       "178          50.0\n",
       "682          27.0\n",
       "409          21.0"
      ]
     },
     "execution_count": 17,
     "metadata": {},
     "output_type": "execute_result"
    }
   ],
   "source": [
    "imputer_for_age.fit(the_ages)\n",
    "the_age_column = pd.DataFrame( imputer_for_age.transform(the_ages) )\n",
    "the_age_column.columns = col_name_age\n",
    "the_age_column.index = the_ages.index\n",
    "the_age_column.head(10)"
   ]
  },
  {
   "cell_type": "markdown",
   "metadata": {},
   "source": [
    "\n",
    "#### IMPROVING MISSING AGES WITH MORE COMPLICATED RULES - TO BE ATTEMPTED IN THE FUTURE\n",
    "#### EXTRACT TITLE INFORMATION IN NAMES\n",
    "(1) IF PASSENGER HAS TITLE MASTER OR MISS, THEN REPLACE NAN BY MEDIAN OF PASSENGERS IN AGE RANGE 0-18\n",
    "(2) OTHERWISE REPLACE THE AGE BY MEDIAN OF AGES 18 +"
   ]
  },
  {
   "cell_type": "code",
   "execution_count": 18,
   "metadata": {
    "collapsed": true
   },
   "outputs": [],
   "source": [
    "## TO CALCULATE THE MEDIANS NEEDED\n",
    "the_age_series = X_train['Age']"
   ]
  },
  {
   "cell_type": "code",
   "execution_count": 19,
   "metadata": {},
   "outputs": [
    {
     "data": {
      "text/plain": [
       "PassengerId\n",
       "557    48.0\n",
       "49      NaN\n",
       "520    32.0\n",
       "245    30.0\n",
       "208    26.0\n",
       "Name: Age, dtype: float64"
      ]
     },
     "execution_count": 19,
     "metadata": {},
     "output_type": "execute_result"
    }
   ],
   "source": [
    "the_age_series.head()"
   ]
  },
  {
   "cell_type": "code",
   "execution_count": 20,
   "metadata": {
    "collapsed": true
   },
   "outputs": [],
   "source": [
    "low_age = the_age_series[ the_age_series < 18]"
   ]
  },
  {
   "cell_type": "code",
   "execution_count": 21,
   "metadata": {
    "collapsed": true
   },
   "outputs": [],
   "source": [
    "high_age = the_age_series[ the_age_series >= 18 ]"
   ]
  },
  {
   "cell_type": "code",
   "execution_count": 22,
   "metadata": {},
   "outputs": [
    {
     "name": "stdout",
     "output_type": "stream",
     "text": [
      "LOW_AGE_MEDIAN  9.0 HIGH_AGE_MEDIAN =  31.0\n"
     ]
    }
   ],
   "source": [
    "LOW_AGE_MEDIAN = low_age.median() # MUST REMEMBER THIS NUMBER WHICH WILL BE USED WITH THE TEST SET\n",
    "HIGH_AGE_MEDIAN = high_age.median()\n",
    "print('LOW_AGE_MEDIAN ', LOW_AGE_MEDIAN, 'HIGH_AGE_MEDIAN = ', HIGH_AGE_MEDIAN)"
   ]
  },
  {
   "cell_type": "code",
   "execution_count": 23,
   "metadata": {},
   "outputs": [
    {
     "name": "stdout",
     "output_type": "stream",
     "text": [
      "low_age_median =  9.0 high_age_median =  31.0\n"
     ]
    }
   ],
   "source": [
    "def find_median_ages_for_impputation(X_train):\n",
    "    the_age_series = X_train['Age']\n",
    "    low_age = the_age_series[ the_age_series < 18]\n",
    "    high_age = the_age_series[ the_age_series >= 18 ]\n",
    "    low_age_median = low_age.median() # MUST REMEMBER THIS NUMBER WHICH WILL BE USED WITH THE TEST SET\n",
    "    high_age_median = high_age.median()\n",
    "    return low_age_median, high_age_median\n",
    "low_age_median, high_age_median = find_median_ages_for_impputation(X_train)\n",
    "print('low_age_median = ', low_age_median, 'high_age_median = ', high_age_median)"
   ]
  },
  {
   "cell_type": "code",
   "execution_count": 24,
   "metadata": {
    "collapsed": true
   },
   "outputs": [],
   "source": [
    "## WE have to write our own imputer Class\n",
    "\n",
    "# TODO write imputer class\n",
    "    "
   ]
  },
  {
   "cell_type": "code",
   "execution_count": null,
   "metadata": {
    "collapsed": true
   },
   "outputs": [],
   "source": []
  },
  {
   "cell_type": "code",
   "execution_count": null,
   "metadata": {
    "collapsed": true
   },
   "outputs": [],
   "source": []
  },
  {
   "cell_type": "markdown",
   "metadata": {},
   "source": [
    "## SOME DATA TRANSFORMATION IDEAS TO EXPLORE"
   ]
  },
  {
   "cell_type": "markdown",
   "metadata": {},
   "source": [
    "### AGGREGATE CABIN INTO SINGLE LETTER CATEGORIES\n",
    "FOR INSTANCE CABIN C123 AND C45 WILL BOTH BE IN CATEGORY CABIN C. WE HAVE ALREADY WORKED ON THIS IN THE ABOVE AND NOW I WANT TO MOVE THOSE CODES HERE FOR ORGANIZATION PURPOSES."
   ]
  },
  {
   "cell_type": "code",
   "execution_count": 25,
   "metadata": {},
   "outputs": [
    {
     "data": {
      "text/html": [
       "<div>\n",
       "<style>\n",
       "    .dataframe thead tr:only-child th {\n",
       "        text-align: right;\n",
       "    }\n",
       "\n",
       "    .dataframe thead th {\n",
       "        text-align: left;\n",
       "    }\n",
       "\n",
       "    .dataframe tbody tr th {\n",
       "        vertical-align: top;\n",
       "    }\n",
       "</style>\n",
       "<table border=\"1\" class=\"dataframe\">\n",
       "  <thead>\n",
       "    <tr style=\"text-align: right;\">\n",
       "      <th></th>\n",
       "      <th>Age</th>\n",
       "      <th>Cabin</th>\n",
       "      <th>Embarked</th>\n",
       "      <th>Fare</th>\n",
       "      <th>Name</th>\n",
       "      <th>Parch</th>\n",
       "      <th>Pclass</th>\n",
       "      <th>Sex</th>\n",
       "      <th>SibSp</th>\n",
       "      <th>Ticket</th>\n",
       "    </tr>\n",
       "    <tr>\n",
       "      <th>PassengerId</th>\n",
       "      <th></th>\n",
       "      <th></th>\n",
       "      <th></th>\n",
       "      <th></th>\n",
       "      <th></th>\n",
       "      <th></th>\n",
       "      <th></th>\n",
       "      <th></th>\n",
       "      <th></th>\n",
       "      <th></th>\n",
       "    </tr>\n",
       "  </thead>\n",
       "  <tbody>\n",
       "    <tr>\n",
       "      <th>557</th>\n",
       "      <td>48.0</td>\n",
       "      <td>A</td>\n",
       "      <td>C</td>\n",
       "      <td>39.6000</td>\n",
       "      <td>Duff Gordon, Lady. (Lucille Christiana Sutherl...</td>\n",
       "      <td>0</td>\n",
       "      <td>1</td>\n",
       "      <td>female</td>\n",
       "      <td>1</td>\n",
       "      <td>11755</td>\n",
       "    </tr>\n",
       "    <tr>\n",
       "      <th>49</th>\n",
       "      <td>NaN</td>\n",
       "      <td>U</td>\n",
       "      <td>C</td>\n",
       "      <td>21.6792</td>\n",
       "      <td>Samaan, Mr. Youssef</td>\n",
       "      <td>0</td>\n",
       "      <td>3</td>\n",
       "      <td>male</td>\n",
       "      <td>2</td>\n",
       "      <td>2662</td>\n",
       "    </tr>\n",
       "    <tr>\n",
       "      <th>520</th>\n",
       "      <td>32.0</td>\n",
       "      <td>U</td>\n",
       "      <td>S</td>\n",
       "      <td>7.8958</td>\n",
       "      <td>Pavlovic, Mr. Stefo</td>\n",
       "      <td>0</td>\n",
       "      <td>3</td>\n",
       "      <td>male</td>\n",
       "      <td>0</td>\n",
       "      <td>349242</td>\n",
       "    </tr>\n",
       "    <tr>\n",
       "      <th>245</th>\n",
       "      <td>30.0</td>\n",
       "      <td>U</td>\n",
       "      <td>C</td>\n",
       "      <td>7.2250</td>\n",
       "      <td>Attalah, Mr. Sleiman</td>\n",
       "      <td>0</td>\n",
       "      <td>3</td>\n",
       "      <td>male</td>\n",
       "      <td>0</td>\n",
       "      <td>2694</td>\n",
       "    </tr>\n",
       "    <tr>\n",
       "      <th>208</th>\n",
       "      <td>26.0</td>\n",
       "      <td>U</td>\n",
       "      <td>C</td>\n",
       "      <td>18.7875</td>\n",
       "      <td>Albimona, Mr. Nassef Cassem</td>\n",
       "      <td>0</td>\n",
       "      <td>3</td>\n",
       "      <td>male</td>\n",
       "      <td>0</td>\n",
       "      <td>2699</td>\n",
       "    </tr>\n",
       "    <tr>\n",
       "      <th>4</th>\n",
       "      <td>35.0</td>\n",
       "      <td>C</td>\n",
       "      <td>S</td>\n",
       "      <td>53.1000</td>\n",
       "      <td>Futrelle, Mrs. Jacques Heath (Lily May Peel)</td>\n",
       "      <td>0</td>\n",
       "      <td>1</td>\n",
       "      <td>female</td>\n",
       "      <td>1</td>\n",
       "      <td>113803</td>\n",
       "    </tr>\n",
       "    <tr>\n",
       "      <th>800</th>\n",
       "      <td>30.0</td>\n",
       "      <td>U</td>\n",
       "      <td>S</td>\n",
       "      <td>24.1500</td>\n",
       "      <td>Van Impe, Mrs. Jean Baptiste (Rosalie Paula Go...</td>\n",
       "      <td>1</td>\n",
       "      <td>3</td>\n",
       "      <td>female</td>\n",
       "      <td>1</td>\n",
       "      <td>345773</td>\n",
       "    </tr>\n",
       "    <tr>\n",
       "      <th>178</th>\n",
       "      <td>50.0</td>\n",
       "      <td>C</td>\n",
       "      <td>C</td>\n",
       "      <td>28.7125</td>\n",
       "      <td>Isham, Miss. Ann Elizabeth</td>\n",
       "      <td>0</td>\n",
       "      <td>1</td>\n",
       "      <td>female</td>\n",
       "      <td>0</td>\n",
       "      <td>PC 17595</td>\n",
       "    </tr>\n",
       "    <tr>\n",
       "      <th>682</th>\n",
       "      <td>27.0</td>\n",
       "      <td>D</td>\n",
       "      <td>C</td>\n",
       "      <td>76.7292</td>\n",
       "      <td>Hassab, Mr. Hammad</td>\n",
       "      <td>0</td>\n",
       "      <td>1</td>\n",
       "      <td>male</td>\n",
       "      <td>0</td>\n",
       "      <td>PC 17572</td>\n",
       "    </tr>\n",
       "    <tr>\n",
       "      <th>409</th>\n",
       "      <td>21.0</td>\n",
       "      <td>U</td>\n",
       "      <td>S</td>\n",
       "      <td>7.7750</td>\n",
       "      <td>Birkeland, Mr. Hans Martin Monsen</td>\n",
       "      <td>0</td>\n",
       "      <td>3</td>\n",
       "      <td>male</td>\n",
       "      <td>0</td>\n",
       "      <td>312992</td>\n",
       "    </tr>\n",
       "  </tbody>\n",
       "</table>\n",
       "</div>"
      ],
      "text/plain": [
       "              Age Cabin Embarked     Fare  \\\n",
       "PassengerId                                 \n",
       "557          48.0     A        C  39.6000   \n",
       "49            NaN     U        C  21.6792   \n",
       "520          32.0     U        S   7.8958   \n",
       "245          30.0     U        C   7.2250   \n",
       "208          26.0     U        C  18.7875   \n",
       "4            35.0     C        S  53.1000   \n",
       "800          30.0     U        S  24.1500   \n",
       "178          50.0     C        C  28.7125   \n",
       "682          27.0     D        C  76.7292   \n",
       "409          21.0     U        S   7.7750   \n",
       "\n",
       "                                                          Name  Parch  Pclass  \\\n",
       "PassengerId                                                                     \n",
       "557          Duff Gordon, Lady. (Lucille Christiana Sutherl...      0       1   \n",
       "49                                         Samaan, Mr. Youssef      0       3   \n",
       "520                                        Pavlovic, Mr. Stefo      0       3   \n",
       "245                                       Attalah, Mr. Sleiman      0       3   \n",
       "208                                Albimona, Mr. Nassef Cassem      0       3   \n",
       "4                 Futrelle, Mrs. Jacques Heath (Lily May Peel)      0       1   \n",
       "800          Van Impe, Mrs. Jean Baptiste (Rosalie Paula Go...      1       3   \n",
       "178                                 Isham, Miss. Ann Elizabeth      0       1   \n",
       "682                                         Hassab, Mr. Hammad      0       1   \n",
       "409                          Birkeland, Mr. Hans Martin Monsen      0       3   \n",
       "\n",
       "                Sex  SibSp    Ticket  \n",
       "PassengerId                           \n",
       "557          female      1     11755  \n",
       "49             male      2      2662  \n",
       "520            male      0    349242  \n",
       "245            male      0      2694  \n",
       "208            male      0      2699  \n",
       "4            female      1    113803  \n",
       "800          female      1    345773  \n",
       "178          female      0  PC 17595  \n",
       "682            male      0  PC 17572  \n",
       "409            male      0    312992  "
      ]
     },
     "execution_count": 25,
     "metadata": {},
     "output_type": "execute_result"
    }
   ],
   "source": [
    "def replace_cabin_name_by_single_letter(df, cabin ='Cabin'):    ## THIS FUNCTION SHOULD GO INTO TRANSFORMER NOT IN IMPUTER\n",
    "    # mapping each Cabin value with the cabin letter\n",
    "    df_cp = df.copy()\n",
    "    df_cp[cabin] = df_cp[cabin].map(lambda c : c[0])\n",
    "    return df_cp\n",
    "X_train = replace_cabin_name_by_single_letter(X_train)\n",
    "X_train.head(10)"
   ]
  },
  {
   "cell_type": "code",
   "execution_count": 26,
   "metadata": {},
   "outputs": [
    {
     "data": {
      "text/plain": [
       "U    439\n",
       "C     38\n",
       "B     32\n",
       "E     21\n",
       "D     20\n",
       "A      9\n",
       "F      8\n",
       "G      1\n",
       "T      1\n",
       "Name: Cabin, dtype: int64"
      ]
     },
     "execution_count": 26,
     "metadata": {},
     "output_type": "execute_result"
    }
   ],
   "source": [
    "X_train['Cabin'].value_counts()"
   ]
  },
  {
   "cell_type": "code",
   "execution_count": 27,
   "metadata": {},
   "outputs": [
    {
     "data": {
      "image/png": "[encoded data removed]",
      "text/plain": [
       "<matplotlib.figure.Figure at 0x10e8b3940>"
      ]
     },
     "metadata": {},
     "output_type": "display_data"
    }
   ],
   "source": [
    "### Lets see if there is any pattern to the survival based on cabin category\n",
    "def survived_by_cabin (X,y):\n",
    "    X_copy = X\n",
    "    X_copy[list(y.columns)] = y\n",
    "    counts_by_cabin = X_copy['Cabin'].value_counts()\n",
    "    survived_by_cabin = X_copy[X_copy['Survived'] == 1]['Cabin'].value_counts()\n",
    "    frac_surv_by_cabin = (1.0*survived_by_cabin)/counts_by_cabin\n",
    "    return frac_surv_by_cabin\n",
    "d = pd.DataFrame( survived_by_cabin(X_train,y_train) )\n",
    "#d.loc[ ['Baby', 'Child', 'Young', 'Adult', 'Old', 'Very_Old'] ].plot(kind='bar')\n",
    "d.plot(kind='bar')\n",
    "plt.show()\n",
    "## Looks like Cabin letter is also a good indicator - If you are U or T or A you have much less chance\n",
    "## If you are B, C, D, E, you have way better chance"
   ]
  },
  {
   "cell_type": "markdown",
   "metadata": {},
   "source": [
    "### EXTRACT TITLE FROM NAME\n",
    "While we are at it we can extract several titles\n",
    "\n",
    "Master\n",
    "Mr\n",
    "Miss\n",
    "Mrs\n",
    "Professional for Dr and Rev\n",
    "Military for Maj, Cap, Col, Sgt,...\n",
    "Nobility for Hon, Count, Countess, Don\n",
    "\n",
    "We will get all the titles by value_counts()"
   ]
  },
  {
   "cell_type": "code",
   "execution_count": 28,
   "metadata": {},
   "outputs": [
    {
     "data": {
      "text/plain": [
       "Mr              517\n",
       "Miss            182\n",
       "Mrs             125\n",
       "Master           40\n",
       "Dr                7\n",
       "Rev               6\n",
       "Col               2\n",
       "Mlle              2\n",
       "Major             2\n",
       "Don               1\n",
       "Lady              1\n",
       "Ms                1\n",
       "Mme               1\n",
       "Jonkheer          1\n",
       "the Countess      1\n",
       "Capt              1\n",
       "Sir               1\n",
       "Name: Title, dtype: int64"
      ]
     },
     "execution_count": 28,
     "metadata": {},
     "output_type": "execute_result"
    }
   ],
   "source": [
    "def extract_titles_1 (df1, column = 'Name'):\n",
    "    df = df1.copy()\n",
    "    df['Title'] = df[column].map( lambda name: name.split(',')[1].split('.')[0].strip() )\n",
    "    title_counts = df['Title'].value_counts()\n",
    "    return title_counts\n",
    "extract_titles_1 (raw_data)"
   ]
  },
  {
   "cell_type": "code",
   "execution_count": 29,
   "metadata": {
    "collapsed": true
   },
   "outputs": [],
   "source": [
    "## Keep dictionary of titles\n",
    "title_dict = {\n",
    "    'Mr' : 'Mr',\n",
    "    'Miss' : 'Miss',\n",
    "    'Mrs' : 'Mrs', 'Ms' : 'Mrs',\n",
    "    'Master' : 'Master',\n",
    "    'Dr' : 'Professional',  'Rev' : 'Professional',\n",
    "    'Col' : 'Military', 'Maj' : 'Military', 'Capt' : 'Military',\n",
    "    'Lady' : 'Nobility', 'Sir' : 'Nobility', 'Mlle' : 'Nobility', 'Mme' : 'Nobility',\n",
    "    'Don' : 'Nobility', 'the Countess' : 'Nobility', 'Jonkheer'  : 'Nobility',\n",
    "}"
   ]
  },
  {
   "cell_type": "code",
   "execution_count": 30,
   "metadata": {},
   "outputs": [
    {
     "name": "stdout",
     "output_type": "stream",
     "text": [
      "Title counts in raw_data\n"
     ]
    },
    {
     "data": {
      "text/plain": [
       "Mr              517\n",
       "Miss            182\n",
       "Mrs             126\n",
       "Master           40\n",
       "Professional     13\n",
       "Nobility          8\n",
       "Military          3\n",
       "Name: Title, dtype: int64"
      ]
     },
     "execution_count": 30,
     "metadata": {},
     "output_type": "execute_result"
    }
   ],
   "source": [
    "def extract_titles_2 (df1, column = 'Name'):\n",
    "    df = df1.copy()\n",
    "    df['Title'] = df[column].map( lambda name: name.split(',')[1].split('.')[0].strip() )\n",
    "    df['Title'] = df['Title'].map(title_dict)\n",
    "    title_counts = df['Title'].value_counts()\n",
    "    return title_counts\n",
    "print(\"Title counts in raw_data\")\n",
    "extract_titles_2 (raw_data)\n"
   ]
  },
  {
   "cell_type": "code",
   "execution_count": 31,
   "metadata": {},
   "outputs": [
    {
     "data": {
      "text/html": [
       "<div>\n",
       "<style>\n",
       "    .dataframe thead tr:only-child th {\n",
       "        text-align: right;\n",
       "    }\n",
       "\n",
       "    .dataframe thead th {\n",
       "        text-align: left;\n",
       "    }\n",
       "\n",
       "    .dataframe tbody tr th {\n",
       "        vertical-align: top;\n",
       "    }\n",
       "</style>\n",
       "<table border=\"1\" class=\"dataframe\">\n",
       "  <thead>\n",
       "    <tr style=\"text-align: right;\">\n",
       "      <th></th>\n",
       "      <th>Age</th>\n",
       "      <th>Cabin</th>\n",
       "      <th>Embarked</th>\n",
       "      <th>Fare</th>\n",
       "      <th>Name</th>\n",
       "      <th>Parch</th>\n",
       "      <th>Pclass</th>\n",
       "      <th>Sex</th>\n",
       "      <th>SibSp</th>\n",
       "      <th>Ticket</th>\n",
       "      <th>Survived</th>\n",
       "      <th>Title</th>\n",
       "    </tr>\n",
       "    <tr>\n",
       "      <th>PassengerId</th>\n",
       "      <th></th>\n",
       "      <th></th>\n",
       "      <th></th>\n",
       "      <th></th>\n",
       "      <th></th>\n",
       "      <th></th>\n",
       "      <th></th>\n",
       "      <th></th>\n",
       "      <th></th>\n",
       "      <th></th>\n",
       "      <th></th>\n",
       "      <th></th>\n",
       "    </tr>\n",
       "  </thead>\n",
       "  <tbody>\n",
       "    <tr>\n",
       "      <th>557</th>\n",
       "      <td>48.0</td>\n",
       "      <td>A</td>\n",
       "      <td>C</td>\n",
       "      <td>39.6000</td>\n",
       "      <td>Duff Gordon, Lady. (Lucille Christiana Sutherl...</td>\n",
       "      <td>0</td>\n",
       "      <td>1</td>\n",
       "      <td>female</td>\n",
       "      <td>1</td>\n",
       "      <td>11755</td>\n",
       "      <td>1</td>\n",
       "      <td>Nobility</td>\n",
       "    </tr>\n",
       "    <tr>\n",
       "      <th>49</th>\n",
       "      <td>NaN</td>\n",
       "      <td>U</td>\n",
       "      <td>C</td>\n",
       "      <td>21.6792</td>\n",
       "      <td>Samaan, Mr. Youssef</td>\n",
       "      <td>0</td>\n",
       "      <td>3</td>\n",
       "      <td>male</td>\n",
       "      <td>2</td>\n",
       "      <td>2662</td>\n",
       "      <td>0</td>\n",
       "      <td>Mr</td>\n",
       "    </tr>\n",
       "    <tr>\n",
       "      <th>520</th>\n",
       "      <td>32.0</td>\n",
       "      <td>U</td>\n",
       "      <td>S</td>\n",
       "      <td>7.8958</td>\n",
       "      <td>Pavlovic, Mr. Stefo</td>\n",
       "      <td>0</td>\n",
       "      <td>3</td>\n",
       "      <td>male</td>\n",
       "      <td>0</td>\n",
       "      <td>349242</td>\n",
       "      <td>0</td>\n",
       "      <td>Mr</td>\n",
       "    </tr>\n",
       "    <tr>\n",
       "      <th>245</th>\n",
       "      <td>30.0</td>\n",
       "      <td>U</td>\n",
       "      <td>C</td>\n",
       "      <td>7.2250</td>\n",
       "      <td>Attalah, Mr. Sleiman</td>\n",
       "      <td>0</td>\n",
       "      <td>3</td>\n",
       "      <td>male</td>\n",
       "      <td>0</td>\n",
       "      <td>2694</td>\n",
       "      <td>0</td>\n",
       "      <td>Mr</td>\n",
       "    </tr>\n",
       "    <tr>\n",
       "      <th>208</th>\n",
       "      <td>26.0</td>\n",
       "      <td>U</td>\n",
       "      <td>C</td>\n",
       "      <td>18.7875</td>\n",
       "      <td>Albimona, Mr. Nassef Cassem</td>\n",
       "      <td>0</td>\n",
       "      <td>3</td>\n",
       "      <td>male</td>\n",
       "      <td>0</td>\n",
       "      <td>2699</td>\n",
       "      <td>1</td>\n",
       "      <td>Mr</td>\n",
       "    </tr>\n",
       "  </tbody>\n",
       "</table>\n",
       "</div>"
      ],
      "text/plain": [
       "              Age Cabin Embarked     Fare  \\\n",
       "PassengerId                                 \n",
       "557          48.0     A        C  39.6000   \n",
       "49            NaN     U        C  21.6792   \n",
       "520          32.0     U        S   7.8958   \n",
       "245          30.0     U        C   7.2250   \n",
       "208          26.0     U        C  18.7875   \n",
       "\n",
       "                                                          Name  Parch  Pclass  \\\n",
       "PassengerId                                                                     \n",
       "557          Duff Gordon, Lady. (Lucille Christiana Sutherl...      0       1   \n",
       "49                                         Samaan, Mr. Youssef      0       3   \n",
       "520                                        Pavlovic, Mr. Stefo      0       3   \n",
       "245                                       Attalah, Mr. Sleiman      0       3   \n",
       "208                                Albimona, Mr. Nassef Cassem      0       3   \n",
       "\n",
       "                Sex  SibSp  Ticket  Survived     Title  \n",
       "PassengerId                                             \n",
       "557          female      1   11755         1  Nobility  \n",
       "49             male      2    2662         0        Mr  \n",
       "520            male      0  349242         0        Mr  \n",
       "245            male      0    2694         0        Mr  \n",
       "208            male      0    2699         1        Mr  "
      ]
     },
     "execution_count": 31,
     "metadata": {},
     "output_type": "execute_result"
    }
   ],
   "source": [
    "def extract_titles (df1, column = 'Name'):  #### THIS IS WHAT WE WANT IN THE FINAL TRANSFORMATION\n",
    "    df = df1.copy()\n",
    "    df['Title'] = df[column].map( lambda name: name.split(',')[1].split('.')[0].strip() )\n",
    "    df['Title'] = df['Title'].map(title_dict)\n",
    "#    title_counts = df['Title'].value_counts()\n",
    "    return df\n",
    "X_train = extract_titles (X_train)\n",
    "X_train.head()"
   ]
  },
  {
   "cell_type": "code",
   "execution_count": 32,
   "metadata": {},
   "outputs": [
    {
     "data": {
      "image/png": "[encoded data removed]",
      "text/plain": [
       "<matplotlib.figure.Figure at 0x10e997e10>"
      ]
     },
     "metadata": {},
     "output_type": "display_data"
    }
   ],
   "source": [
    "## Lets visualize to see if this rerived feature will be effective\n",
    "def survived_by_title (X,y):\n",
    "    X_copy = X\n",
    "    X_copy[list(y.columns)] = y\n",
    "    counts_by_title = X_copy['Title'].value_counts()\n",
    "    survived_by_title = X_copy[X_copy['Survived'] == 1]['Title'].value_counts()\n",
    "    frac_surv_by_title = (1.0*survived_by_title)/counts_by_title\n",
    "    return frac_surv_by_title\n",
    "d = pd.DataFrame( survived_by_title(X_train,y_train) )\n",
    "#d.loc[ ['Baby', 'Child', 'Young', 'Adult', 'Old', 'Very_Old'] ].plot(kind='bar')\n",
    "d.plot(kind='bar')\n",
    "plt.show()\n",
    "## Apears to be a good categorizer - has distinct reaction: If you are Mr or Milaitary or Professional, you are doomed\n",
    "## If you are a Master or Miss or Mrs or Nobility you have way better chance"
   ]
  },
  {
   "cell_type": "markdown",
   "metadata": {},
   "source": [
    "### HOW ARE AGES DISTRIBUTED? SHOULD WE BIN AGES TO CAPTURE EFFECT BASED ON AGE_GROUPS?\n",
    "THE RESULT BELOW SHOWS THAT AGGREGATING MASTER AND MISS WOULD NOT CAPTURE YOUNG CHILDREN AS A SEPARATE GROUP"
   ]
  },
  {
   "cell_type": "code",
   "execution_count": 33,
   "metadata": {},
   "outputs": [
    {
     "data": {
      "text/plain": [
       "Title\n",
       "Master           4.0\n",
       "Military        60.0\n",
       "Miss            21.0\n",
       "Mr              29.5\n",
       "Mrs             36.0\n",
       "Nobility        24.0\n",
       "Professional    44.0\n",
       "Name: Age, dtype: float64"
      ]
     },
     "execution_count": 33,
     "metadata": {},
     "output_type": "execute_result"
    }
   ],
   "source": [
    "X_train.groupby('Title')['Age'].median()"
   ]
  },
  {
   "cell_type": "markdown",
   "metadata": {},
   "source": [
    "#### AGGREGATING BY AGE GROUPS"
   ]
  },
  {
   "cell_type": "code",
   "execution_count": 34,
   "metadata": {
    "collapsed": true
   },
   "outputs": [],
   "source": [
    "def add_age_group(df):\n",
    "    df_cp = df.copy()\n",
    "    age_groups = ['Baby', 'Child', 'Young', 'Adult', 'Old', 'Very_Old']\n",
    "    age_bins = [0, 2, 10, 18, 55, 70, 120]\n",
    "    df_cp['Age_Group'] = pd.cut(df_cp.Age, age_bins, right=False, labels=age_groups)\n",
    "    return df_cp\n",
    "\n",
    "X_train = add_age_group(X_train)"
   ]
  },
  {
   "cell_type": "code",
   "execution_count": 35,
   "metadata": {},
   "outputs": [
    {
     "data": {
      "text/html": [
       "<div>\n",
       "<style>\n",
       "    .dataframe thead tr:only-child th {\n",
       "        text-align: right;\n",
       "    }\n",
       "\n",
       "    .dataframe thead th {\n",
       "        text-align: left;\n",
       "    }\n",
       "\n",
       "    .dataframe tbody tr th {\n",
       "        vertical-align: top;\n",
       "    }\n",
       "</style>\n",
       "<table border=\"1\" class=\"dataframe\">\n",
       "  <thead>\n",
       "    <tr style=\"text-align: right;\">\n",
       "      <th></th>\n",
       "      <th>Age</th>\n",
       "      <th>Cabin</th>\n",
       "      <th>Embarked</th>\n",
       "      <th>Fare</th>\n",
       "      <th>Name</th>\n",
       "      <th>Parch</th>\n",
       "      <th>Pclass</th>\n",
       "      <th>Sex</th>\n",
       "      <th>SibSp</th>\n",
       "      <th>Ticket</th>\n",
       "      <th>Survived</th>\n",
       "      <th>Title</th>\n",
       "      <th>Age_Group</th>\n",
       "    </tr>\n",
       "    <tr>\n",
       "      <th>PassengerId</th>\n",
       "      <th></th>\n",
       "      <th></th>\n",
       "      <th></th>\n",
       "      <th></th>\n",
       "      <th></th>\n",
       "      <th></th>\n",
       "      <th></th>\n",
       "      <th></th>\n",
       "      <th></th>\n",
       "      <th></th>\n",
       "      <th></th>\n",
       "      <th></th>\n",
       "      <th></th>\n",
       "    </tr>\n",
       "  </thead>\n",
       "  <tbody>\n",
       "    <tr>\n",
       "      <th>557</th>\n",
       "      <td>48.0</td>\n",
       "      <td>A</td>\n",
       "      <td>C</td>\n",
       "      <td>39.6</td>\n",
       "      <td>Duff Gordon, Lady. (Lucille Christiana Sutherl...</td>\n",
       "      <td>0</td>\n",
       "      <td>1</td>\n",
       "      <td>female</td>\n",
       "      <td>1</td>\n",
       "      <td>11755</td>\n",
       "      <td>1</td>\n",
       "      <td>Nobility</td>\n",
       "      <td>Adult</td>\n",
       "    </tr>\n",
       "  </tbody>\n",
       "</table>\n",
       "</div>"
      ],
      "text/plain": [
       "              Age Cabin Embarked  Fare  \\\n",
       "PassengerId                              \n",
       "557          48.0     A        C  39.6   \n",
       "\n",
       "                                                          Name  Parch  Pclass  \\\n",
       "PassengerId                                                                     \n",
       "557          Duff Gordon, Lady. (Lucille Christiana Sutherl...      0       1   \n",
       "\n",
       "                Sex  SibSp Ticket  Survived     Title Age_Group  \n",
       "PassengerId                                                      \n",
       "557          female      1  11755         1  Nobility     Adult  "
      ]
     },
     "execution_count": 35,
     "metadata": {},
     "output_type": "execute_result"
    }
   ],
   "source": [
    "#X_train = X_train.drop('Age_Group', axis = 1)\n",
    "X_train.head(1)"
   ]
  },
  {
   "cell_type": "code",
   "execution_count": 36,
   "metadata": {},
   "outputs": [
    {
     "data": {
      "text/plain": [
       "pandas.core.series.Series"
      ]
     },
     "execution_count": 36,
     "metadata": {},
     "output_type": "execute_result"
    }
   ],
   "source": [
    "age_medians = X_train.groupby('Age_Group')['Age'].median()\n",
    "age_medians.__class__"
   ]
  },
  {
   "cell_type": "code",
   "execution_count": 37,
   "metadata": {},
   "outputs": [
    {
     "data": {
      "text/plain": [
       "0.92000000000000004"
      ]
     },
     "execution_count": 37,
     "metadata": {},
     "output_type": "execute_result"
    }
   ],
   "source": [
    "age_medians['Baby']"
   ]
  },
  {
   "cell_type": "code",
   "execution_count": 38,
   "metadata": {},
   "outputs": [
    {
     "data": {
      "text/plain": [
       "Age_Group\n",
       "Baby         0.92\n",
       "Child        5.00\n",
       "Young       16.00\n",
       "Adult       30.00\n",
       "Old         59.50\n",
       "Very_Old    70.75\n",
       "Name: Age, dtype: float64"
      ]
     },
     "execution_count": 38,
     "metadata": {},
     "output_type": "execute_result"
    }
   ],
   "source": [
    "age_medians"
   ]
  },
  {
   "cell_type": "code",
   "execution_count": 39,
   "metadata": {},
   "outputs": [
    {
     "data": {
      "text/plain": [
       "Adult       362\n",
       "Young        35\n",
       "Child        29\n",
       "Old          20\n",
       "Baby          9\n",
       "Very_Old      4\n",
       "Name: Age_Group, dtype: int64"
      ]
     },
     "execution_count": 39,
     "metadata": {},
     "output_type": "execute_result"
    }
   ],
   "source": [
    "X_train['Age_Group'].value_counts()"
   ]
  },
  {
   "cell_type": "code",
   "execution_count": 40,
   "metadata": {},
   "outputs": [
    {
     "data": {
      "image/png": "[encoded data removed]",
      "text/plain": [
       "<matplotlib.figure.Figure at 0x10e995080>"
      ]
     },
     "metadata": {},
     "output_type": "display_data"
    }
   ],
   "source": [
    "## LETS VISUALIZE THE SURVIVAL BY AGE GROUPS\n",
    "def survived_by_age (X,y):\n",
    "    X_copy = X\n",
    "    X_copy[list(y.columns)] = y\n",
    "    counts_by_age = X_copy['Age_Group'].value_counts()\n",
    "    survived_by_age = X_copy[X_copy['Survived'] == 1]['Age_Group'].value_counts()\n",
    "    frac_surv_by_age = (1.0*survived_by_age)/counts_by_age\n",
    "    return frac_surv_by_age\n",
    "d = pd.DataFrame( survived_by_age(X_train,y_train) )\n",
    "d.loc[ ['Baby', 'Child', 'Young', 'Adult', 'Old', 'Very_Old'] ].plot(kind='bar')\n",
    "plt.show()\n",
    "## Wow, no very old people survived and very high percentage of babies survived!!!\n",
    "## This age_group will be a significant derived feature"
   ]
  },
  {
   "cell_type": "markdown",
   "metadata": {},
   "source": [
    "### AGGREGATE TICKETS INTO SINGLE LETTER CATEGORIES\n",
    "MAYBE JUST LIKE CABIN, THERE IS SOME ORDER TO THE TICKET NUMBERING"
   ]
  },
  {
   "cell_type": "code",
   "execution_count": 41,
   "metadata": {},
   "outputs": [
    {
     "data": {
      "text/html": [
       "<div>\n",
       "<style>\n",
       "    .dataframe thead tr:only-child th {\n",
       "        text-align: right;\n",
       "    }\n",
       "\n",
       "    .dataframe thead th {\n",
       "        text-align: left;\n",
       "    }\n",
       "\n",
       "    .dataframe tbody tr th {\n",
       "        vertical-align: top;\n",
       "    }\n",
       "</style>\n",
       "<table border=\"1\" class=\"dataframe\">\n",
       "  <thead>\n",
       "    <tr style=\"text-align: right;\">\n",
       "      <th></th>\n",
       "      <th>Age</th>\n",
       "      <th>Cabin</th>\n",
       "      <th>Embarked</th>\n",
       "      <th>Fare</th>\n",
       "      <th>Name</th>\n",
       "      <th>Parch</th>\n",
       "      <th>Pclass</th>\n",
       "      <th>Sex</th>\n",
       "      <th>SibSp</th>\n",
       "      <th>Ticket</th>\n",
       "      <th>Survived</th>\n",
       "      <th>Title</th>\n",
       "      <th>Age_Group</th>\n",
       "    </tr>\n",
       "    <tr>\n",
       "      <th>PassengerId</th>\n",
       "      <th></th>\n",
       "      <th></th>\n",
       "      <th></th>\n",
       "      <th></th>\n",
       "      <th></th>\n",
       "      <th></th>\n",
       "      <th></th>\n",
       "      <th></th>\n",
       "      <th></th>\n",
       "      <th></th>\n",
       "      <th></th>\n",
       "      <th></th>\n",
       "      <th></th>\n",
       "    </tr>\n",
       "  </thead>\n",
       "  <tbody>\n",
       "    <tr>\n",
       "      <th>557</th>\n",
       "      <td>48.0</td>\n",
       "      <td>A</td>\n",
       "      <td>C</td>\n",
       "      <td>39.6000</td>\n",
       "      <td>Duff Gordon, Lady. (Lucille Christiana Sutherl...</td>\n",
       "      <td>0</td>\n",
       "      <td>1</td>\n",
       "      <td>female</td>\n",
       "      <td>1</td>\n",
       "      <td>1</td>\n",
       "      <td>1</td>\n",
       "      <td>Nobility</td>\n",
       "      <td>Adult</td>\n",
       "    </tr>\n",
       "    <tr>\n",
       "      <th>49</th>\n",
       "      <td>NaN</td>\n",
       "      <td>U</td>\n",
       "      <td>C</td>\n",
       "      <td>21.6792</td>\n",
       "      <td>Samaan, Mr. Youssef</td>\n",
       "      <td>0</td>\n",
       "      <td>3</td>\n",
       "      <td>male</td>\n",
       "      <td>2</td>\n",
       "      <td>2</td>\n",
       "      <td>0</td>\n",
       "      <td>Mr</td>\n",
       "      <td>NaN</td>\n",
       "    </tr>\n",
       "  </tbody>\n",
       "</table>\n",
       "</div>"
      ],
      "text/plain": [
       "              Age Cabin Embarked     Fare  \\\n",
       "PassengerId                                 \n",
       "557          48.0     A        C  39.6000   \n",
       "49            NaN     U        C  21.6792   \n",
       "\n",
       "                                                          Name  Parch  Pclass  \\\n",
       "PassengerId                                                                     \n",
       "557          Duff Gordon, Lady. (Lucille Christiana Sutherl...      0       1   \n",
       "49                                         Samaan, Mr. Youssef      0       3   \n",
       "\n",
       "                Sex  SibSp Ticket  Survived     Title Age_Group  \n",
       "PassengerId                                                      \n",
       "557          female      1      1         1  Nobility     Adult  \n",
       "49             male      2      2         0        Mr       NaN  "
      ]
     },
     "execution_count": 41,
     "metadata": {},
     "output_type": "execute_result"
    }
   ],
   "source": [
    "def replace_ticket_name_by_single_letter(df, ticket = 'Ticket'):    ## THIS FUNCTION SHOULD GO INTO TRANSFORMER NOT IN IMPUTER\n",
    "    # mapping each Cabin value with the cabin letter\n",
    "    df_cp = df.copy()\n",
    "    df_cp[ticket] = df_cp[ticket].map(lambda t : t[0])\n",
    "    return df_cp\n",
    "X_train = replace_ticket_name_by_single_letter(X_train)\n",
    "X_train.head(2)"
   ]
  },
  {
   "cell_type": "code",
   "execution_count": 42,
   "metadata": {},
   "outputs": [
    {
     "data": {
      "text/plain": [
       "3    196\n",
       "2    118\n",
       "1     98\n",
       "S     39\n",
       "P     32\n",
       "C     30\n",
       "A     16\n",
       "W     11\n",
       "7      8\n",
       "4      6\n",
       "6      4\n",
       "F      4\n",
       "5      3\n",
       "L      2\n",
       "9      1\n",
       "8      1\n",
       "Name: Ticket, dtype: int64"
      ]
     },
     "execution_count": 42,
     "metadata": {},
     "output_type": "execute_result"
    }
   ],
   "source": [
    "X_train['Ticket'].value_counts()"
   ]
  },
  {
   "cell_type": "code",
   "execution_count": 43,
   "metadata": {},
   "outputs": [
    {
     "data": {
      "image/png": "[encoded data removed]",
      "text/plain": [
       "<matplotlib.figure.Figure at 0x10eb727f0>"
      ]
     },
     "metadata": {},
     "output_type": "display_data"
    }
   ],
   "source": [
    "### Lets see if there is any pattern to the survival based on cabin category\n",
    "def survived_by_ticket (X,y):\n",
    "    X_copy = X\n",
    "    X_copy[list(y.columns)] = y\n",
    "    counts_by_ticket = X_copy['Ticket'].value_counts()\n",
    "    survived_by_ticket = X_copy[X_copy['Survived'] == 1]['Ticket'].value_counts()\n",
    "    frac_surv_by_ticket = (1.0*survived_by_ticket)/counts_by_ticket\n",
    "    return frac_surv_by_ticket\n",
    "d = pd.DataFrame( survived_by_ticket(X_train,y_train) )\n",
    "#d.loc[ ['Baby', 'Child', 'Young', 'Adult', 'Old', 'Very_Old'] ].plot(kind='bar')\n",
    "d.plot(kind='bar')\n",
    "plt.show()\n",
    "## Boy, if you were W, L, A, 5, 6, 7, 8 - you will be most likely dead\n",
    "## 1, 9, F, P - survived well \n",
    "## Looks like aggregating tickets is helpful"
   ]
  },
  {
   "cell_type": "markdown",
   "metadata": {},
   "source": [
    "### SHOULD WE COMBINE PARCH AND SIBSP INTO A FAMILY CATEGORY? MAYBE, FAMILIES SURVIVE TOGETHER OR PERISH TOGETHER\n"
   ]
  },
  {
   "cell_type": "code",
   "execution_count": 44,
   "metadata": {},
   "outputs": [
    {
     "data": {
      "text/html": [
       "<div>\n",
       "<style>\n",
       "    .dataframe thead tr:only-child th {\n",
       "        text-align: right;\n",
       "    }\n",
       "\n",
       "    .dataframe thead th {\n",
       "        text-align: left;\n",
       "    }\n",
       "\n",
       "    .dataframe tbody tr th {\n",
       "        vertical-align: top;\n",
       "    }\n",
       "</style>\n",
       "<table border=\"1\" class=\"dataframe\">\n",
       "  <thead>\n",
       "    <tr style=\"text-align: right;\">\n",
       "      <th></th>\n",
       "      <th>Age</th>\n",
       "      <th>Cabin</th>\n",
       "      <th>Embarked</th>\n",
       "      <th>Fare</th>\n",
       "      <th>Name</th>\n",
       "      <th>Parch</th>\n",
       "      <th>Pclass</th>\n",
       "      <th>Sex</th>\n",
       "      <th>SibSp</th>\n",
       "      <th>Ticket</th>\n",
       "      <th>Survived</th>\n",
       "      <th>Title</th>\n",
       "      <th>Age_Group</th>\n",
       "      <th>Family</th>\n",
       "    </tr>\n",
       "    <tr>\n",
       "      <th>PassengerId</th>\n",
       "      <th></th>\n",
       "      <th></th>\n",
       "      <th></th>\n",
       "      <th></th>\n",
       "      <th></th>\n",
       "      <th></th>\n",
       "      <th></th>\n",
       "      <th></th>\n",
       "      <th></th>\n",
       "      <th></th>\n",
       "      <th></th>\n",
       "      <th></th>\n",
       "      <th></th>\n",
       "      <th></th>\n",
       "    </tr>\n",
       "  </thead>\n",
       "  <tbody>\n",
       "    <tr>\n",
       "      <th>557</th>\n",
       "      <td>48.0</td>\n",
       "      <td>A</td>\n",
       "      <td>C</td>\n",
       "      <td>39.6000</td>\n",
       "      <td>Duff Gordon, Lady. (Lucille Christiana Sutherl...</td>\n",
       "      <td>0</td>\n",
       "      <td>1</td>\n",
       "      <td>female</td>\n",
       "      <td>1</td>\n",
       "      <td>1</td>\n",
       "      <td>1</td>\n",
       "      <td>Nobility</td>\n",
       "      <td>Adult</td>\n",
       "      <td>1</td>\n",
       "    </tr>\n",
       "    <tr>\n",
       "      <th>49</th>\n",
       "      <td>NaN</td>\n",
       "      <td>U</td>\n",
       "      <td>C</td>\n",
       "      <td>21.6792</td>\n",
       "      <td>Samaan, Mr. Youssef</td>\n",
       "      <td>0</td>\n",
       "      <td>3</td>\n",
       "      <td>male</td>\n",
       "      <td>2</td>\n",
       "      <td>2</td>\n",
       "      <td>0</td>\n",
       "      <td>Mr</td>\n",
       "      <td>NaN</td>\n",
       "      <td>2</td>\n",
       "    </tr>\n",
       "    <tr>\n",
       "      <th>520</th>\n",
       "      <td>32.0</td>\n",
       "      <td>U</td>\n",
       "      <td>S</td>\n",
       "      <td>7.8958</td>\n",
       "      <td>Pavlovic, Mr. Stefo</td>\n",
       "      <td>0</td>\n",
       "      <td>3</td>\n",
       "      <td>male</td>\n",
       "      <td>0</td>\n",
       "      <td>3</td>\n",
       "      <td>0</td>\n",
       "      <td>Mr</td>\n",
       "      <td>Adult</td>\n",
       "      <td>0</td>\n",
       "    </tr>\n",
       "    <tr>\n",
       "      <th>245</th>\n",
       "      <td>30.0</td>\n",
       "      <td>U</td>\n",
       "      <td>C</td>\n",
       "      <td>7.2250</td>\n",
       "      <td>Attalah, Mr. Sleiman</td>\n",
       "      <td>0</td>\n",
       "      <td>3</td>\n",
       "      <td>male</td>\n",
       "      <td>0</td>\n",
       "      <td>2</td>\n",
       "      <td>0</td>\n",
       "      <td>Mr</td>\n",
       "      <td>Adult</td>\n",
       "      <td>0</td>\n",
       "    </tr>\n",
       "    <tr>\n",
       "      <th>208</th>\n",
       "      <td>26.0</td>\n",
       "      <td>U</td>\n",
       "      <td>C</td>\n",
       "      <td>18.7875</td>\n",
       "      <td>Albimona, Mr. Nassef Cassem</td>\n",
       "      <td>0</td>\n",
       "      <td>3</td>\n",
       "      <td>male</td>\n",
       "      <td>0</td>\n",
       "      <td>2</td>\n",
       "      <td>1</td>\n",
       "      <td>Mr</td>\n",
       "      <td>Adult</td>\n",
       "      <td>0</td>\n",
       "    </tr>\n",
       "  </tbody>\n",
       "</table>\n",
       "</div>"
      ],
      "text/plain": [
       "              Age Cabin Embarked     Fare  \\\n",
       "PassengerId                                 \n",
       "557          48.0     A        C  39.6000   \n",
       "49            NaN     U        C  21.6792   \n",
       "520          32.0     U        S   7.8958   \n",
       "245          30.0     U        C   7.2250   \n",
       "208          26.0     U        C  18.7875   \n",
       "\n",
       "                                                          Name  Parch  Pclass  \\\n",
       "PassengerId                                                                     \n",
       "557          Duff Gordon, Lady. (Lucille Christiana Sutherl...      0       1   \n",
       "49                                         Samaan, Mr. Youssef      0       3   \n",
       "520                                        Pavlovic, Mr. Stefo      0       3   \n",
       "245                                       Attalah, Mr. Sleiman      0       3   \n",
       "208                                Albimona, Mr. Nassef Cassem      0       3   \n",
       "\n",
       "                Sex  SibSp Ticket  Survived     Title Age_Group  Family  \n",
       "PassengerId                                                              \n",
       "557          female      1      1         1  Nobility     Adult       1  \n",
       "49             male      2      2         0        Mr       NaN       2  \n",
       "520            male      0      3         0        Mr     Adult       0  \n",
       "245            male      0      2         0        Mr     Adult       0  \n",
       "208            male      0      2         1        Mr     Adult       0  "
      ]
     },
     "execution_count": 44,
     "metadata": {},
     "output_type": "execute_result"
    }
   ],
   "source": [
    "def add_family(df):   \n",
    "    df1 = df.copy()\n",
    "    df1['Family'] = df1['Parch'] + df1['SibSp']\n",
    "    return df1\n",
    "X_train = add_family(X_train)\n",
    "X_train.head()"
   ]
  },
  {
   "cell_type": "code",
   "execution_count": 45,
   "metadata": {},
   "outputs": [
    {
     "data": {
      "image/png": "[encoded data removed]",
      "text/plain": [
       "<matplotlib.figure.Figure at 0x10eaad6a0>"
      ]
     },
     "metadata": {},
     "output_type": "display_data"
    }
   ],
   "source": [
    "## Lets display to see if this makes a difference\n",
    "def survived_by_family (X,y):\n",
    "    X_copy = X\n",
    "    X_copy[list(y.columns)] = y\n",
    "    counts_by_family = X_copy['Family'].value_counts()\n",
    "    survived_by_family = X_copy[X_copy['Survived'] == 1]['Family'].value_counts()\n",
    "    frac_surv_by_family = (1.0*survived_by_family)/counts_by_family\n",
    "    return frac_surv_by_family\n",
    "d = pd.DataFrame( survived_by_family(X_train,y_train) )\n",
    "d.plot(kind='bar')\n",
    "plt.show()"
   ]
  },
  {
   "cell_type": "markdown",
   "metadata": {},
   "source": [
    "### WHAT TO DO WITH FARES? \n",
    "MAYBE LEAVE IT THERE AS A FLOAT VARIABLE - IT IS PROBABLY REDUNDANT SINCE THE INFORMATION ABOUT FARE IS WELL-AGGREGATED IN PCLASS"
   ]
  },
  {
   "cell_type": "markdown",
   "metadata": {},
   "source": [
    "## SUMMARY OF TRANSFORMATIONS TO BE PERFORMED ON DATA - USING PIPELINE\n",
    "#### IMPUTE:\n",
    "##### FILL NAN IN ALL FLOAT VARIABLES BY MEDIAN - AGE AND FARE THE ONLY FLOAT VARIABLES\n",
    "##### FILL NAN IN CABIN BY LETTER U\n",
    "##### TYPE-CAST DTYPE OF ALL CATEGORIES TO OBJECTS\n",
    "##### FILL NAN IN OBJECTS BY MODES IN EACH CASE\n",
    "#### DERIVED VARIABLES: \n",
    "##### COVERT CABIN TO SINGLE CHARACTER CATEGORIES\n",
    "##### EXTRACT AND ADD A NEW TITLE COLUMN\n",
    "##### ADD AGE_GROUP COLUMN\n",
    "##### CONVERT TICKET TO SINGLE CHANRATER CATEGORIES\n",
    "##### ADD FAMILY CATEGORY\n",
    "### WRITE TRANSFORMATIONS IN THE SPIRIT OF SKLEARN DEISGN PRINCIPLES\n",
    "### START WITH FRESH COPY OF X_TRAIN, X_VALID, X_TEST AND APPLY THESE TRANSFORMATIONS"
   ]
  },
  {
   "cell_type": "code",
   "execution_count": 46,
   "metadata": {},
   "outputs": [],
   "source": [
    "IS_SAMPLE = False\n",
    "is_sample = IS_SAMPLE\n",
    "if is_sample:  \n",
    "  path_to_pickle_file = PICKLE_FILE_SAMPLE_DATA\n",
    "else:\n",
    "  path_to_pickle_file = PICKLE_FILE_ALL_DATA\n",
    "\n",
    "load_pickle_data(path_to_pickle_file, is_sample)\n",
    "X_train, y_train, X_valid, y_valid, X_test, y_test = load_pickle_data(path_to_pickle_file, is_sample)\n",
    "## NOTE: THIS X_TEST IS NOT THE TEST DATA PROVIDED FOR THE PROJECT\n",
    "#X_train.head()"
   ]
  },
  {
   "cell_type": "code",
   "execution_count": 47,
   "metadata": {},
   "outputs": [],
   "source": [
    "def separate_features_into_dtypes (df):\n",
    "    ''' separate out features according to dtypes'''\n",
    "    float_features = df.dtypes == np.float64\n",
    "    int_features = df.dtypes == np.int64\n",
    "    obj_features = df.dtypes == np.object\n",
    "    df_floats = df.loc[:, float_features]\n",
    "    df_ints = df.loc[:, int_features]\n",
    "    df_objs = df.loc[:, obj_features]\n",
    "    return df_floats, df_ints, df_objs\n",
    "\n",
    "#X_train_floats, X_train_ints, X_train_objs = separate_features_into_dtypes (X_train)  \n",
    "#print( X_train_floats.head(2) )   \n",
    "#print( X_train_ints.head(2) ) \n",
    "#print( X_train_objs.head(2) ) "
   ]
  },
  {
   "cell_type": "markdown",
   "metadata": {},
   "source": [
    "### IMPUTE CLASS"
   ]
  },
  {
   "cell_type": "code",
   "execution_count": 48,
   "metadata": {},
   "outputs": [],
   "source": [
    "from sklearn.base import TransformerMixin\n",
    "import numpy as np\n",
    "class DataFrameImputer(TransformerMixin):\n",
    "\n",
    "    def __init__(self):\n",
    "        \"\"\"Impute missing values.\n",
    "        Columns of dtype object or int64 are imputed with the most frequent value \n",
    "        in column.\n",
    "        Columns of other types are imputed with median of column. I modified this from ean to median.\n",
    "\n",
    "        \"\"\"\n",
    "    def fit(self, X, y=None): \n",
    "        return self\n",
    "\n",
    "    def transform(self, X, y=None):\n",
    "        for col in X:\n",
    "            c1 = pd.DataFrame(X[col], index = X.index)\n",
    "            if c1.isnull().values.any():\n",
    "                if c1.dtypes[0] == np.float64:\n",
    "                    c1.fillna(c1.median(), inplace=True)\n",
    "                elif c1.columns[0] == \"Cabin\":\n",
    "                    for idx in c1.index:\n",
    "                        if pd.isnull(c1.loc[idx, col]):\n",
    "                            c1.loc[idx, col] = 'U'\n",
    "                else:\n",
    "                    dummy_mode = X[col].value_counts().index[0]\n",
    "                    for idx in c1.index:\n",
    "                        if pd.isnull(c1.loc[idx, col]):\n",
    "                            c1.loc[idx, col] = dummy_mode\n",
    "#                new_col_name = c1.columns[0]+'_filled'\n",
    "                new_col_name = c1.columns[0]\n",
    "                X[new_col_name] = c1\n",
    "#                X = X.drop(c1.columns[0], axis = 1)\n",
    "        \n",
    "        return X\n",
    "\n",
    "#dfi = DataFrameImputer()\n",
    "#X_train_cp = X_train.copy()\n",
    "#dfi.fit(X_train_cp)\n",
    "#X_train_cp = dfi.transform(X_train_cp)\n",
    "#X_train_cp.head(15)\n",
    "#X_test_cp = X_test.copy()\n",
    "#X_test_cp = dfi.transform(X_test_cp)\n",
    "#X_test_cp.head(20)"
   ]
  },
  {
   "cell_type": "code",
   "execution_count": 49,
   "metadata": {},
   "outputs": [],
   "source": [
    "#print(\"Does any column have NaNs?\")\n",
    "#pd.isnull(X_test_cp).any() ## check if the imputer did its job on X_train_cp"
   ]
  },
  {
   "cell_type": "markdown",
   "metadata": {},
   "source": [
    "### DERIVED_FEATURES_ADDER"
   ]
  },
  {
   "cell_type": "code",
   "execution_count": 50,
   "metadata": {},
   "outputs": [],
   "source": [
    "from sklearn.base import BaseEstimator, TransformerMixin\n",
    "class Derived_Features_Adder( BaseEstimator, TransformerMixin ):\n",
    "    def __init__(self, add_new_features = True): ## No *arg or **kargs needed\n",
    "        #add_new_features is hyper parameter that can be used to turn off use of thee features\n",
    "        add_new_features = add_new_features\n",
    "    def fit(self, X, y = None):\n",
    "        return self  ## nothing to fit from X_train; we want to add the same columns to all df\n",
    "    \n",
    "    def transform(self, X, y = None):\n",
    "        # this is where we add new columns or transform content of any column\n",
    "        ##### EXTRACT AND ADD A NEW TITLE COLUMN\n",
    "        ##### ADD AGE_GROUP COLUMN\n",
    "        ##### CONVERT TICKET TO SINGLE CHANRATER CATEGORIES\n",
    "        ##### ADD FAMILY CATEGORY\n",
    "        #### Drop Name\n",
    "        X_with_cabins = replace_cabin_name_by_single_letter(X)\n",
    "        X_with_titles = extract_titles(X_with_cabins)\n",
    "        X_with_age_groups = add_age_group(X_with_titles)\n",
    "        X_with_tickets = replace_ticket_name_by_single_letter(X_with_age_groups)\n",
    "        X_with_family =  add_family(X_with_tickets)\n",
    "        X_final = X_with_family.drop('Name', axis = 1) \n",
    "\n",
    "#        return X_with_age_groups\n",
    "        return X_final\n",
    "## Lets see they work\n",
    "#dfa = Derived_Features_Adder()\n",
    "\n",
    "#X_train_cp = dfa.fit_transform(X_train_cp)\n",
    "#X_train_cp.head()     "
   ]
  },
  {
   "cell_type": "code",
   "execution_count": 51,
   "metadata": {},
   "outputs": [],
   "source": [
    "#X_train_cp.dtypes"
   ]
  },
  {
   "cell_type": "code",
   "execution_count": 52,
   "metadata": {
    "collapsed": true
   },
   "outputs": [],
   "source": [
    "## From Geron's book on ML\n",
    "## We usually have four types of data - float(numerical), integer (ordinal - numerical), \n",
    "# integer (categorical - object), and string (categorical - object)\n",
    "# Here we have:\n",
    "\n",
    "# Age           float64 - must scale\n",
    "# Cabin          object\n",
    "# Embarked       object\n",
    "# Fare          float64 - must scale\n",
    "# Parch           int64 - ordinal - numerical - small number do not need scaling\n",
    "# Pclass          int64 - ordinal - numerical\n",
    "#Sex            object\n",
    "#SibSp           int64 - ordinal - numerical - small number do not need scaling\n",
    "#Ticket         object\n",
    "#Title          object\n",
    "#Age_Group    category\n",
    "#Family          int64 - ordinal - numerical - small number do not need scaling\n",
    "\n",
    "# Utility Class to select which pipeline we will apply\n",
    "\n",
    "from sklearn.base import BaseEstimator, TransformerMixin\n",
    "\n",
    "class DataFrameSelector(BaseEstimator, TransformerMixin):\n",
    "    def __init__(self, attribute_names):\n",
    "        self.attribute_names = attribute_names\n",
    "    def fit(self, X, y=None):\n",
    "        return self\n",
    "    def transform(self, X):\n",
    "        return X[self.attribute_names].values"
   ]
  },
  {
   "cell_type": "code",
   "execution_count": 55,
   "metadata": {},
   "outputs": [],
   "source": [
    "def get_features_lists_of_separate_dtypes (df):\n",
    "    ''' separate out features according to dtypes'''\n",
    "    float_features = df.dtypes == np.float64\n",
    "    int_features = df.dtypes == np.int64\n",
    "    obj_features = df.dtypes == np.object\n",
    "    df_floats = df.loc[:, float_features]\n",
    "    df_ints = df.loc[:, int_features]\n",
    "    df_objs = df.loc[:, obj_features]\n",
    "    return list(df_floats.columns), list(df_ints.columns), list(df_objs.columns)\n",
    "#floats, ints, cats = get_features_lists_of_separate_dtypes(X_train_cp)\n",
    "#print(floats)\n",
    "#print(ints)\n",
    "#print(cats)\n",
    "#X_train_cp = pd.get_dummies(X_train_cp, prefix=None, prefix_sep='_', dummy_na=False, columns=cats, sparse=False, drop_first=False)\n",
    "#print(X_train_cp.columns)\n",
    "#print(X_train_cp.shape)"
   ]
  },
  {
   "cell_type": "code",
   "execution_count": 65,
   "metadata": {},
   "outputs": [],
   "source": [
    "from sklearn.pipeline import Pipeline, FeatureUnion\n",
    "from sklearn.preprocessing import StandardScaler\n",
    "from sklearn.preprocessing import LabelBinarizer\n",
    "\n",
    "# set up pipelines for different data types\n",
    "def setup_pipelines_for_data_processing(df):\n",
    "    floats, ints, cats = get_features_lists_of_separate_dtypes(df)\n",
    "\n",
    "    #new_features_pipeline = Pipeline([\n",
    "    #    ('Feature_adder',  Derived_Features_Adder()),\n",
    "    #])\n",
    "\n",
    "    #flt_pipeline = Pipeline([\n",
    "    #        ('selector', DataFrameSelector(floats)),\n",
    "    #        ('imputer', DataFrameImputer()),\n",
    "    #        ('std_scaler', StandardScaler()),\n",
    "    #    ])\n",
    "\n",
    "    \n",
    "    #cat_pipeline = Pipeline([\n",
    "    #        ('selector', DataFrameSelector(cats)),\n",
    "    #('imputer', DataFrameImputer()),    \n",
    "    #('label_binarizer', LabelBinarizer()),\n",
    "    #])\n",
    "    #from sklearn.pipeline import FeatureUnion\n",
    "\n",
    "    #full_pipeline = FeatureUnion(transformer_list=[\n",
    "    #        (\"flt_pipeline\", flt_pipeline),\n",
    "    #        (\"cat_pipeline\", cat_pipeline),\n",
    "    #    ])\n",
    "    #df_prepared = pd.DataFrame(flt_pipeline.fit_transform(df), index = df.index)\n",
    "    return floats, ints, cats\n"
   ]
  },
  {
   "cell_type": "code",
   "execution_count": 66,
   "metadata": {},
   "outputs": [],
   "source": [
    "floats, ints, cats = setup_pipelines_for_data_processing(X_train)\n",
    "\n",
    "#X_train_prepared = pd.DataFrame(flt_pipeline.fit_transform(X_train_cp), index = X_train_cp.index)\n",
    "#keys = list( X_train_prepared.columns )\n",
    "#values = list( X_train_cp[floats].columns )\n",
    "\n",
    "#print( keys )\n",
    "#print( values )\n",
    "#dict_names = {}\n",
    "#for i in range(len(keys)):\n",
    "#    dict_names[keys[i]] = values[i]\n",
    "#print(dict_names)\n",
    "#print( dict( zip(keys, values) ) ) # for some reson it is not working\n",
    "#X_train_prepared = X_train_prepared.rename(columns = dict_names)\n",
    "#X_train_prepared.head()"
   ]
  },
  {
   "cell_type": "code",
   "execution_count": 67,
   "metadata": {},
   "outputs": [
    {
     "name": "stdout",
     "output_type": "stream",
     "text": [
      "['Age', 'Fare'] ['Parch', 'Pclass', 'SibSp'] ['Cabin', 'Embarked', 'Name', 'Sex', 'Ticket']\n"
     ]
    }
   ],
   "source": [
    "print(floats, ints, cats)"
   ]
  },
  {
   "cell_type": "code",
   "execution_count": null,
   "metadata": {
    "collapsed": true
   },
   "outputs": [],
   "source": []
  }
 ],
 "metadata": {
  "kernelspec": {
   "display_name": "Python 3",
   "language": "python",
   "name": "python3"
  },
  "language_info": {
   "codemirror_mode": {
    "name": "ipython",
    "version": 3
   },
   "file_extension": ".py",
   "mimetype": "text/x-python",
   "name": "python",
   "nbconvert_exporter": "python",
   "pygments_lexer": "ipython3",
   "version": "3.6.1"
  }
 },
 "nbformat": 4,
 "nbformat_minor": 2
}
