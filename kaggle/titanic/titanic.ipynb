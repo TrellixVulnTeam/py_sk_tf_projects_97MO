{
 "cells": [
  {
   "cell_type": "markdown",
   "metadata": {},
   "source": [
    "# Kaggle Titanic Project\n",
    "Problem Statement:\n",
    "Given PassengerId, Pclass, Name, Sex, Age, Parch, Ticket, Fare, Cabin, and Embarked, predict Survived or not.\n",
    "Data Format:\n",
    "PassengerId: 1, 2, ..., N :integer\n",
    "Pclass: 1, 2, 3 : integer\n",
    "Name: Last_Name, Title. First_Name_and_Other_Parts - comma and period separated : string : object\n",
    "Sex: Male, Female : string : object\n",
    "Age: nn.mm : float\n",
    "SibSp: 0, 1, 2, ... : integer\n",
    "Parch: 0, 1, 2, ... : integer\n",
    "Ticket: string : object\n",
    "Fare: xyz.mm : float\n",
    "cabin: string : object\n",
    "Embarked: character : object\n",
    "\n",
    "We assume the data has been downloaded, processed and loaded as .pickle file. I have created two .pickle files:\n",
    "train_all.pickle - contains all provided data split into train, valid and test subsets\n",
    "train_sample.pickle - contains smaller subsets of the train_all.pickle for working on the software\n",
    "\n",
    "We start our analysis by unpickling the data.\n"
   ]
  },
  {
   "cell_type": "code",
   "execution_count": 448,
   "metadata": {},
   "outputs": [
    {
     "data": {
      "text/html": [
       "<div>\n",
       "<style>\n",
       "    .dataframe thead tr:only-child th {\n",
       "        text-align: right;\n",
       "    }\n",
       "\n",
       "    .dataframe thead th {\n",
       "        text-align: left;\n",
       "    }\n",
       "\n",
       "    .dataframe tbody tr th {\n",
       "        vertical-align: top;\n",
       "    }\n",
       "</style>\n",
       "<table border=\"1\" class=\"dataframe\">\n",
       "  <thead>\n",
       "    <tr style=\"text-align: right;\">\n",
       "      <th></th>\n",
       "      <th>PassengerId</th>\n",
       "      <th>Survived</th>\n",
       "      <th>Pclass</th>\n",
       "      <th>Name</th>\n",
       "      <th>Sex</th>\n",
       "      <th>Age</th>\n",
       "      <th>SibSp</th>\n",
       "      <th>Parch</th>\n",
       "      <th>Ticket</th>\n",
       "      <th>Fare</th>\n",
       "      <th>Cabin</th>\n",
       "      <th>Embarked</th>\n",
       "    </tr>\n",
       "  </thead>\n",
       "  <tbody>\n",
       "    <tr>\n",
       "      <th>0</th>\n",
       "      <td>1</td>\n",
       "      <td>0</td>\n",
       "      <td>3</td>\n",
       "      <td>Braund, Mr. Owen Harris</td>\n",
       "      <td>male</td>\n",
       "      <td>22.0</td>\n",
       "      <td>1</td>\n",
       "      <td>0</td>\n",
       "      <td>A/5 21171</td>\n",
       "      <td>7.2500</td>\n",
       "      <td>NaN</td>\n",
       "      <td>S</td>\n",
       "    </tr>\n",
       "    <tr>\n",
       "      <th>1</th>\n",
       "      <td>2</td>\n",
       "      <td>1</td>\n",
       "      <td>1</td>\n",
       "      <td>Cumings, Mrs. John Bradley (Florence Briggs Th...</td>\n",
       "      <td>female</td>\n",
       "      <td>38.0</td>\n",
       "      <td>1</td>\n",
       "      <td>0</td>\n",
       "      <td>PC 17599</td>\n",
       "      <td>71.2833</td>\n",
       "      <td>C85</td>\n",
       "      <td>C</td>\n",
       "    </tr>\n",
       "  </tbody>\n",
       "</table>\n",
       "</div>"
      ],
      "text/plain": [
       "   PassengerId  Survived  Pclass  \\\n",
       "0            1         0       3   \n",
       "1            2         1       1   \n",
       "\n",
       "                                                Name     Sex   Age  SibSp  \\\n",
       "0                            Braund, Mr. Owen Harris    male  22.0      1   \n",
       "1  Cumings, Mrs. John Bradley (Florence Briggs Th...  female  38.0      1   \n",
       "\n",
       "   Parch     Ticket     Fare Cabin Embarked  \n",
       "0      0  A/5 21171   7.2500   NaN        S  \n",
       "1      0   PC 17599  71.2833   C85        C  "
      ]
     },
     "execution_count": 448,
     "metadata": {},
     "output_type": "execute_result"
    }
   ],
   "source": [
    "import os\n",
    "import numpy as np\n",
    "import pandas as pd\n",
    "from six.moves import cPickle as pickle\n",
    "from sklearn.model_selection import train_test_split\n",
    "import matplotlib.pyplot as plt\n",
    "\n",
    "DATA_ROOT = \"./datasets\"\n",
    "CSV_FILENAME = \"train.csv\"\n",
    "LABEL_LIST = [\"Survived\"]\n",
    "\n",
    "\n",
    "##\n",
    "path_to_data_dir = DATA_ROOT\n",
    "csv_filename = CSV_FILENAME\n",
    "csv_path = os.path.join(path_to_data_dir, csv_filename)\n",
    "raw_data = pd.read_csv(csv_path)\n",
    "raw_data.head(2)"
   ]
  },
  {
   "cell_type": "code",
   "execution_count": 449,
   "metadata": {},
   "outputs": [
    {
     "name": "stdout",
     "output_type": "stream",
     "text": [
      "\n",
      "Saving pickle file: ./datasets/train_all.pickle\n",
      "\n",
      "Saving pickle file: ./datasets/train_samples.pickle\n"
     ]
    }
   ],
   "source": [
    "def randomize_data(data):\n",
    "  \n",
    "  \"\"\"\n",
    "  given a DataFrame with each row as one instance of data, returns a DataFrame that is randomized.\n",
    "  \"\"\"\n",
    "  \n",
    "  permutations = np.random.permutation(data.shape[0])\n",
    "  shuffled_data = data.iloc[permutations, :]\n",
    "  return shuffled_data\n",
    "\n",
    "\n",
    "def load_data_as_DataFrame_from_csv_file(path_to_data_dir, csv_filename):\n",
    "  csv_path = os.path.join(path_to_data_dir, csv_filename)\n",
    "  return pd.read_csv(csv_path)\n",
    "\n",
    "\n",
    "def create_train_valid_test_sets(data, test_size = 0.2, valid_size = 0.2):\n",
    "  \"\"\"\n",
    "  Split the full data set into three subsets \n",
    "  Returns the DataFrames train, valid, test in that order \n",
    "  \"\"\"\n",
    "  \n",
    "  train_set_full, test = train_test_split(data, test_size=test_size, random_state=42)\n",
    "  train, valid = train_test_split(train_set_full, test_size=valid_size, random_state=42)\n",
    "  \n",
    "  return train, valid, test\n",
    "\n",
    "def select_samples_from_full(df, cutoff_size = 1000):\n",
    "  num_samples = df.shape[0]\n",
    "  if num_samples > cutoff_size:\n",
    "    sample_size = cutoff_size\n",
    "  else:\n",
    "    sample_size = df.shape[0]\n",
    "  return sample_size\n",
    "\n",
    "def separate_X_and_y(df, label_list):\n",
    "  X = df[df.columns.difference(label_list)]\n",
    "  y = df[label_list]\n",
    "  return X, y\n",
    "\n",
    "def generate_working_datasets(path_to_data_dir, csv_filename, label_list):\n",
    "\n",
    "  data = load_data_as_DataFrame_from_csv_file(path_to_data_dir, csv_filename)\n",
    "  randomized_data = randomize_data(data)\n",
    "\n",
    "  train, valid, test = create_train_valid_test_sets(randomized_data, test_size = 0.2, valid_size = 0.2)\n",
    "  \n",
    "  sample_train_size = select_samples_from_full(train)\n",
    "  sample_valid_size = select_samples_from_full(valid)\n",
    "  sample_test_size = select_samples_from_full(test)\n",
    "  \n",
    "  sample_train = train.iloc[:sample_train_size, :]\n",
    "  sample_valid = valid.iloc[:sample_valid_size, :]\n",
    "  sample_test = test.iloc[:sample_test_size, :]\n",
    "   \n",
    "  # separate the X and y in each set\n",
    "  \n",
    "  X_train, y_train = separate_X_and_y(train, label_list)\n",
    "  X_valid, y_valid = separate_X_and_y(valid, label_list)\n",
    "  X_test, y_test = separate_X_and_y(test, label_list)\n",
    "  X_sample_train, y_sample_train = separate_X_and_y(sample_train, label_list)\n",
    "  X_sample_valid, y_sample_valid = separate_X_and_y(sample_valid, label_list)\n",
    "  X_sample_test, y_sample_test = separate_X_and_y(sample_test, label_list)\n",
    "\n",
    "# package for easier handling\n",
    "\n",
    "  datasets_all = {\n",
    "      \"X_train\" : X_train, \"y_train\" : y_train,\n",
    "      \"X_valid\" : X_valid, \"y_valid\" : y_valid,\n",
    "      \"X_test\" : X_test, \"y_test\" : y_test,\n",
    "      }\n",
    "  datasets_sample = {\n",
    "      \"X_sample_train\" : X_sample_train, \"y_sample_train\" : y_sample_train,\n",
    "      \"X_sample_valid\" : X_sample_valid, \"y_sample_valid\" : y_sample_valid,\n",
    "      \"X_sample_test\" : X_sample_test, \"y_sample_test\" : y_sample_test,\n",
    "      }\n",
    " \n",
    "  return datasets_all, datasets_sample\n",
    "\n",
    "\n",
    "def save_datasets(path_to_data_dir, csv_filename, datasets, is_sample = False):\n",
    "  file_name_list = csv_filename.split('.')\n",
    "  file_name_list_no_csv = file_name_list[0:-1]\n",
    "  filename = ''.join(file_name_list_no_csv) # drope .csv\n",
    "  if is_sample:\n",
    "    filename_pickle = filename +'_samples'+ '.pickle'\n",
    "  else:\n",
    "    filename_pickle = filename +'_all'+ '.pickle'\n",
    "  pickle_file = os.path.join(path_to_data_dir, filename_pickle)\n",
    "#  print(pickle_file)\n",
    "  try:\n",
    "    with open(pickle_file, \"wb\") as f:\n",
    "      print(\"\\nSaving pickle file:\", pickle_file)\n",
    "      pickle.dump(datasets, f, pickle.HIGHEST_PROTOCOL)\n",
    "  except Exception as e:\n",
    "    print('Unable to save data to', pickle_file, ':', e)\n",
    "    raise\n",
    "\n",
    "## Call these function to separate data\n",
    "label_list = LABEL_LIST\n",
    "datasets_all, datasets_sample = generate_working_datasets(path_to_data_dir, csv_filename, label_list)\n",
    "save_datasets(path_to_data_dir, csv_filename, datasets_all, is_sample = False)\n",
    "save_datasets(path_to_data_dir, csv_filename, datasets_sample, is_sample = True)"
   ]
  },
  {
   "cell_type": "code",
   "execution_count": 450,
   "metadata": {},
   "outputs": [],
   "source": [
    "def load_pickle_data(path_to_pickle_file, is_sample = False):\n",
    "  ''' A utility function to load pickle data'''\n",
    "  with open(path_to_pickle_file, 'rb') as f:\n",
    "    saved = pickle.load(f)\n",
    "    if is_sample:\n",
    "      X_train = saved[\"X_sample_train\"]\n",
    "      y_train = saved[\"y_sample_train\"]\n",
    "      X_valid = saved[\"X_sample_valid\"]\n",
    "      y_valid = saved[\"y_sample_valid\"]\n",
    "      X_test  = saved[\"X_sample_test\"]\n",
    "      y_test  = saved[\"y_sample_test\"]\n",
    " \n",
    "    else:\n",
    "      X_train = saved[\"X_train\"]\n",
    "      y_train = saved[\"y_train\"]\n",
    "      X_valid = saved[\"X_valid\"]\n",
    "      y_valid = saved[\"y_valid\"]\n",
    "      X_test  = saved[\"X_test\"]\n",
    "      y_test  = saved[\"y_test\"]\n",
    "        \n",
    "    del saved # will free up memory\n",
    "    return X_train, y_train, X_valid, y_valid, X_test, y_test\n",
    "\n",
    "\n",
    "## Load Data from appropriate pickle file\n",
    "IS_SAMPLE = True\n",
    "# FOR TITANIC DATA\n",
    "PICKLE_FILE_ALL_DATA = \"./datasets/train_all.pickle\"\n",
    "PICKLE_FILE_SAMPLE_DATA = \"./datasets/train_samples.pickle\"\n",
    "\n",
    "#--------------------------Do not change below  \n",
    "is_sample = IS_SAMPLE\n",
    "if is_sample:  \n",
    "  path_to_pickle_file = PICKLE_FILE_SAMPLE_DATA\n",
    "else:\n",
    "  path_to_pickle_file = PICKLE_FILE_ALL_DATA\n",
    "\n",
    "load_pickle_data(path_to_pickle_file, is_sample)\n",
    "X_train, y_train, X_valid, y_valid, X_test, y_test = load_pickle_data(path_to_pickle_file, is_sample)\n",
    "## NOTE: THIS X_TEST IS NOT THE TEST DATA PROVIDED FOR THE PROJECT"
   ]
  },
  {
   "cell_type": "markdown",
   "metadata": {},
   "source": [
    "## Observations on Data"
   ]
  },
  {
   "cell_type": "code",
   "execution_count": 451,
   "metadata": {},
   "outputs": [
    {
     "data": {
      "text/html": [
       "<div>\n",
       "<style>\n",
       "    .dataframe thead tr:only-child th {\n",
       "        text-align: right;\n",
       "    }\n",
       "\n",
       "    .dataframe thead th {\n",
       "        text-align: left;\n",
       "    }\n",
       "\n",
       "    .dataframe tbody tr th {\n",
       "        vertical-align: top;\n",
       "    }\n",
       "</style>\n",
       "<table border=\"1\" class=\"dataframe\">\n",
       "  <thead>\n",
       "    <tr style=\"text-align: right;\">\n",
       "      <th></th>\n",
       "      <th>Age</th>\n",
       "      <th>Cabin</th>\n",
       "      <th>Embarked</th>\n",
       "      <th>Fare</th>\n",
       "      <th>Name</th>\n",
       "      <th>Parch</th>\n",
       "      <th>PassengerId</th>\n",
       "      <th>Pclass</th>\n",
       "      <th>Sex</th>\n",
       "      <th>SibSp</th>\n",
       "      <th>Ticket</th>\n",
       "    </tr>\n",
       "  </thead>\n",
       "  <tbody>\n",
       "    <tr>\n",
       "      <th>104</th>\n",
       "      <td>37.0</td>\n",
       "      <td>NaN</td>\n",
       "      <td>S</td>\n",
       "      <td>7.925</td>\n",
       "      <td>Gustafsson, Mr. Anders Vilhelm</td>\n",
       "      <td>0</td>\n",
       "      <td>105</td>\n",
       "      <td>3</td>\n",
       "      <td>male</td>\n",
       "      <td>2</td>\n",
       "      <td>3101276</td>\n",
       "    </tr>\n",
       "    <tr>\n",
       "      <th>40</th>\n",
       "      <td>40.0</td>\n",
       "      <td>NaN</td>\n",
       "      <td>S</td>\n",
       "      <td>9.475</td>\n",
       "      <td>Ahlin, Mrs. Johan (Johanna Persdotter Larsson)</td>\n",
       "      <td>0</td>\n",
       "      <td>41</td>\n",
       "      <td>3</td>\n",
       "      <td>female</td>\n",
       "      <td>1</td>\n",
       "      <td>7546</td>\n",
       "    </tr>\n",
       "  </tbody>\n",
       "</table>\n",
       "</div>"
      ],
      "text/plain": [
       "      Age Cabin Embarked   Fare  \\\n",
       "104  37.0   NaN        S  7.925   \n",
       "40   40.0   NaN        S  9.475   \n",
       "\n",
       "                                               Name  Parch  PassengerId  \\\n",
       "104                  Gustafsson, Mr. Anders Vilhelm      0          105   \n",
       "40   Ahlin, Mrs. Johan (Johanna Persdotter Larsson)      0           41   \n",
       "\n",
       "     Pclass     Sex  SibSp   Ticket  \n",
       "104       3    male      2  3101276  \n",
       "40        3  female      1     7546  "
      ]
     },
     "execution_count": 451,
     "metadata": {},
     "output_type": "execute_result"
    }
   ],
   "source": [
    "X_train.head(2) ## check if loading worked"
   ]
  },
  {
   "cell_type": "code",
   "execution_count": 452,
   "metadata": {},
   "outputs": [
    {
     "data": {
      "text/plain": [
       "Age            float64\n",
       "Cabin           object\n",
       "Embarked        object\n",
       "Fare           float64\n",
       "Name            object\n",
       "Parch            int64\n",
       "PassengerId      int64\n",
       "Pclass           int64\n",
       "Sex             object\n",
       "SibSp            int64\n",
       "Ticket          object\n",
       "dtype: object"
      ]
     },
     "execution_count": 452,
     "metadata": {},
     "output_type": "execute_result"
    }
   ],
   "source": [
    "X_train.dtypes  ## check the data types"
   ]
  },
  {
   "cell_type": "markdown",
   "metadata": {},
   "source": [
    "### Index and PasssengerId are not same. We will just make note of this and not make index same as PassengerId\n",
    "All that matters is that both X_train and y_train are using the same index values for the same passenger"
   ]
  },
  {
   "cell_type": "markdown",
   "metadata": {},
   "source": [
    "#X_train = X_train.set_index(\"PassengerId\") ##THIS WILL GO INTO THE DATA TRANSFORMATION PIPELINE\n"
   ]
  },
  {
   "cell_type": "code",
   "execution_count": 453,
   "metadata": {},
   "outputs": [
    {
     "data": {
      "text/html": [
       "<div>\n",
       "<style>\n",
       "    .dataframe thead tr:only-child th {\n",
       "        text-align: right;\n",
       "    }\n",
       "\n",
       "    .dataframe thead th {\n",
       "        text-align: left;\n",
       "    }\n",
       "\n",
       "    .dataframe tbody tr th {\n",
       "        vertical-align: top;\n",
       "    }\n",
       "</style>\n",
       "<table border=\"1\" class=\"dataframe\">\n",
       "  <thead>\n",
       "    <tr style=\"text-align: right;\">\n",
       "      <th></th>\n",
       "      <th>Age</th>\n",
       "      <th>Cabin</th>\n",
       "      <th>Embarked</th>\n",
       "      <th>Fare</th>\n",
       "      <th>Name</th>\n",
       "      <th>Parch</th>\n",
       "      <th>PassengerId</th>\n",
       "      <th>Pclass</th>\n",
       "      <th>Sex</th>\n",
       "      <th>SibSp</th>\n",
       "      <th>Ticket</th>\n",
       "    </tr>\n",
       "  </thead>\n",
       "  <tbody>\n",
       "    <tr>\n",
       "      <th>104</th>\n",
       "      <td>37.0</td>\n",
       "      <td>NaN</td>\n",
       "      <td>S</td>\n",
       "      <td>7.925</td>\n",
       "      <td>Gustafsson, Mr. Anders Vilhelm</td>\n",
       "      <td>0</td>\n",
       "      <td>105</td>\n",
       "      <td>3</td>\n",
       "      <td>male</td>\n",
       "      <td>2</td>\n",
       "      <td>3101276</td>\n",
       "    </tr>\n",
       "    <tr>\n",
       "      <th>40</th>\n",
       "      <td>40.0</td>\n",
       "      <td>NaN</td>\n",
       "      <td>S</td>\n",
       "      <td>9.475</td>\n",
       "      <td>Ahlin, Mrs. Johan (Johanna Persdotter Larsson)</td>\n",
       "      <td>0</td>\n",
       "      <td>41</td>\n",
       "      <td>3</td>\n",
       "      <td>female</td>\n",
       "      <td>1</td>\n",
       "      <td>7546</td>\n",
       "    </tr>\n",
       "  </tbody>\n",
       "</table>\n",
       "</div>"
      ],
      "text/plain": [
       "      Age Cabin Embarked   Fare  \\\n",
       "104  37.0   NaN        S  7.925   \n",
       "40   40.0   NaN        S  9.475   \n",
       "\n",
       "                                               Name  Parch  PassengerId  \\\n",
       "104                  Gustafsson, Mr. Anders Vilhelm      0          105   \n",
       "40   Ahlin, Mrs. Johan (Johanna Persdotter Larsson)      0           41   \n",
       "\n",
       "     Pclass     Sex  SibSp   Ticket  \n",
       "104       3    male      2  3101276  \n",
       "40        3  female      1     7546  "
      ]
     },
     "execution_count": 453,
     "metadata": {},
     "output_type": "execute_result"
    }
   ],
   "source": [
    "X_train.head(2)"
   ]
  },
  {
   "cell_type": "code",
   "execution_count": 454,
   "metadata": {},
   "outputs": [
    {
     "data": {
      "text/html": [
       "<div>\n",
       "<style>\n",
       "    .dataframe thead tr:only-child th {\n",
       "        text-align: right;\n",
       "    }\n",
       "\n",
       "    .dataframe thead th {\n",
       "        text-align: left;\n",
       "    }\n",
       "\n",
       "    .dataframe tbody tr th {\n",
       "        vertical-align: top;\n",
       "    }\n",
       "</style>\n",
       "<table border=\"1\" class=\"dataframe\">\n",
       "  <thead>\n",
       "    <tr style=\"text-align: right;\">\n",
       "      <th></th>\n",
       "      <th>Survived</th>\n",
       "    </tr>\n",
       "  </thead>\n",
       "  <tbody>\n",
       "    <tr>\n",
       "      <th>104</th>\n",
       "      <td>0</td>\n",
       "    </tr>\n",
       "    <tr>\n",
       "      <th>40</th>\n",
       "      <td>0</td>\n",
       "    </tr>\n",
       "  </tbody>\n",
       "</table>\n",
       "</div>"
      ],
      "text/plain": [
       "     Survived\n",
       "104         0\n",
       "40          0"
      ]
     },
     "execution_count": 454,
     "metadata": {},
     "output_type": "execute_result"
    }
   ],
   "source": [
    "y_train.head(2)"
   ]
  },
  {
   "cell_type": "markdown",
   "metadata": {},
   "source": [
    "###  WORK OUT RULES FOR HANDLING MISSING VALUES\n",
    "#### Just to check which columns in X_train have missing values - this is just an exploration. BEWARE: We cannot look into the X_test, which mayhave a different set of missing columns that we will find in X_train. so, we need to have imputer that ADDRESS ALL COLUMNS, NOT JUST THE ONES WE CAN FIND IN THE X_TRAIN."
   ]
  },
  {
   "cell_type": "code",
   "execution_count": 455,
   "metadata": {},
   "outputs": [
    {
     "name": "stdout",
     "output_type": "stream",
     "text": [
      "Age 20.0351493849 %\n",
      "Cabin 78.0316344464 %\n",
      "Embarked 0.0 %\n",
      "Fare 0.0 %\n",
      "Name 0.0 %\n",
      "Parch 0.0 %\n",
      "PassengerId 0.0 %\n",
      "Pclass 0.0 %\n",
      "Sex 0.0 %\n",
      "SibSp 0.0 %\n",
      "Ticket 0.0 %\n"
     ]
    }
   ],
   "source": [
    "# lets look at NaN's in all data columns\n",
    "for col in X_train:\n",
    "    print( col, 100*sum(pd.isnull(X_train[col]))/X_train.shape[0], '%' )"
   ]
  },
  {
   "cell_type": "code",
   "execution_count": 456,
   "metadata": {},
   "outputs": [
    {
     "data": {
      "text/plain": [
       "(891, 12)"
      ]
     },
     "execution_count": 456,
     "metadata": {},
     "output_type": "execute_result"
    }
   ],
   "source": [
    "# Based on fraction of NaN's in Cabin, we will drop Cabin ## Will be handled by pipeline\n",
    "# While we are at it, we should check out these for raw_data - the original DataFrame\n",
    "raw_data.shape"
   ]
  },
  {
   "cell_type": "code",
   "execution_count": 457,
   "metadata": {},
   "outputs": [
    {
     "name": "stdout",
     "output_type": "stream",
     "text": [
      "NANs in the full train data:\n",
      "PassengerId 0.0 %\n",
      "Survived 0.0 %\n",
      "Pclass 0.0 %\n",
      "Name 0.0 %\n",
      "Sex 0.0 %\n",
      "Age 19.8653198653 %\n",
      "SibSp 0.0 %\n",
      "Parch 0.0 %\n",
      "Ticket 0.0 %\n",
      "Fare 0.0 %\n",
      "Cabin 77.1043771044 %\n",
      "Embarked 0.224466891134 %\n"
     ]
    }
   ],
   "source": [
    "print(\"NANs in the full train data:\")\n",
    "for col in raw_data:\n",
    "    df = raw_data\n",
    "    print( col, 100*sum(pd.isnull(df[col]))/df.shape[0], '%' )"
   ]
  },
  {
   "cell_type": "markdown",
   "metadata": {},
   "source": [
    "### ORDER OF OUR WORK\n",
    "#### MISSING VALUES IN CABIN\n",
    "#### MISSING VALUES IN EMBARK\n",
    "#### MISSING VALUES IN AGE\n",
    "-----------------------------------------------------------------------\n",
    "AFTER THESE EXPLORATIONS, I WILL WRITE AN IMPUTER CLASS THAT WE CAN USE IN A PIPELINE AND TRANSFORM ALL DATASETS.\n",
    "\n",
    "#### MISSING VALUES IN CABIN\n",
    "THERE ARE TOO MANY MISSING VALUES IN CABIN. ONE SIMPLE STRATEGY WILL BE TO JUST DELETE THEM, BUT THAT WOULD MEAN LOSING INFORMATION CONTAINED IN OTHER VARIABLES THAT CORRESPOND TO THAT ROW. THIS IS USUALLY NOT AN OPTIMAL SOLUTION. WE CAN REPLACE THE NANS IN CABIN NY LETTER U. I ALSO NOTICED THAT CABIN NAMES HAVE A LETTER AND SOME NUMBERS. WE WILL AGGREGATE THEM INTO JUST LETTERS, OTHERWISE THERE WILL BE TOO MANY CATEGORIES ARIZING FROM CABIN COLUMN."
   ]
  },
  {
   "cell_type": "code",
   "execution_count": 458,
   "metadata": {
    "scrolled": true
   },
   "outputs": [],
   "source": [
    "### We will replace NaN in cabin by letter U and other cabins will a single letter\n",
    "def fill_cabin_name_NaN_by_letter (df, Cabin):\n",
    "\n",
    "    df[[Cabin]] = df[[Cabin]].fillna(value='U')\n",
    "\n",
    "fill_cabin_name_NaN_by_letter (X_train, 'Cabin')"
   ]
  },
  {
   "cell_type": "code",
   "execution_count": 459,
   "metadata": {},
   "outputs": [
    {
     "data": {
      "text/html": [
       "<div>\n",
       "<style>\n",
       "    .dataframe thead tr:only-child th {\n",
       "        text-align: right;\n",
       "    }\n",
       "\n",
       "    .dataframe thead th {\n",
       "        text-align: left;\n",
       "    }\n",
       "\n",
       "    .dataframe tbody tr th {\n",
       "        vertical-align: top;\n",
       "    }\n",
       "</style>\n",
       "<table border=\"1\" class=\"dataframe\">\n",
       "  <thead>\n",
       "    <tr style=\"text-align: right;\">\n",
       "      <th></th>\n",
       "      <th>Age</th>\n",
       "      <th>Cabin</th>\n",
       "      <th>Embarked</th>\n",
       "      <th>Fare</th>\n",
       "      <th>Name</th>\n",
       "      <th>Parch</th>\n",
       "      <th>PassengerId</th>\n",
       "      <th>Pclass</th>\n",
       "      <th>Sex</th>\n",
       "      <th>SibSp</th>\n",
       "      <th>Ticket</th>\n",
       "    </tr>\n",
       "  </thead>\n",
       "  <tbody>\n",
       "    <tr>\n",
       "      <th>104</th>\n",
       "      <td>37.0</td>\n",
       "      <td>U</td>\n",
       "      <td>S</td>\n",
       "      <td>7.9250</td>\n",
       "      <td>Gustafsson, Mr. Anders Vilhelm</td>\n",
       "      <td>0</td>\n",
       "      <td>105</td>\n",
       "      <td>3</td>\n",
       "      <td>male</td>\n",
       "      <td>2</td>\n",
       "      <td>3101276</td>\n",
       "    </tr>\n",
       "    <tr>\n",
       "      <th>40</th>\n",
       "      <td>40.0</td>\n",
       "      <td>U</td>\n",
       "      <td>S</td>\n",
       "      <td>9.4750</td>\n",
       "      <td>Ahlin, Mrs. Johan (Johanna Persdotter Larsson)</td>\n",
       "      <td>0</td>\n",
       "      <td>41</td>\n",
       "      <td>3</td>\n",
       "      <td>female</td>\n",
       "      <td>1</td>\n",
       "      <td>7546</td>\n",
       "    </tr>\n",
       "    <tr>\n",
       "      <th>852</th>\n",
       "      <td>9.0</td>\n",
       "      <td>U</td>\n",
       "      <td>C</td>\n",
       "      <td>15.2458</td>\n",
       "      <td>Boulos, Miss. Nourelain</td>\n",
       "      <td>1</td>\n",
       "      <td>853</td>\n",
       "      <td>3</td>\n",
       "      <td>female</td>\n",
       "      <td>1</td>\n",
       "      <td>2678</td>\n",
       "    </tr>\n",
       "    <tr>\n",
       "      <th>86</th>\n",
       "      <td>16.0</td>\n",
       "      <td>U</td>\n",
       "      <td>S</td>\n",
       "      <td>34.3750</td>\n",
       "      <td>Ford, Mr. William Neal</td>\n",
       "      <td>3</td>\n",
       "      <td>87</td>\n",
       "      <td>3</td>\n",
       "      <td>male</td>\n",
       "      <td>1</td>\n",
       "      <td>W./C. 6608</td>\n",
       "    </tr>\n",
       "    <tr>\n",
       "      <th>147</th>\n",
       "      <td>9.0</td>\n",
       "      <td>U</td>\n",
       "      <td>S</td>\n",
       "      <td>34.3750</td>\n",
       "      <td>Ford, Miss. Robina Maggie \"Ruby\"</td>\n",
       "      <td>2</td>\n",
       "      <td>148</td>\n",
       "      <td>3</td>\n",
       "      <td>female</td>\n",
       "      <td>2</td>\n",
       "      <td>W./C. 6608</td>\n",
       "    </tr>\n",
       "    <tr>\n",
       "      <th>719</th>\n",
       "      <td>33.0</td>\n",
       "      <td>U</td>\n",
       "      <td>S</td>\n",
       "      <td>7.7750</td>\n",
       "      <td>Johnson, Mr. Malkolm Joackim</td>\n",
       "      <td>0</td>\n",
       "      <td>720</td>\n",
       "      <td>3</td>\n",
       "      <td>male</td>\n",
       "      <td>0</td>\n",
       "      <td>347062</td>\n",
       "    </tr>\n",
       "    <tr>\n",
       "      <th>116</th>\n",
       "      <td>70.5</td>\n",
       "      <td>U</td>\n",
       "      <td>Q</td>\n",
       "      <td>7.7500</td>\n",
       "      <td>Connors, Mr. Patrick</td>\n",
       "      <td>0</td>\n",
       "      <td>117</td>\n",
       "      <td>3</td>\n",
       "      <td>male</td>\n",
       "      <td>0</td>\n",
       "      <td>370369</td>\n",
       "    </tr>\n",
       "    <tr>\n",
       "      <th>253</th>\n",
       "      <td>30.0</td>\n",
       "      <td>U</td>\n",
       "      <td>S</td>\n",
       "      <td>16.1000</td>\n",
       "      <td>Lobb, Mr. William Arthur</td>\n",
       "      <td>0</td>\n",
       "      <td>254</td>\n",
       "      <td>3</td>\n",
       "      <td>male</td>\n",
       "      <td>1</td>\n",
       "      <td>A/5. 3336</td>\n",
       "    </tr>\n",
       "    <tr>\n",
       "      <th>433</th>\n",
       "      <td>17.0</td>\n",
       "      <td>U</td>\n",
       "      <td>S</td>\n",
       "      <td>7.1250</td>\n",
       "      <td>Kallio, Mr. Nikolai Erland</td>\n",
       "      <td>0</td>\n",
       "      <td>434</td>\n",
       "      <td>3</td>\n",
       "      <td>male</td>\n",
       "      <td>0</td>\n",
       "      <td>STON/O 2. 3101274</td>\n",
       "    </tr>\n",
       "    <tr>\n",
       "      <th>583</th>\n",
       "      <td>36.0</td>\n",
       "      <td>A10</td>\n",
       "      <td>C</td>\n",
       "      <td>40.1250</td>\n",
       "      <td>Ross, Mr. John Hugo</td>\n",
       "      <td>0</td>\n",
       "      <td>584</td>\n",
       "      <td>1</td>\n",
       "      <td>male</td>\n",
       "      <td>0</td>\n",
       "      <td>13049</td>\n",
       "    </tr>\n",
       "  </tbody>\n",
       "</table>\n",
       "</div>"
      ],
      "text/plain": [
       "      Age Cabin Embarked     Fare  \\\n",
       "104  37.0     U        S   7.9250   \n",
       "40   40.0     U        S   9.4750   \n",
       "852   9.0     U        C  15.2458   \n",
       "86   16.0     U        S  34.3750   \n",
       "147   9.0     U        S  34.3750   \n",
       "719  33.0     U        S   7.7750   \n",
       "116  70.5     U        Q   7.7500   \n",
       "253  30.0     U        S  16.1000   \n",
       "433  17.0     U        S   7.1250   \n",
       "583  36.0   A10        C  40.1250   \n",
       "\n",
       "                                               Name  Parch  PassengerId  \\\n",
       "104                  Gustafsson, Mr. Anders Vilhelm      0          105   \n",
       "40   Ahlin, Mrs. Johan (Johanna Persdotter Larsson)      0           41   \n",
       "852                         Boulos, Miss. Nourelain      1          853   \n",
       "86                           Ford, Mr. William Neal      3           87   \n",
       "147                Ford, Miss. Robina Maggie \"Ruby\"      2          148   \n",
       "719                    Johnson, Mr. Malkolm Joackim      0          720   \n",
       "116                            Connors, Mr. Patrick      0          117   \n",
       "253                        Lobb, Mr. William Arthur      0          254   \n",
       "433                      Kallio, Mr. Nikolai Erland      0          434   \n",
       "583                             Ross, Mr. John Hugo      0          584   \n",
       "\n",
       "     Pclass     Sex  SibSp             Ticket  \n",
       "104       3    male      2            3101276  \n",
       "40        3  female      1               7546  \n",
       "852       3  female      1               2678  \n",
       "86        3    male      1         W./C. 6608  \n",
       "147       3  female      2         W./C. 6608  \n",
       "719       3    male      0             347062  \n",
       "116       3    male      0             370369  \n",
       "253       3    male      1          A/5. 3336  \n",
       "433       3    male      0  STON/O 2. 3101274  \n",
       "583       1    male      0              13049  "
      ]
     },
     "execution_count": 459,
     "metadata": {},
     "output_type": "execute_result"
    }
   ],
   "source": [
    "X_train.head(10)"
   ]
  },
  {
   "cell_type": "code",
   "execution_count": 460,
   "metadata": {
    "collapsed": true
   },
   "outputs": [],
   "source": [
    "#def process_cabin (df):  # This JUST PUTS THE TWO FUNCTIONS ABOVE INTO ONE - I SHOULDN'T USE IT THOUGH\n",
    "#    fill_cabin_name_NaN_by_letter (df, 'Cabin')\n",
    "#    replace_cabin_name_by_single_letter(df, 'Cabin')\n",
    "#process_cabin (X_train)"
   ]
  },
  {
   "cell_type": "markdown",
   "metadata": {},
   "source": [
    "### MISSING VALUES IN EMBARKED\n",
    "Next we will look at Embarked - replace the NaNs here by the most common one since so few are missing and this is as good a guess as any"
   ]
  },
  {
   "cell_type": "code",
   "execution_count": 461,
   "metadata": {},
   "outputs": [
    {
     "name": "stdout",
     "output_type": "stream",
     "text": [
      "Empty DataFrame\n",
      "Columns: [Age, Cabin, Embarked, Fare, Name, Parch, PassengerId, Pclass, Sex, SibSp, Ticket]\n",
      "Index: []\n",
      "S    403\n",
      "C    112\n",
      "Q     54\n",
      "Name: Embarked, dtype: int64\n"
     ]
    }
   ],
   "source": [
    "def process_embarked(df, column = 'Embarked'):  # This is the one that should go into data transformation ***********\n",
    "    ''' replace_NaN_in_Embarked_by_most_common '''\n",
    "    embarkation_counts = X_train['Embarked'].value_counts()\n",
    "    most_common = embarkation_counts.index[0]\n",
    "    df[[column]] = df[[column]].fillna(value=most_common)\n",
    "print( X_train[pd.isnull(X_train['Embarked']) ] )\n",
    "print( X_train['Embarked'].value_counts() )\n",
    "process_embarked(X_train, column = 'Embarked')\n",
    "#print(X_train.loc[61,:])  # must use .loc here since iloc is not what 61 and 829 are!\n",
    "#print(X_train.loc[829,:])"
   ]
  },
  {
   "cell_type": "markdown",
   "metadata": {},
   "source": [
    "### MISSING VALUES IN AGE\n",
    "We could just replace the missing values in Age by the median of Age column. But, here we can actually do better if we make use of the Title in the given names and coarse-grain the Age into reasonable bins.\n",
    "Age-group : Age\n",
    "Baby  : 0 - 2\n",
    "Child : 2 - 10\n",
    "Young_adult : 10 - 18\n",
    "Adult : 18-50\n",
    "Old : 50 : 65\n",
    "Very_old : 65+\n",
    "If Title is Master or Miss use median of categories Baby, Child and Young_adult.\n",
    "For other Titles use median of the rest.\n",
    "Therefore, we will need to extract titles\n"
   ]
  },
  {
   "cell_type": "markdown",
   "metadata": {},
   "source": [
    "#### DEALING WITH MISSING AGE BY SIMPLE REPLACEMENT BY MEDIAN\n",
    "THERE IS ALREADY A READY-MADE IMPUTER IN SKLEARN.PREPROCESSING."
   ]
  },
  {
   "cell_type": "code",
   "execution_count": 462,
   "metadata": {},
   "outputs": [
    {
     "data": {
      "text/html": [
       "<div>\n",
       "<style>\n",
       "    .dataframe thead tr:only-child th {\n",
       "        text-align: right;\n",
       "    }\n",
       "\n",
       "    .dataframe thead th {\n",
       "        text-align: left;\n",
       "    }\n",
       "\n",
       "    .dataframe tbody tr th {\n",
       "        vertical-align: top;\n",
       "    }\n",
       "</style>\n",
       "<table border=\"1\" class=\"dataframe\">\n",
       "  <thead>\n",
       "    <tr style=\"text-align: right;\">\n",
       "      <th></th>\n",
       "      <th>Age</th>\n",
       "    </tr>\n",
       "  </thead>\n",
       "  <tbody>\n",
       "    <tr>\n",
       "      <th>104</th>\n",
       "      <td>37.0</td>\n",
       "    </tr>\n",
       "    <tr>\n",
       "      <th>40</th>\n",
       "      <td>40.0</td>\n",
       "    </tr>\n",
       "    <tr>\n",
       "      <th>852</th>\n",
       "      <td>9.0</td>\n",
       "    </tr>\n",
       "    <tr>\n",
       "      <th>86</th>\n",
       "      <td>16.0</td>\n",
       "    </tr>\n",
       "    <tr>\n",
       "      <th>147</th>\n",
       "      <td>9.0</td>\n",
       "    </tr>\n",
       "    <tr>\n",
       "      <th>719</th>\n",
       "      <td>33.0</td>\n",
       "    </tr>\n",
       "    <tr>\n",
       "      <th>116</th>\n",
       "      <td>70.5</td>\n",
       "    </tr>\n",
       "    <tr>\n",
       "      <th>253</th>\n",
       "      <td>30.0</td>\n",
       "    </tr>\n",
       "    <tr>\n",
       "      <th>433</th>\n",
       "      <td>17.0</td>\n",
       "    </tr>\n",
       "    <tr>\n",
       "      <th>583</th>\n",
       "      <td>36.0</td>\n",
       "    </tr>\n",
       "  </tbody>\n",
       "</table>\n",
       "</div>"
      ],
      "text/plain": [
       "      Age\n",
       "104  37.0\n",
       "40   40.0\n",
       "852   9.0\n",
       "86   16.0\n",
       "147   9.0\n",
       "719  33.0\n",
       "116  70.5\n",
       "253  30.0\n",
       "433  17.0\n",
       "583  36.0"
      ]
     },
     "execution_count": 462,
     "metadata": {},
     "output_type": "execute_result"
    }
   ],
   "source": [
    "from sklearn.preprocessing import Imputer\n",
    "imputer_for_age = Imputer(strategy = 'median')  ## This needs numerical columns\n",
    "the_ages = X_train[['Age']]\n",
    "col_name_age = list( the_ages.columns )\n",
    "the_ages.head(10)"
   ]
  },
  {
   "cell_type": "code",
   "execution_count": 463,
   "metadata": {},
   "outputs": [
    {
     "data": {
      "text/html": [
       "<div>\n",
       "<style>\n",
       "    .dataframe thead tr:only-child th {\n",
       "        text-align: right;\n",
       "    }\n",
       "\n",
       "    .dataframe thead th {\n",
       "        text-align: left;\n",
       "    }\n",
       "\n",
       "    .dataframe tbody tr th {\n",
       "        vertical-align: top;\n",
       "    }\n",
       "</style>\n",
       "<table border=\"1\" class=\"dataframe\">\n",
       "  <thead>\n",
       "    <tr style=\"text-align: right;\">\n",
       "      <th></th>\n",
       "      <th>Age</th>\n",
       "    </tr>\n",
       "  </thead>\n",
       "  <tbody>\n",
       "    <tr>\n",
       "      <th>104</th>\n",
       "      <td>37.0</td>\n",
       "    </tr>\n",
       "    <tr>\n",
       "      <th>40</th>\n",
       "      <td>40.0</td>\n",
       "    </tr>\n",
       "    <tr>\n",
       "      <th>852</th>\n",
       "      <td>9.0</td>\n",
       "    </tr>\n",
       "    <tr>\n",
       "      <th>86</th>\n",
       "      <td>16.0</td>\n",
       "    </tr>\n",
       "    <tr>\n",
       "      <th>147</th>\n",
       "      <td>9.0</td>\n",
       "    </tr>\n",
       "    <tr>\n",
       "      <th>719</th>\n",
       "      <td>33.0</td>\n",
       "    </tr>\n",
       "    <tr>\n",
       "      <th>116</th>\n",
       "      <td>70.5</td>\n",
       "    </tr>\n",
       "    <tr>\n",
       "      <th>253</th>\n",
       "      <td>30.0</td>\n",
       "    </tr>\n",
       "    <tr>\n",
       "      <th>433</th>\n",
       "      <td>17.0</td>\n",
       "    </tr>\n",
       "    <tr>\n",
       "      <th>583</th>\n",
       "      <td>36.0</td>\n",
       "    </tr>\n",
       "  </tbody>\n",
       "</table>\n",
       "</div>"
      ],
      "text/plain": [
       "      Age\n",
       "104  37.0\n",
       "40   40.0\n",
       "852   9.0\n",
       "86   16.0\n",
       "147   9.0\n",
       "719  33.0\n",
       "116  70.5\n",
       "253  30.0\n",
       "433  17.0\n",
       "583  36.0"
      ]
     },
     "execution_count": 463,
     "metadata": {},
     "output_type": "execute_result"
    }
   ],
   "source": [
    "imputer_for_age.fit(the_ages)\n",
    "the_age_column = pd.DataFrame( imputer_for_age.transform(the_ages) )\n",
    "the_age_column.columns = col_name_age\n",
    "the_age_column.index = the_ages.index\n",
    "the_age_column.head(10)"
   ]
  },
  {
   "cell_type": "markdown",
   "metadata": {},
   "source": [
    "\n",
    "#### IMPROVING MISSING AGES WITH MORE COMPLICATED RULES - TO BE ATTEMPTED IN THE FUTURE\n",
    "#### EXTRACT TITLE INFORMATION IN NAMES\n",
    "(1) IF PASSENGER HAS TITLE MASTER OR MISS, THEN REPLACE NAN BY MEDIAN OF PASSENGERS IN AGE RANGE 0-18\n",
    "(2) OTHERWISE REPLACE THE AGE BY MEDIAN OF AGES 18 +"
   ]
  },
  {
   "cell_type": "code",
   "execution_count": 464,
   "metadata": {},
   "outputs": [],
   "source": [
    "## TO CALCULATE THE MEDIANS NEEDED\n",
    "the_age_series = X_train['Age']"
   ]
  },
  {
   "cell_type": "code",
   "execution_count": 465,
   "metadata": {},
   "outputs": [
    {
     "data": {
      "text/plain": [
       "104    37.0\n",
       "40     40.0\n",
       "852     9.0\n",
       "86     16.0\n",
       "147     9.0\n",
       "Name: Age, dtype: float64"
      ]
     },
     "execution_count": 465,
     "metadata": {},
     "output_type": "execute_result"
    }
   ],
   "source": [
    "the_age_series.head()"
   ]
  },
  {
   "cell_type": "code",
   "execution_count": 466,
   "metadata": {
    "collapsed": true
   },
   "outputs": [],
   "source": [
    "low_age = the_age_series[ the_age_series < 18]"
   ]
  },
  {
   "cell_type": "code",
   "execution_count": 467,
   "metadata": {},
   "outputs": [],
   "source": [
    "high_age = the_age_series[ the_age_series >= 18 ]"
   ]
  },
  {
   "cell_type": "code",
   "execution_count": 468,
   "metadata": {},
   "outputs": [
    {
     "name": "stdout",
     "output_type": "stream",
     "text": [
      "LOW_AGE_MEDIAN  9.0 HIGH_AGE_MEDIAN =  31.0\n"
     ]
    }
   ],
   "source": [
    "LOW_AGE_MEDIAN = low_age.median() # MUST REMEMBER THIS NUMBER WHICH WILL BE USED WITH THE TEST SET\n",
    "HIGH_AGE_MEDIAN = high_age.median()\n",
    "print('LOW_AGE_MEDIAN ', LOW_AGE_MEDIAN, 'HIGH_AGE_MEDIAN = ', HIGH_AGE_MEDIAN)"
   ]
  },
  {
   "cell_type": "code",
   "execution_count": 469,
   "metadata": {},
   "outputs": [
    {
     "name": "stdout",
     "output_type": "stream",
     "text": [
      "low_age_median =  9.0 high_age_median =  31.0\n"
     ]
    }
   ],
   "source": [
    "def find_median_ages_for_impputation(X_train):\n",
    "    the_age_series = X_train['Age']\n",
    "    low_age = the_age_series[ the_age_series < 18]\n",
    "    high_age = the_age_series[ the_age_series >= 18 ]\n",
    "    low_age_median = low_age.median() # MUST REMEMBER THIS NUMBER WHICH WILL BE USED WITH THE TEST SET\n",
    "    high_age_median = high_age.median()\n",
    "    return low_age_median, high_age_median\n",
    "low_age_median, high_age_median = find_median_ages_for_impputation(X_train)\n",
    "print('low_age_median = ', low_age_median, 'high_age_median = ', high_age_median)"
   ]
  },
  {
   "cell_type": "code",
   "execution_count": 470,
   "metadata": {},
   "outputs": [],
   "source": [
    "## WE have to write our own imputer Class\n",
    "\n",
    "# TODO write imputer class\n",
    "    "
   ]
  },
  {
   "cell_type": "code",
   "execution_count": null,
   "metadata": {
    "collapsed": true
   },
   "outputs": [],
   "source": []
  },
  {
   "cell_type": "code",
   "execution_count": null,
   "metadata": {
    "collapsed": true
   },
   "outputs": [],
   "source": []
  },
  {
   "cell_type": "markdown",
   "metadata": {},
   "source": [
    "## SOME DATA TRANSFORMATION IDEAS TO EXPLORE"
   ]
  },
  {
   "cell_type": "markdown",
   "metadata": {},
   "source": [
    "### AGGREGATE CABIN INTO SINGLE LETTER CATEGORIES\n",
    "FOR INSTANCE CABIN C123 AND C45 WILL BOTH BE IN CATEGORY CABIN C. WE HAVE ALREADY WORKED ON THIS IN THE ABOVE AND NOW I WANT TO MOVE THOSE CODES HERE FOR ORGANIZATION PURPOSES."
   ]
  },
  {
   "cell_type": "code",
   "execution_count": 471,
   "metadata": {},
   "outputs": [
    {
     "data": {
      "text/html": [
       "<div>\n",
       "<style>\n",
       "    .dataframe thead tr:only-child th {\n",
       "        text-align: right;\n",
       "    }\n",
       "\n",
       "    .dataframe thead th {\n",
       "        text-align: left;\n",
       "    }\n",
       "\n",
       "    .dataframe tbody tr th {\n",
       "        vertical-align: top;\n",
       "    }\n",
       "</style>\n",
       "<table border=\"1\" class=\"dataframe\">\n",
       "  <thead>\n",
       "    <tr style=\"text-align: right;\">\n",
       "      <th></th>\n",
       "      <th>Age</th>\n",
       "      <th>Cabin</th>\n",
       "      <th>Embarked</th>\n",
       "      <th>Fare</th>\n",
       "      <th>Name</th>\n",
       "      <th>Parch</th>\n",
       "      <th>PassengerId</th>\n",
       "      <th>Pclass</th>\n",
       "      <th>Sex</th>\n",
       "      <th>SibSp</th>\n",
       "      <th>Ticket</th>\n",
       "    </tr>\n",
       "  </thead>\n",
       "  <tbody>\n",
       "    <tr>\n",
       "      <th>104</th>\n",
       "      <td>37.0</td>\n",
       "      <td>U</td>\n",
       "      <td>S</td>\n",
       "      <td>7.9250</td>\n",
       "      <td>Gustafsson, Mr. Anders Vilhelm</td>\n",
       "      <td>0</td>\n",
       "      <td>105</td>\n",
       "      <td>3</td>\n",
       "      <td>male</td>\n",
       "      <td>2</td>\n",
       "      <td>3101276</td>\n",
       "    </tr>\n",
       "    <tr>\n",
       "      <th>40</th>\n",
       "      <td>40.0</td>\n",
       "      <td>U</td>\n",
       "      <td>S</td>\n",
       "      <td>9.4750</td>\n",
       "      <td>Ahlin, Mrs. Johan (Johanna Persdotter Larsson)</td>\n",
       "      <td>0</td>\n",
       "      <td>41</td>\n",
       "      <td>3</td>\n",
       "      <td>female</td>\n",
       "      <td>1</td>\n",
       "      <td>7546</td>\n",
       "    </tr>\n",
       "    <tr>\n",
       "      <th>852</th>\n",
       "      <td>9.0</td>\n",
       "      <td>U</td>\n",
       "      <td>C</td>\n",
       "      <td>15.2458</td>\n",
       "      <td>Boulos, Miss. Nourelain</td>\n",
       "      <td>1</td>\n",
       "      <td>853</td>\n",
       "      <td>3</td>\n",
       "      <td>female</td>\n",
       "      <td>1</td>\n",
       "      <td>2678</td>\n",
       "    </tr>\n",
       "    <tr>\n",
       "      <th>86</th>\n",
       "      <td>16.0</td>\n",
       "      <td>U</td>\n",
       "      <td>S</td>\n",
       "      <td>34.3750</td>\n",
       "      <td>Ford, Mr. William Neal</td>\n",
       "      <td>3</td>\n",
       "      <td>87</td>\n",
       "      <td>3</td>\n",
       "      <td>male</td>\n",
       "      <td>1</td>\n",
       "      <td>W./C. 6608</td>\n",
       "    </tr>\n",
       "    <tr>\n",
       "      <th>147</th>\n",
       "      <td>9.0</td>\n",
       "      <td>U</td>\n",
       "      <td>S</td>\n",
       "      <td>34.3750</td>\n",
       "      <td>Ford, Miss. Robina Maggie \"Ruby\"</td>\n",
       "      <td>2</td>\n",
       "      <td>148</td>\n",
       "      <td>3</td>\n",
       "      <td>female</td>\n",
       "      <td>2</td>\n",
       "      <td>W./C. 6608</td>\n",
       "    </tr>\n",
       "    <tr>\n",
       "      <th>719</th>\n",
       "      <td>33.0</td>\n",
       "      <td>U</td>\n",
       "      <td>S</td>\n",
       "      <td>7.7750</td>\n",
       "      <td>Johnson, Mr. Malkolm Joackim</td>\n",
       "      <td>0</td>\n",
       "      <td>720</td>\n",
       "      <td>3</td>\n",
       "      <td>male</td>\n",
       "      <td>0</td>\n",
       "      <td>347062</td>\n",
       "    </tr>\n",
       "    <tr>\n",
       "      <th>116</th>\n",
       "      <td>70.5</td>\n",
       "      <td>U</td>\n",
       "      <td>Q</td>\n",
       "      <td>7.7500</td>\n",
       "      <td>Connors, Mr. Patrick</td>\n",
       "      <td>0</td>\n",
       "      <td>117</td>\n",
       "      <td>3</td>\n",
       "      <td>male</td>\n",
       "      <td>0</td>\n",
       "      <td>370369</td>\n",
       "    </tr>\n",
       "    <tr>\n",
       "      <th>253</th>\n",
       "      <td>30.0</td>\n",
       "      <td>U</td>\n",
       "      <td>S</td>\n",
       "      <td>16.1000</td>\n",
       "      <td>Lobb, Mr. William Arthur</td>\n",
       "      <td>0</td>\n",
       "      <td>254</td>\n",
       "      <td>3</td>\n",
       "      <td>male</td>\n",
       "      <td>1</td>\n",
       "      <td>A/5. 3336</td>\n",
       "    </tr>\n",
       "    <tr>\n",
       "      <th>433</th>\n",
       "      <td>17.0</td>\n",
       "      <td>U</td>\n",
       "      <td>S</td>\n",
       "      <td>7.1250</td>\n",
       "      <td>Kallio, Mr. Nikolai Erland</td>\n",
       "      <td>0</td>\n",
       "      <td>434</td>\n",
       "      <td>3</td>\n",
       "      <td>male</td>\n",
       "      <td>0</td>\n",
       "      <td>STON/O 2. 3101274</td>\n",
       "    </tr>\n",
       "    <tr>\n",
       "      <th>583</th>\n",
       "      <td>36.0</td>\n",
       "      <td>A</td>\n",
       "      <td>C</td>\n",
       "      <td>40.1250</td>\n",
       "      <td>Ross, Mr. John Hugo</td>\n",
       "      <td>0</td>\n",
       "      <td>584</td>\n",
       "      <td>1</td>\n",
       "      <td>male</td>\n",
       "      <td>0</td>\n",
       "      <td>13049</td>\n",
       "    </tr>\n",
       "  </tbody>\n",
       "</table>\n",
       "</div>"
      ],
      "text/plain": [
       "      Age Cabin Embarked     Fare  \\\n",
       "104  37.0     U        S   7.9250   \n",
       "40   40.0     U        S   9.4750   \n",
       "852   9.0     U        C  15.2458   \n",
       "86   16.0     U        S  34.3750   \n",
       "147   9.0     U        S  34.3750   \n",
       "719  33.0     U        S   7.7750   \n",
       "116  70.5     U        Q   7.7500   \n",
       "253  30.0     U        S  16.1000   \n",
       "433  17.0     U        S   7.1250   \n",
       "583  36.0     A        C  40.1250   \n",
       "\n",
       "                                               Name  Parch  PassengerId  \\\n",
       "104                  Gustafsson, Mr. Anders Vilhelm      0          105   \n",
       "40   Ahlin, Mrs. Johan (Johanna Persdotter Larsson)      0           41   \n",
       "852                         Boulos, Miss. Nourelain      1          853   \n",
       "86                           Ford, Mr. William Neal      3           87   \n",
       "147                Ford, Miss. Robina Maggie \"Ruby\"      2          148   \n",
       "719                    Johnson, Mr. Malkolm Joackim      0          720   \n",
       "116                            Connors, Mr. Patrick      0          117   \n",
       "253                        Lobb, Mr. William Arthur      0          254   \n",
       "433                      Kallio, Mr. Nikolai Erland      0          434   \n",
       "583                             Ross, Mr. John Hugo      0          584   \n",
       "\n",
       "     Pclass     Sex  SibSp             Ticket  \n",
       "104       3    male      2            3101276  \n",
       "40        3  female      1               7546  \n",
       "852       3  female      1               2678  \n",
       "86        3    male      1         W./C. 6608  \n",
       "147       3  female      2         W./C. 6608  \n",
       "719       3    male      0             347062  \n",
       "116       3    male      0             370369  \n",
       "253       3    male      1          A/5. 3336  \n",
       "433       3    male      0  STON/O 2. 3101274  \n",
       "583       1    male      0              13049  "
      ]
     },
     "execution_count": 471,
     "metadata": {},
     "output_type": "execute_result"
    }
   ],
   "source": [
    "def replace_cabin_name_by_single_letter(df, Cabin):    ## THIS FUNCTION SHOULD GO INTO TRANSFORMER NOT IN IMPUTER\n",
    "    # mapping each Cabin value with the cabin letter\n",
    "    df['Cabin'] = df['Cabin'].map(lambda c : c[0])\n",
    "replace_cabin_name_by_single_letter(X_train, 'Cabin')\n",
    "X_train.head(10)"
   ]
  },
  {
   "cell_type": "code",
   "execution_count": 472,
   "metadata": {},
   "outputs": [
    {
     "data": {
      "text/plain": [
       "U    444\n",
       "C     41\n",
       "B     29\n",
       "D     20\n",
       "E     18\n",
       "F      9\n",
       "A      7\n",
       "T      1\n",
       "Name: Cabin, dtype: int64"
      ]
     },
     "execution_count": 472,
     "metadata": {},
     "output_type": "execute_result"
    }
   ],
   "source": [
    "X_train['Cabin'].value_counts()"
   ]
  },
  {
   "cell_type": "code",
   "execution_count": 499,
   "metadata": {},
   "outputs": [
    {
     "data": {
      "image/png": "[encoded data removed]",
      "text/plain": [
       "<matplotlib.figure.Figure at 0x10fe4fc18>"
      ]
     },
     "metadata": {},
     "output_type": "display_data"
    }
   ],
   "source": [
    "### Lets see if there is any pattern to the survival based on cabin category\n",
    "def survived_by_cabin (X,y):\n",
    "    X_copy = X\n",
    "    X_copy[list(y.columns)] = y\n",
    "    counts_by_cabin = X_copy['Cabin'].value_counts()\n",
    "    survived_by_cabin = X_copy[X_copy['Survived'] == 1]['Cabin'].value_counts()\n",
    "    frac_surv_by_cabin = (1.0*survived_by_cabin)/counts_by_cabin\n",
    "    return frac_surv_by_cabin\n",
    "d = pd.DataFrame( survived_by_cabin(X_train,y_train) )\n",
    "#d.loc[ ['Baby', 'Child', 'Young', 'Adult', 'Old', 'Very_Old'] ].plot(kind='bar')\n",
    "d.plot(kind='bar')\n",
    "plt.show()\n",
    "## Looks like Cabin letter is also a good indicator - If you are U or T or A you have much less chance\n",
    "## If you are B, C, D, E, you have way better chance"
   ]
  },
  {
   "cell_type": "markdown",
   "metadata": {},
   "source": [
    "### EXTRACT TITLE FROM NAME\n",
    "While we are at it we can extract several titles\n",
    "\n",
    "Master\n",
    "Mr\n",
    "Miss\n",
    "Mrs\n",
    "Professional for Dr and Rev\n",
    "Military for Maj, Cap, Col, Sgt,...\n",
    "Nobility for Hon, Count, Countess, Don\n",
    "\n",
    "We will get all the titles by value_counts()"
   ]
  },
  {
   "cell_type": "code",
   "execution_count": 473,
   "metadata": {},
   "outputs": [
    {
     "data": {
      "text/plain": [
       "Mr              517\n",
       "Miss            182\n",
       "Mrs             125\n",
       "Master           40\n",
       "Dr                7\n",
       "Rev               6\n",
       "Col               2\n",
       "Mlle              2\n",
       "Major             2\n",
       "Jonkheer          1\n",
       "Capt              1\n",
       "Ms                1\n",
       "Mme               1\n",
       "Don               1\n",
       "the Countess      1\n",
       "Lady              1\n",
       "Sir               1\n",
       "Name: Title, dtype: int64"
      ]
     },
     "execution_count": 473,
     "metadata": {},
     "output_type": "execute_result"
    }
   ],
   "source": [
    "def extract_titles_1 (df1, column = 'Name'):\n",
    "    df = df1.copy()\n",
    "    df['Title'] = df[column].map( lambda name: name.split(',')[1].split('.')[0].strip() )\n",
    "    title_counts = df['Title'].value_counts()\n",
    "    return title_counts\n",
    "extract_titles_1 (raw_data)"
   ]
  },
  {
   "cell_type": "code",
   "execution_count": 474,
   "metadata": {},
   "outputs": [],
   "source": [
    "## Keep dictionary of titles\n",
    "title_dict = {\n",
    "    'Mr' : 'Mr',\n",
    "    'Miss' : 'Miss',\n",
    "    'Mrs' : 'Mrs', 'Ms' : 'Mrs',\n",
    "    'Master' : 'Master',\n",
    "    'Dr' : 'Professional',  'Rev' : 'Professional',\n",
    "    'Col' : 'Military', 'Maj' : 'Military', 'Capt' : 'Military',\n",
    "    'Lady' : 'Nobility', 'Sir' : 'Nobility', 'Mlle' : 'Nobility', 'Mme' : 'Nobility',\n",
    "    'Don' : 'Nobility', 'the Countess' : 'Nobility', 'Jonkheer'  : 'Nobility',\n",
    "}"
   ]
  },
  {
   "cell_type": "code",
   "execution_count": 475,
   "metadata": {},
   "outputs": [
    {
     "name": "stdout",
     "output_type": "stream",
     "text": [
      "Title counts in raw_data\n"
     ]
    },
    {
     "data": {
      "text/plain": [
       "Mr              517\n",
       "Miss            182\n",
       "Mrs             126\n",
       "Master           40\n",
       "Professional     13\n",
       "Nobility          8\n",
       "Military          3\n",
       "Name: Title, dtype: int64"
      ]
     },
     "execution_count": 475,
     "metadata": {},
     "output_type": "execute_result"
    }
   ],
   "source": [
    "def extract_titles_2 (df1, column = 'Name'):\n",
    "    df = df1.copy()\n",
    "    df['Title'] = df[column].map( lambda name: name.split(',')[1].split('.')[0].strip() )\n",
    "    df['Title'] = df['Title'].map(title_dict)\n",
    "    title_counts = df['Title'].value_counts()\n",
    "    return title_counts\n",
    "print(\"Title counts in raw_data\")\n",
    "extract_titles_2 (raw_data)\n"
   ]
  },
  {
   "cell_type": "code",
   "execution_count": 476,
   "metadata": {},
   "outputs": [
    {
     "data": {
      "text/html": [
       "<div>\n",
       "<style>\n",
       "    .dataframe thead tr:only-child th {\n",
       "        text-align: right;\n",
       "    }\n",
       "\n",
       "    .dataframe thead th {\n",
       "        text-align: left;\n",
       "    }\n",
       "\n",
       "    .dataframe tbody tr th {\n",
       "        vertical-align: top;\n",
       "    }\n",
       "</style>\n",
       "<table border=\"1\" class=\"dataframe\">\n",
       "  <thead>\n",
       "    <tr style=\"text-align: right;\">\n",
       "      <th></th>\n",
       "      <th>Age</th>\n",
       "      <th>Cabin</th>\n",
       "      <th>Embarked</th>\n",
       "      <th>Fare</th>\n",
       "      <th>Name</th>\n",
       "      <th>Parch</th>\n",
       "      <th>PassengerId</th>\n",
       "      <th>Pclass</th>\n",
       "      <th>Sex</th>\n",
       "      <th>SibSp</th>\n",
       "      <th>Ticket</th>\n",
       "      <th>Title</th>\n",
       "    </tr>\n",
       "  </thead>\n",
       "  <tbody>\n",
       "    <tr>\n",
       "      <th>104</th>\n",
       "      <td>37.0</td>\n",
       "      <td>U</td>\n",
       "      <td>S</td>\n",
       "      <td>7.9250</td>\n",
       "      <td>Gustafsson, Mr. Anders Vilhelm</td>\n",
       "      <td>0</td>\n",
       "      <td>105</td>\n",
       "      <td>3</td>\n",
       "      <td>male</td>\n",
       "      <td>2</td>\n",
       "      <td>3101276</td>\n",
       "      <td>Mr</td>\n",
       "    </tr>\n",
       "    <tr>\n",
       "      <th>40</th>\n",
       "      <td>40.0</td>\n",
       "      <td>U</td>\n",
       "      <td>S</td>\n",
       "      <td>9.4750</td>\n",
       "      <td>Ahlin, Mrs. Johan (Johanna Persdotter Larsson)</td>\n",
       "      <td>0</td>\n",
       "      <td>41</td>\n",
       "      <td>3</td>\n",
       "      <td>female</td>\n",
       "      <td>1</td>\n",
       "      <td>7546</td>\n",
       "      <td>Mrs</td>\n",
       "    </tr>\n",
       "    <tr>\n",
       "      <th>852</th>\n",
       "      <td>9.0</td>\n",
       "      <td>U</td>\n",
       "      <td>C</td>\n",
       "      <td>15.2458</td>\n",
       "      <td>Boulos, Miss. Nourelain</td>\n",
       "      <td>1</td>\n",
       "      <td>853</td>\n",
       "      <td>3</td>\n",
       "      <td>female</td>\n",
       "      <td>1</td>\n",
       "      <td>2678</td>\n",
       "      <td>Miss</td>\n",
       "    </tr>\n",
       "    <tr>\n",
       "      <th>86</th>\n",
       "      <td>16.0</td>\n",
       "      <td>U</td>\n",
       "      <td>S</td>\n",
       "      <td>34.3750</td>\n",
       "      <td>Ford, Mr. William Neal</td>\n",
       "      <td>3</td>\n",
       "      <td>87</td>\n",
       "      <td>3</td>\n",
       "      <td>male</td>\n",
       "      <td>1</td>\n",
       "      <td>W./C. 6608</td>\n",
       "      <td>Mr</td>\n",
       "    </tr>\n",
       "    <tr>\n",
       "      <th>147</th>\n",
       "      <td>9.0</td>\n",
       "      <td>U</td>\n",
       "      <td>S</td>\n",
       "      <td>34.3750</td>\n",
       "      <td>Ford, Miss. Robina Maggie \"Ruby\"</td>\n",
       "      <td>2</td>\n",
       "      <td>148</td>\n",
       "      <td>3</td>\n",
       "      <td>female</td>\n",
       "      <td>2</td>\n",
       "      <td>W./C. 6608</td>\n",
       "      <td>Miss</td>\n",
       "    </tr>\n",
       "  </tbody>\n",
       "</table>\n",
       "</div>"
      ],
      "text/plain": [
       "      Age Cabin Embarked     Fare  \\\n",
       "104  37.0     U        S   7.9250   \n",
       "40   40.0     U        S   9.4750   \n",
       "852   9.0     U        C  15.2458   \n",
       "86   16.0     U        S  34.3750   \n",
       "147   9.0     U        S  34.3750   \n",
       "\n",
       "                                               Name  Parch  PassengerId  \\\n",
       "104                  Gustafsson, Mr. Anders Vilhelm      0          105   \n",
       "40   Ahlin, Mrs. Johan (Johanna Persdotter Larsson)      0           41   \n",
       "852                         Boulos, Miss. Nourelain      1          853   \n",
       "86                           Ford, Mr. William Neal      3           87   \n",
       "147                Ford, Miss. Robina Maggie \"Ruby\"      2          148   \n",
       "\n",
       "     Pclass     Sex  SibSp      Ticket Title  \n",
       "104       3    male      2     3101276    Mr  \n",
       "40        3  female      1        7546   Mrs  \n",
       "852       3  female      1        2678  Miss  \n",
       "86        3    male      1  W./C. 6608    Mr  \n",
       "147       3  female      2  W./C. 6608  Miss  "
      ]
     },
     "execution_count": 476,
     "metadata": {},
     "output_type": "execute_result"
    }
   ],
   "source": [
    "def extract_titles (df1, column = 'Name'):  #### THIS IS WHAT WE WANT IN THE FINAL TRANSFORMATION\n",
    "    df = df1.copy()\n",
    "    df['Title'] = df[column].map( lambda name: name.split(',')[1].split('.')[0].strip() )\n",
    "    df['Title'] = df['Title'].map(title_dict)\n",
    "#    title_counts = df['Title'].value_counts()\n",
    "    return df\n",
    "X_train = extract_titles (X_train)\n",
    "X_train.head()"
   ]
  },
  {
   "cell_type": "code",
   "execution_count": 498,
   "metadata": {},
   "outputs": [
    {
     "data": {
      "image/png": "[encoded data removed]",
      "text/plain": [
       "<matplotlib.figure.Figure at 0x11173c0f0>"
      ]
     },
     "metadata": {},
     "output_type": "display_data"
    }
   ],
   "source": [
    "## Lets visualize to see if this rerived feature will be effective\n",
    "def survived_by_title (X,y):\n",
    "    X_copy = X\n",
    "    X_copy[list(y.columns)] = y\n",
    "    counts_by_title = X_copy['Title'].value_counts()\n",
    "    survived_by_title = X_copy[X_copy['Survived'] == 1]['Title'].value_counts()\n",
    "    frac_surv_by_title = (1.0*survived_by_title)/counts_by_title\n",
    "    return frac_surv_by_title\n",
    "d = pd.DataFrame( survived_by_title(X_train,y_train) )\n",
    "#d.loc[ ['Baby', 'Child', 'Young', 'Adult', 'Old', 'Very_Old'] ].plot(kind='bar')\n",
    "d.plot(kind='bar')\n",
    "plt.show()\n",
    "## Apears to be a good categorizer - has distinct reaction: If you are Mr or Milaitary or Professional, you are doomed\n",
    "## If you are a Master or Miss or Mrs or Nobility you have way better chance"
   ]
  },
  {
   "cell_type": "markdown",
   "metadata": {},
   "source": [
    "### HOW ARE AGES DISTRIBUTED? SHOULD WE BIN AGES TO CAPTURE EFFECT BASED ON AGE_GROUPS?\n",
    "THE RESULT BELOW SHOWS THAT AGGREGATING MASTER AND MISS WOULD NOT CAPTURE YOUNG CHILDREN AS A SEPARATE GROUP"
   ]
  },
  {
   "cell_type": "code",
   "execution_count": 477,
   "metadata": {},
   "outputs": [
    {
     "data": {
      "text/plain": [
       "Title\n",
       "Master           3.0\n",
       "Military        60.0\n",
       "Miss            21.0\n",
       "Mr              30.0\n",
       "Mrs             35.0\n",
       "Nobility        33.0\n",
       "Professional    49.5\n",
       "Name: Age, dtype: float64"
      ]
     },
     "execution_count": 477,
     "metadata": {},
     "output_type": "execute_result"
    }
   ],
   "source": [
    "X_train.groupby('Title')['Age'].median()"
   ]
  },
  {
   "cell_type": "markdown",
   "metadata": {},
   "source": [
    "#### AGGREGATING BY AGE GROUPS"
   ]
  },
  {
   "cell_type": "code",
   "execution_count": 478,
   "metadata": {},
   "outputs": [],
   "source": [
    "def add_age_group(df):\n",
    "    df_cp = df.copy()\n",
    "    age_groups = ['Baby', 'Child', 'Young', 'Adult', 'Old', 'Very_Old']\n",
    "    age_bins = [0, 2, 10, 18, 55, 70, 120]\n",
    "    df_cp['Age_Group'] = pd.cut(df_cp.Age, age_bins, right=False, labels=age_groups)\n",
    "    return df_cp\n",
    "\n",
    "X_train = add_age_group(X_train)"
   ]
  },
  {
   "cell_type": "code",
   "execution_count": 479,
   "metadata": {},
   "outputs": [
    {
     "data": {
      "text/html": [
       "<div>\n",
       "<style>\n",
       "    .dataframe thead tr:only-child th {\n",
       "        text-align: right;\n",
       "    }\n",
       "\n",
       "    .dataframe thead th {\n",
       "        text-align: left;\n",
       "    }\n",
       "\n",
       "    .dataframe tbody tr th {\n",
       "        vertical-align: top;\n",
       "    }\n",
       "</style>\n",
       "<table border=\"1\" class=\"dataframe\">\n",
       "  <thead>\n",
       "    <tr style=\"text-align: right;\">\n",
       "      <th></th>\n",
       "      <th>Age</th>\n",
       "      <th>Cabin</th>\n",
       "      <th>Embarked</th>\n",
       "      <th>Fare</th>\n",
       "      <th>Name</th>\n",
       "      <th>Parch</th>\n",
       "      <th>PassengerId</th>\n",
       "      <th>Pclass</th>\n",
       "      <th>Sex</th>\n",
       "      <th>SibSp</th>\n",
       "      <th>Ticket</th>\n",
       "      <th>Title</th>\n",
       "      <th>Age_Group</th>\n",
       "    </tr>\n",
       "  </thead>\n",
       "  <tbody>\n",
       "    <tr>\n",
       "      <th>104</th>\n",
       "      <td>37.0</td>\n",
       "      <td>U</td>\n",
       "      <td>S</td>\n",
       "      <td>7.925</td>\n",
       "      <td>Gustafsson, Mr. Anders Vilhelm</td>\n",
       "      <td>0</td>\n",
       "      <td>105</td>\n",
       "      <td>3</td>\n",
       "      <td>male</td>\n",
       "      <td>2</td>\n",
       "      <td>3101276</td>\n",
       "      <td>Mr</td>\n",
       "      <td>Adult</td>\n",
       "    </tr>\n",
       "  </tbody>\n",
       "</table>\n",
       "</div>"
      ],
      "text/plain": [
       "      Age Cabin Embarked   Fare                            Name  Parch  \\\n",
       "104  37.0     U        S  7.925  Gustafsson, Mr. Anders Vilhelm      0   \n",
       "\n",
       "     PassengerId  Pclass   Sex  SibSp   Ticket Title Age_Group  \n",
       "104          105       3  male      2  3101276    Mr     Adult  "
      ]
     },
     "execution_count": 479,
     "metadata": {},
     "output_type": "execute_result"
    }
   ],
   "source": [
    "#X_train = X_train.drop('Age_Group', axis = 1)\n",
    "X_train.head(1)"
   ]
  },
  {
   "cell_type": "code",
   "execution_count": 480,
   "metadata": {},
   "outputs": [
    {
     "data": {
      "text/plain": [
       "pandas.core.series.Series"
      ]
     },
     "execution_count": 480,
     "metadata": {},
     "output_type": "execute_result"
    }
   ],
   "source": [
    "age_medians = X_train.groupby('Age_Group')['Age'].median()\n",
    "age_medians.__class__"
   ]
  },
  {
   "cell_type": "code",
   "execution_count": 481,
   "metadata": {},
   "outputs": [
    {
     "data": {
      "text/plain": [
       "0.95999999999999996"
      ]
     },
     "execution_count": 481,
     "metadata": {},
     "output_type": "execute_result"
    }
   ],
   "source": [
    "age_medians['Baby']"
   ]
  },
  {
   "cell_type": "code",
   "execution_count": 482,
   "metadata": {},
   "outputs": [
    {
     "data": {
      "text/plain": [
       "Age_Group\n",
       "Baby         0.96\n",
       "Child        4.00\n",
       "Young       16.00\n",
       "Adult       30.00\n",
       "Old         60.00\n",
       "Very_Old    70.50\n",
       "Name: Age, dtype: float64"
      ]
     },
     "execution_count": 482,
     "metadata": {},
     "output_type": "execute_result"
    }
   ],
   "source": [
    "age_medians"
   ]
  },
  {
   "cell_type": "code",
   "execution_count": 483,
   "metadata": {},
   "outputs": [
    {
     "data": {
      "text/plain": [
       "Adult       355\n",
       "Young        34\n",
       "Child        28\n",
       "Old          21\n",
       "Baby         12\n",
       "Very_Old      5\n",
       "Name: Age_Group, dtype: int64"
      ]
     },
     "execution_count": 483,
     "metadata": {},
     "output_type": "execute_result"
    }
   ],
   "source": [
    "X_train['Age_Group'].value_counts()"
   ]
  },
  {
   "cell_type": "code",
   "execution_count": 496,
   "metadata": {},
   "outputs": [
    {
     "data": {
      "image/png": "[encoded data removed]",
      "text/plain": [
       "<matplotlib.figure.Figure at 0x111779978>"
      ]
     },
     "metadata": {},
     "output_type": "display_data"
    }
   ],
   "source": [
    "## LETS VISUALIZE THE SURVIVAL BY AGE GROUPS\n",
    "def survived_by_age (X,y):\n",
    "    X_copy = X\n",
    "    X_copy[list(y.columns)] = y\n",
    "    counts_by_age = X_copy['Age_Group'].value_counts()\n",
    "    survived_by_age = X_copy[X_copy['Survived'] == 1]['Age_Group'].value_counts()\n",
    "    frac_surv_by_age = (1.0*survived_by_age)/counts_by_age\n",
    "    return frac_surv_by_age\n",
    "d = pd.DataFrame( survived_by_age(X_train,y_train) )\n",
    "d.loc[ ['Baby', 'Child', 'Young', 'Adult', 'Old', 'Very_Old'] ].plot(kind='bar')\n",
    "plt.show()\n",
    "## Wow, no very old people survived and very high percentage of babies survived!!!\n",
    "## This age_group will be a significant derived feature"
   ]
  },
  {
   "cell_type": "markdown",
   "metadata": {},
   "source": [
    "### AGGREGATE TICKETS INTO SINGLE LETTER CATEGORIES\n",
    "MAYBE JUST LIKE CABIN, THERE IS SOME ORDER TO THE TICKET NUMBERING"
   ]
  },
  {
   "cell_type": "code",
   "execution_count": 500,
   "metadata": {},
   "outputs": [
    {
     "data": {
      "text/html": [
       "<div>\n",
       "<style>\n",
       "    .dataframe thead tr:only-child th {\n",
       "        text-align: right;\n",
       "    }\n",
       "\n",
       "    .dataframe thead th {\n",
       "        text-align: left;\n",
       "    }\n",
       "\n",
       "    .dataframe tbody tr th {\n",
       "        vertical-align: top;\n",
       "    }\n",
       "</style>\n",
       "<table border=\"1\" class=\"dataframe\">\n",
       "  <thead>\n",
       "    <tr style=\"text-align: right;\">\n",
       "      <th></th>\n",
       "      <th>Age</th>\n",
       "      <th>Cabin</th>\n",
       "      <th>Embarked</th>\n",
       "      <th>Fare</th>\n",
       "      <th>Name</th>\n",
       "      <th>Parch</th>\n",
       "      <th>PassengerId</th>\n",
       "      <th>Pclass</th>\n",
       "      <th>Sex</th>\n",
       "      <th>SibSp</th>\n",
       "      <th>Ticket</th>\n",
       "      <th>Title</th>\n",
       "      <th>Age_Group</th>\n",
       "      <th>Survived</th>\n",
       "    </tr>\n",
       "  </thead>\n",
       "  <tbody>\n",
       "    <tr>\n",
       "      <th>104</th>\n",
       "      <td>37.0</td>\n",
       "      <td>U</td>\n",
       "      <td>S</td>\n",
       "      <td>7.9250</td>\n",
       "      <td>Gustafsson, Mr. Anders Vilhelm</td>\n",
       "      <td>0</td>\n",
       "      <td>105</td>\n",
       "      <td>3</td>\n",
       "      <td>male</td>\n",
       "      <td>2</td>\n",
       "      <td>3</td>\n",
       "      <td>Mr</td>\n",
       "      <td>Adult</td>\n",
       "      <td>0</td>\n",
       "    </tr>\n",
       "    <tr>\n",
       "      <th>40</th>\n",
       "      <td>40.0</td>\n",
       "      <td>U</td>\n",
       "      <td>S</td>\n",
       "      <td>9.4750</td>\n",
       "      <td>Ahlin, Mrs. Johan (Johanna Persdotter Larsson)</td>\n",
       "      <td>0</td>\n",
       "      <td>41</td>\n",
       "      <td>3</td>\n",
       "      <td>female</td>\n",
       "      <td>1</td>\n",
       "      <td>7</td>\n",
       "      <td>Mrs</td>\n",
       "      <td>Adult</td>\n",
       "      <td>0</td>\n",
       "    </tr>\n",
       "    <tr>\n",
       "      <th>852</th>\n",
       "      <td>9.0</td>\n",
       "      <td>U</td>\n",
       "      <td>C</td>\n",
       "      <td>15.2458</td>\n",
       "      <td>Boulos, Miss. Nourelain</td>\n",
       "      <td>1</td>\n",
       "      <td>853</td>\n",
       "      <td>3</td>\n",
       "      <td>female</td>\n",
       "      <td>1</td>\n",
       "      <td>2</td>\n",
       "      <td>Miss</td>\n",
       "      <td>Child</td>\n",
       "      <td>0</td>\n",
       "    </tr>\n",
       "    <tr>\n",
       "      <th>86</th>\n",
       "      <td>16.0</td>\n",
       "      <td>U</td>\n",
       "      <td>S</td>\n",
       "      <td>34.3750</td>\n",
       "      <td>Ford, Mr. William Neal</td>\n",
       "      <td>3</td>\n",
       "      <td>87</td>\n",
       "      <td>3</td>\n",
       "      <td>male</td>\n",
       "      <td>1</td>\n",
       "      <td>W</td>\n",
       "      <td>Mr</td>\n",
       "      <td>Young</td>\n",
       "      <td>0</td>\n",
       "    </tr>\n",
       "    <tr>\n",
       "      <th>147</th>\n",
       "      <td>9.0</td>\n",
       "      <td>U</td>\n",
       "      <td>S</td>\n",
       "      <td>34.3750</td>\n",
       "      <td>Ford, Miss. Robina Maggie \"Ruby\"</td>\n",
       "      <td>2</td>\n",
       "      <td>148</td>\n",
       "      <td>3</td>\n",
       "      <td>female</td>\n",
       "      <td>2</td>\n",
       "      <td>W</td>\n",
       "      <td>Miss</td>\n",
       "      <td>Child</td>\n",
       "      <td>0</td>\n",
       "    </tr>\n",
       "    <tr>\n",
       "      <th>719</th>\n",
       "      <td>33.0</td>\n",
       "      <td>U</td>\n",
       "      <td>S</td>\n",
       "      <td>7.7750</td>\n",
       "      <td>Johnson, Mr. Malkolm Joackim</td>\n",
       "      <td>0</td>\n",
       "      <td>720</td>\n",
       "      <td>3</td>\n",
       "      <td>male</td>\n",
       "      <td>0</td>\n",
       "      <td>3</td>\n",
       "      <td>Mr</td>\n",
       "      <td>Adult</td>\n",
       "      <td>0</td>\n",
       "    </tr>\n",
       "    <tr>\n",
       "      <th>116</th>\n",
       "      <td>70.5</td>\n",
       "      <td>U</td>\n",
       "      <td>Q</td>\n",
       "      <td>7.7500</td>\n",
       "      <td>Connors, Mr. Patrick</td>\n",
       "      <td>0</td>\n",
       "      <td>117</td>\n",
       "      <td>3</td>\n",
       "      <td>male</td>\n",
       "      <td>0</td>\n",
       "      <td>3</td>\n",
       "      <td>Mr</td>\n",
       "      <td>Very_Old</td>\n",
       "      <td>0</td>\n",
       "    </tr>\n",
       "    <tr>\n",
       "      <th>253</th>\n",
       "      <td>30.0</td>\n",
       "      <td>U</td>\n",
       "      <td>S</td>\n",
       "      <td>16.1000</td>\n",
       "      <td>Lobb, Mr. William Arthur</td>\n",
       "      <td>0</td>\n",
       "      <td>254</td>\n",
       "      <td>3</td>\n",
       "      <td>male</td>\n",
       "      <td>1</td>\n",
       "      <td>A</td>\n",
       "      <td>Mr</td>\n",
       "      <td>Adult</td>\n",
       "      <td>0</td>\n",
       "    </tr>\n",
       "    <tr>\n",
       "      <th>433</th>\n",
       "      <td>17.0</td>\n",
       "      <td>U</td>\n",
       "      <td>S</td>\n",
       "      <td>7.1250</td>\n",
       "      <td>Kallio, Mr. Nikolai Erland</td>\n",
       "      <td>0</td>\n",
       "      <td>434</td>\n",
       "      <td>3</td>\n",
       "      <td>male</td>\n",
       "      <td>0</td>\n",
       "      <td>S</td>\n",
       "      <td>Mr</td>\n",
       "      <td>Young</td>\n",
       "      <td>0</td>\n",
       "    </tr>\n",
       "    <tr>\n",
       "      <th>583</th>\n",
       "      <td>36.0</td>\n",
       "      <td>A</td>\n",
       "      <td>C</td>\n",
       "      <td>40.1250</td>\n",
       "      <td>Ross, Mr. John Hugo</td>\n",
       "      <td>0</td>\n",
       "      <td>584</td>\n",
       "      <td>1</td>\n",
       "      <td>male</td>\n",
       "      <td>0</td>\n",
       "      <td>1</td>\n",
       "      <td>Mr</td>\n",
       "      <td>Adult</td>\n",
       "      <td>0</td>\n",
       "    </tr>\n",
       "  </tbody>\n",
       "</table>\n",
       "</div>"
      ],
      "text/plain": [
       "      Age Cabin Embarked     Fare  \\\n",
       "104  37.0     U        S   7.9250   \n",
       "40   40.0     U        S   9.4750   \n",
       "852   9.0     U        C  15.2458   \n",
       "86   16.0     U        S  34.3750   \n",
       "147   9.0     U        S  34.3750   \n",
       "719  33.0     U        S   7.7750   \n",
       "116  70.5     U        Q   7.7500   \n",
       "253  30.0     U        S  16.1000   \n",
       "433  17.0     U        S   7.1250   \n",
       "583  36.0     A        C  40.1250   \n",
       "\n",
       "                                               Name  Parch  PassengerId  \\\n",
       "104                  Gustafsson, Mr. Anders Vilhelm      0          105   \n",
       "40   Ahlin, Mrs. Johan (Johanna Persdotter Larsson)      0           41   \n",
       "852                         Boulos, Miss. Nourelain      1          853   \n",
       "86                           Ford, Mr. William Neal      3           87   \n",
       "147                Ford, Miss. Robina Maggie \"Ruby\"      2          148   \n",
       "719                    Johnson, Mr. Malkolm Joackim      0          720   \n",
       "116                            Connors, Mr. Patrick      0          117   \n",
       "253                        Lobb, Mr. William Arthur      0          254   \n",
       "433                      Kallio, Mr. Nikolai Erland      0          434   \n",
       "583                             Ross, Mr. John Hugo      0          584   \n",
       "\n",
       "     Pclass     Sex  SibSp Ticket Title Age_Group  Survived  \n",
       "104       3    male      2      3    Mr     Adult         0  \n",
       "40        3  female      1      7   Mrs     Adult         0  \n",
       "852       3  female      1      2  Miss     Child         0  \n",
       "86        3    male      1      W    Mr     Young         0  \n",
       "147       3  female      2      W  Miss     Child         0  \n",
       "719       3    male      0      3    Mr     Adult         0  \n",
       "116       3    male      0      3    Mr  Very_Old         0  \n",
       "253       3    male      1      A    Mr     Adult         0  \n",
       "433       3    male      0      S    Mr     Young         0  \n",
       "583       1    male      0      1    Mr     Adult         0  "
      ]
     },
     "execution_count": 500,
     "metadata": {},
     "output_type": "execute_result"
    }
   ],
   "source": [
    "def replace_ticket_name_by_single_letter(df, Ticket):    ## THIS FUNCTION SHOULD GO INTO TRANSFORMER NOT IN IMPUTER\n",
    "    # mapping each Cabin value with the cabin letter\n",
    "    df['Ticket'] = df['Ticket'].map(lambda t : t[0])\n",
    "replace_ticket_name_by_single_letter(X_train, 'Ticket')\n",
    "X_train.head(10)"
   ]
  },
  {
   "cell_type": "code",
   "execution_count": 501,
   "metadata": {},
   "outputs": [
    {
     "data": {
      "text/plain": [
       "3    188\n",
       "2    122\n",
       "1     84\n",
       "S     49\n",
       "P     43\n",
       "C     27\n",
       "A     15\n",
       "W      9\n",
       "4      8\n",
       "7      6\n",
       "6      5\n",
       "F      5\n",
       "L      3\n",
       "5      2\n",
       "8      2\n",
       "9      1\n",
       "Name: Ticket, dtype: int64"
      ]
     },
     "execution_count": 501,
     "metadata": {},
     "output_type": "execute_result"
    }
   ],
   "source": [
    "X_train['Ticket'].value_counts()"
   ]
  },
  {
   "cell_type": "code",
   "execution_count": 503,
   "metadata": {},
   "outputs": [
    {
     "data": {
      "image/png": "[encoded data removed]",
      "text/plain": [
       "<matplotlib.figure.Figure at 0x10ff4d470>"
      ]
     },
     "metadata": {},
     "output_type": "display_data"
    }
   ],
   "source": [
    "### Lets see if there is any pattern to the survival based on cabin category\n",
    "def survived_by_ticket (X,y):\n",
    "    X_copy = X\n",
    "    X_copy[list(y.columns)] = y\n",
    "    counts_by_ticket = X_copy['Ticket'].value_counts()\n",
    "    survived_by_ticket = X_copy[X_copy['Survived'] == 1]['Ticket'].value_counts()\n",
    "    frac_surv_by_ticket = (1.0*survived_by_ticket)/counts_by_ticket\n",
    "    return frac_surv_by_ticket\n",
    "d = pd.DataFrame( survived_by_ticket(X_train,y_train) )\n",
    "#d.loc[ ['Baby', 'Child', 'Young', 'Adult', 'Old', 'Very_Old'] ].plot(kind='bar')\n",
    "d.plot(kind='bar')\n",
    "plt.show()\n",
    "## Boy, if you were W, L, A, 5, 6, 7, 8 - you will be most likely dead\n",
    "## 1, 9, F, P - survived well \n",
    "## Looks like aggregating tickets is helpful"
   ]
  },
  {
   "cell_type": "markdown",
   "metadata": {},
   "source": [
    "### SHOULD WE COMBINE PARCH AND SIBSP INTO A FAMILY CATEGORY? MAYBE, FAMILIES SURVIVE TOGETHER OR PERISH TOGETHER\n"
   ]
  },
  {
   "cell_type": "code",
   "execution_count": 510,
   "metadata": {},
   "outputs": [
    {
     "data": {
      "text/html": [
       "<div>\n",
       "<style>\n",
       "    .dataframe thead tr:only-child th {\n",
       "        text-align: right;\n",
       "    }\n",
       "\n",
       "    .dataframe thead th {\n",
       "        text-align: left;\n",
       "    }\n",
       "\n",
       "    .dataframe tbody tr th {\n",
       "        vertical-align: top;\n",
       "    }\n",
       "</style>\n",
       "<table border=\"1\" class=\"dataframe\">\n",
       "  <thead>\n",
       "    <tr style=\"text-align: right;\">\n",
       "      <th></th>\n",
       "      <th>Age</th>\n",
       "      <th>Cabin</th>\n",
       "      <th>Embarked</th>\n",
       "      <th>Fare</th>\n",
       "      <th>Name</th>\n",
       "      <th>Parch</th>\n",
       "      <th>PassengerId</th>\n",
       "      <th>Pclass</th>\n",
       "      <th>Sex</th>\n",
       "      <th>SibSp</th>\n",
       "      <th>Ticket</th>\n",
       "      <th>Title</th>\n",
       "      <th>Age_Group</th>\n",
       "      <th>Survived</th>\n",
       "      <th>Family</th>\n",
       "    </tr>\n",
       "  </thead>\n",
       "  <tbody>\n",
       "    <tr>\n",
       "      <th>104</th>\n",
       "      <td>37.0</td>\n",
       "      <td>U</td>\n",
       "      <td>S</td>\n",
       "      <td>7.9250</td>\n",
       "      <td>Gustafsson, Mr. Anders Vilhelm</td>\n",
       "      <td>0</td>\n",
       "      <td>105</td>\n",
       "      <td>3</td>\n",
       "      <td>male</td>\n",
       "      <td>2</td>\n",
       "      <td>3</td>\n",
       "      <td>Mr</td>\n",
       "      <td>Adult</td>\n",
       "      <td>0</td>\n",
       "      <td>2</td>\n",
       "    </tr>\n",
       "    <tr>\n",
       "      <th>40</th>\n",
       "      <td>40.0</td>\n",
       "      <td>U</td>\n",
       "      <td>S</td>\n",
       "      <td>9.4750</td>\n",
       "      <td>Ahlin, Mrs. Johan (Johanna Persdotter Larsson)</td>\n",
       "      <td>0</td>\n",
       "      <td>41</td>\n",
       "      <td>3</td>\n",
       "      <td>female</td>\n",
       "      <td>1</td>\n",
       "      <td>7</td>\n",
       "      <td>Mrs</td>\n",
       "      <td>Adult</td>\n",
       "      <td>0</td>\n",
       "      <td>1</td>\n",
       "    </tr>\n",
       "    <tr>\n",
       "      <th>852</th>\n",
       "      <td>9.0</td>\n",
       "      <td>U</td>\n",
       "      <td>C</td>\n",
       "      <td>15.2458</td>\n",
       "      <td>Boulos, Miss. Nourelain</td>\n",
       "      <td>1</td>\n",
       "      <td>853</td>\n",
       "      <td>3</td>\n",
       "      <td>female</td>\n",
       "      <td>1</td>\n",
       "      <td>2</td>\n",
       "      <td>Miss</td>\n",
       "      <td>Child</td>\n",
       "      <td>0</td>\n",
       "      <td>2</td>\n",
       "    </tr>\n",
       "    <tr>\n",
       "      <th>86</th>\n",
       "      <td>16.0</td>\n",
       "      <td>U</td>\n",
       "      <td>S</td>\n",
       "      <td>34.3750</td>\n",
       "      <td>Ford, Mr. William Neal</td>\n",
       "      <td>3</td>\n",
       "      <td>87</td>\n",
       "      <td>3</td>\n",
       "      <td>male</td>\n",
       "      <td>1</td>\n",
       "      <td>W</td>\n",
       "      <td>Mr</td>\n",
       "      <td>Young</td>\n",
       "      <td>0</td>\n",
       "      <td>4</td>\n",
       "    </tr>\n",
       "    <tr>\n",
       "      <th>147</th>\n",
       "      <td>9.0</td>\n",
       "      <td>U</td>\n",
       "      <td>S</td>\n",
       "      <td>34.3750</td>\n",
       "      <td>Ford, Miss. Robina Maggie \"Ruby\"</td>\n",
       "      <td>2</td>\n",
       "      <td>148</td>\n",
       "      <td>3</td>\n",
       "      <td>female</td>\n",
       "      <td>2</td>\n",
       "      <td>W</td>\n",
       "      <td>Miss</td>\n",
       "      <td>Child</td>\n",
       "      <td>0</td>\n",
       "      <td>4</td>\n",
       "    </tr>\n",
       "  </tbody>\n",
       "</table>\n",
       "</div>"
      ],
      "text/plain": [
       "      Age Cabin Embarked     Fare  \\\n",
       "104  37.0     U        S   7.9250   \n",
       "40   40.0     U        S   9.4750   \n",
       "852   9.0     U        C  15.2458   \n",
       "86   16.0     U        S  34.3750   \n",
       "147   9.0     U        S  34.3750   \n",
       "\n",
       "                                               Name  Parch  PassengerId  \\\n",
       "104                  Gustafsson, Mr. Anders Vilhelm      0          105   \n",
       "40   Ahlin, Mrs. Johan (Johanna Persdotter Larsson)      0           41   \n",
       "852                         Boulos, Miss. Nourelain      1          853   \n",
       "86                           Ford, Mr. William Neal      3           87   \n",
       "147                Ford, Miss. Robina Maggie \"Ruby\"      2          148   \n",
       "\n",
       "     Pclass     Sex  SibSp Ticket Title Age_Group  Survived  Family  \n",
       "104       3    male      2      3    Mr     Adult         0       2  \n",
       "40        3  female      1      7   Mrs     Adult         0       1  \n",
       "852       3  female      1      2  Miss     Child         0       2  \n",
       "86        3    male      1      W    Mr     Young         0       4  \n",
       "147       3  female      2      W  Miss     Child         0       4  "
      ]
     },
     "execution_count": 510,
     "metadata": {},
     "output_type": "execute_result"
    }
   ],
   "source": [
    "def add_family(df):   \n",
    "    df1 = df.copy()\n",
    "    df1['Family'] = df1['Parch'] + df1['SibSp']\n",
    "    return df1\n",
    "X_train = add_family(X_train)\n",
    "X_train.head()"
   ]
  },
  {
   "cell_type": "code",
   "execution_count": 511,
   "metadata": {},
   "outputs": [
    {
     "data": {
      "image/png": "[encoded data removed]",
      "text/plain": [
       "<matplotlib.figure.Figure at 0x110bfabe0>"
      ]
     },
     "metadata": {},
     "output_type": "display_data"
    }
   ],
   "source": [
    "## Lets display to see if this makes a difference\n",
    "def survived_by_family (X,y):\n",
    "    X_copy = X\n",
    "    X_copy[list(y.columns)] = y\n",
    "    counts_by_family = X_copy['Family'].value_counts()\n",
    "    survived_by_family = X_copy[X_copy['Survived'] == 1]['Family'].value_counts()\n",
    "    frac_surv_by_family = (1.0*survived_by_family)/counts_by_family\n",
    "    return frac_surv_by_family\n",
    "d = pd.DataFrame( survived_by_family(X_train,y_train) )\n",
    "d.plot(kind='bar')\n",
    "plt.show()"
   ]
  },
  {
   "cell_type": "markdown",
   "metadata": {},
   "source": [
    "### WHAT TO DO WITH FARES? \n",
    "MAYBE LEAVE IT THERE AS A FLOAT VARIABLE - IT IS PROBABLY REDUNDANT SINCE THE INFORMATION ABOUT FARE IS WELL-AGGREGATED IN PCLASS"
   ]
  },
  {
   "cell_type": "markdown",
   "metadata": {},
   "source": [
    "## SUMMARY OF TRANSFORMATIONS TO BE PERFORMED ON DATA - USING PIPELINE\n",
    "#### IMPUTE:\n",
    "##### FILL NAN IN ALL FLOAT VARIABLES BY MEDIAN - AGE AND FARE THE ONLY FLOAT VARIABLES\n",
    "##### FILL NAN IN CABIN BY LETTER U\n",
    "##### TYPE-CAST DTYPE OF ALL CATEGORIES TO OBJECTS\n",
    "##### FILL NAN IN OBJECTS BY MODES IN EACH CASE\n",
    "#### DERIVED VARIABLES: \n",
    "##### COVERT CABIN TO SINGLE CHARACTER CATEGORIES\n",
    "##### EXTRACT AND ADD A NEW TITLE COLUMN\n",
    "##### ADD AGE_GROUP COLUMN\n",
    "##### CONVERT TICKET TO SINGLE CHANRATER CATEGORIES\n",
    "##### ADD FAMILY CATEGORY\n",
    "### WRITE TRANSFORMATIONS IN THE SPIRIT OF SKLEARN DEISGN PRINCIPLES\n",
    "### START WITH FRESH COPY OF X_TRAIN, X_VALID, X_TEST AND APPLY THESE TRANSFORMATIONS"
   ]
  },
  {
   "cell_type": "code",
   "execution_count": 512,
   "metadata": {
    "collapsed": true
   },
   "outputs": [],
   "source": [
    "IS_SAMPLE = False\n",
    "is_sample = IS_SAMPLE\n",
    "if is_sample:  \n",
    "  path_to_pickle_file = PICKLE_FILE_SAMPLE_DATA\n",
    "else:\n",
    "  path_to_pickle_file = PICKLE_FILE_ALL_DATA\n",
    "\n",
    "load_pickle_data(path_to_pickle_file, is_sample)\n",
    "X_train, y_train, X_valid, y_valid, X_test, y_test = load_pickle_data(path_to_pickle_file, is_sample)\n",
    "## NOTE: THIS X_TEST IS NOT THE TEST DATA PROVIDED FOR THE PROJECT"
   ]
  },
  {
   "cell_type": "code",
   "execution_count": null,
   "metadata": {
    "collapsed": true
   },
   "outputs": [],
   "source": []
  }
 ],
 "metadata": {
  "kernelspec": {
   "display_name": "Python 3",
   "language": "python",
   "name": "python3"
  },
  "language_info": {
   "codemirror_mode": {
    "name": "ipython",
    "version": 3
   },
   "file_extension": ".py",
   "mimetype": "text/x-python",
   "name": "python",
   "nbconvert_exporter": "python",
   "pygments_lexer": "ipython3",
   "version": "3.6.1"
  }
 },
 "nbformat": 4,
 "nbformat_minor": 2
}
