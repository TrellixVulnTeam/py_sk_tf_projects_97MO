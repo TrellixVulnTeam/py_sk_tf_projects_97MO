{
 "cells": [
  {
   "cell_type": "code",
   "execution_count": 1,
   "metadata": {
    "collapsed": true
   },
   "outputs": [],
   "source": [
    "import pandas as pd\n",
    "import numpy as np\n",
    "\n",
    "import matplotlib\n",
    "import matplotlib.pyplot as plt\n",
    "import seaborn as sns\n",
    "sns.set(color_codes=True)\n",
    "\n",
    "from scipy.stats import skew # the target will be log-transformed and so will be some features\n",
    "\n",
    "from time import time\n",
    "import warnings\n",
    "warnings.filterwarnings('ignore')\n"
   ]
  },
  {
   "cell_type": "code",
   "execution_count": 105,
   "metadata": {},
   "outputs": [
    {
     "name": "stdout",
     "output_type": "stream",
     "text": [
      "time to read data into DataFrame =  17.710499048233032 sec.\n"
     ]
    }
   ],
   "source": [
    "# Read the data from the data file\n",
    "tic = time()\n",
    "train_df = pd.read_csv(\"./data/train.csv\")\n",
    "test_df = pd.read_csv(\"./data/test.csv\")\n",
    "toc = time()\n",
    "print('time to read data into DataFrame = ', toc-tic, 'sec.') ## 16.8 sec"
   ]
  },
  {
   "cell_type": "code",
   "execution_count": 3,
   "metadata": {},
   "outputs": [
    {
     "name": "stdout",
     "output_type": "stream",
     "text": [
      "   id  target  ps_ind_01  ps_ind_02_cat  ps_ind_03  ps_ind_04_cat  \\\n",
      "0   7       0          2              2          5              1   \n",
      "1   9       0          1              1          7              0   \n",
      "\n",
      "   ps_ind_05_cat  ps_ind_06_bin  ps_ind_07_bin  ps_ind_08_bin       ...        \\\n",
      "0              0              0              1              0       ...         \n",
      "1              0              0              0              1       ...         \n",
      "\n",
      "   ps_calc_11  ps_calc_12  ps_calc_13  ps_calc_14  ps_calc_15_bin  \\\n",
      "0           9           1           5           8               0   \n",
      "1           3           1           1           9               0   \n",
      "\n",
      "   ps_calc_16_bin  ps_calc_17_bin  ps_calc_18_bin  ps_calc_19_bin  \\\n",
      "0               1               1               0               0   \n",
      "1               1               1               0               1   \n",
      "\n",
      "   ps_calc_20_bin  \n",
      "0               1  \n",
      "1               0  \n",
      "\n",
      "[2 rows x 59 columns]\n",
      "time to change index to id and drop id column =  1.6540908813476562 sec.\n"
     ]
    }
   ],
   "source": [
    "print(train_df.head(2))\n",
    "tic = time()\n",
    "train_df.index = train_df.id\n",
    "test_df.index = test_df.id\n",
    "train_df.drop('id', axis = 1, inplace=True)\n",
    "test_df.drop('id', axis = 1, inplace=True)\n",
    "toc = time()\n",
    "print('time to change index to id and drop id column = ', toc-tic, 'sec.') ## 2.0 sec"
   ]
  },
  {
   "cell_type": "code",
   "execution_count": 106,
   "metadata": {},
   "outputs": [
    {
     "name": "stdout",
     "output_type": "stream",
     "text": [
      "time to concat train and test X dsta =  4.257803201675415 sec.\n",
      "(1488028, 58)\n",
      "(595212,)\n"
     ]
    }
   ],
   "source": [
    "tic = time()\n",
    "X_all = pd.concat( (train_df.drop('target', axis = 1), test_df) )\n",
    "y_train = train_df.target\n",
    "del train_df # release workspace\n",
    "del test_df # release workspace\n",
    "toc = time()\n",
    "print('time to concat train and test X dsta = ', toc-tic, 'sec.') # 3.63 sec\n",
    "print(X_all.shape)\n",
    "print(y_train.shape)"
   ]
  },
  {
   "cell_type": "code",
   "execution_count": 7,
   "metadata": {
    "collapsed": true
   },
   "outputs": [],
   "source": [
    "# Need to change the dtype of all variables whose names end in _cat\n",
    "# Extract numerical columns\n",
    "def parse_feature_names(df):\n",
    "    cat_columns = []\n",
    "    num_columns = []\n",
    "    col_names = df.columns\n",
    "    for col in col_names:\n",
    "        split_list = col.split('_')\n",
    "        if 'cat' in split_list:\n",
    "            cat_columns.append(col)\n",
    "        if ('cat' not in split_list) and ('bin' not in split_list):\n",
    "            num_columns.append(col)\n",
    "    \n",
    "    return cat_columns, num_columns\n",
    "                              \n",
    "cat_features, num_features = parse_feature_names(X_all)  # We are leaving binary features as 0/1      "
   ]
  },
  {
   "cell_type": "code",
   "execution_count": 8,
   "metadata": {},
   "outputs": [
    {
     "name": "stdout",
     "output_type": "stream",
     "text": [
      "ps_reg_02    1.280007\n",
      "ps_car_12    1.092367\n",
      "ps_car_13    1.697220\n",
      "dtype: float64\n"
     ]
    }
   ],
   "source": [
    "# Figuring out if any columns need to be log-transformed\n",
    "skew_vals = X_all[num_features].apply(lambda x: skew(x.dropna())) #compute skewness\n",
    "skew_vals_filtered1 = skew_vals[ skew_vals > 1 ] # The threshold is arbitrary but large enough\n",
    "# This results in some binary type data to also show up as highly skewed. Eliminate them:\n",
    "skew_vals_filtered = skew_vals_filtered1[ skew_vals_filtered1 < 10]\n",
    "print(skew_vals_filtered) # index of skew_vals_filtered are the names of those features"
   ]
  },
  {
   "cell_type": "code",
   "execution_count": 9,
   "metadata": {},
   "outputs": [
    {
     "name": "stdout",
     "output_type": "stream",
     "text": [
      "Using matplotlib backend: MacOSX\n"
     ]
    },
    {
     "data": {
      "text/plain": [
       "<matplotlib.axes._subplots.AxesSubplot at 0x1081956a0>"
      ]
     },
     "execution_count": 9,
     "metadata": {},
     "output_type": "execute_result"
    }
   ],
   "source": [
    "%matplotlib\n",
    "import seaborn as sns\n",
    "sns.set(color_codes=True)\n",
    "sns.distplot( X_all['ps_reg_02'] )"
   ]
  },
  {
   "cell_type": "code",
   "execution_count": 137,
   "metadata": {},
   "outputs": [
    {
     "ename": "ValueError",
     "evalue": "range parameter must be finite.",
     "output_type": "error",
     "traceback": [
      "\u001b[0;31m---------------------------------------------------------------------------\u001b[0m",
      "\u001b[0;31mValueError\u001b[0m                                Traceback (most recent call last)",
      "\u001b[0;32m<ipython-input-137-6d71f77f5f41>\u001b[0m in \u001b[0;36m<module>\u001b[0;34m()\u001b[0m\n\u001b[1;32m      8\u001b[0m \u001b[0;31m# fit with curve_fit\u001b[0m\u001b[0;34m\u001b[0m\u001b[0;34m\u001b[0m\u001b[0m\n\u001b[1;32m      9\u001b[0m \u001b[0mX_all\u001b[0m\u001b[0;34m[\u001b[0m\u001b[0;34m'ps_reg_02'\u001b[0m\u001b[0;34m]\u001b[0m \u001b[0;34m=\u001b[0m \u001b[0mnp\u001b[0m\u001b[0;34m.\u001b[0m\u001b[0mlog\u001b[0m\u001b[0;34m(\u001b[0m \u001b[0mX_all\u001b[0m\u001b[0;34m[\u001b[0m\u001b[0;34m'ps_reg_02'\u001b[0m\u001b[0;34m]\u001b[0m \u001b[0;34m)\u001b[0m\u001b[0;34m\u001b[0m\u001b[0m\n\u001b[0;32m---> 10\u001b[0;31m \u001b[0mhist\u001b[0m \u001b[0;34m=\u001b[0m \u001b[0mnp\u001b[0m\u001b[0;34m.\u001b[0m\u001b[0mhistogram\u001b[0m\u001b[0;34m(\u001b[0m\u001b[0mX_all\u001b[0m\u001b[0;34m[\u001b[0m\u001b[0;34m'ps_reg_02'\u001b[0m\u001b[0;34m]\u001b[0m\u001b[0;34m,\u001b[0m \u001b[0mbins\u001b[0m\u001b[0;34m=\u001b[0m\u001b[0;36m40\u001b[0m\u001b[0;34m,\u001b[0m \u001b[0mdensity\u001b[0m \u001b[0;34m=\u001b[0m \u001b[0;32mTrue\u001b[0m\u001b[0;34m)\u001b[0m\u001b[0;34m\u001b[0m\u001b[0m\n\u001b[0m\u001b[1;32m     11\u001b[0m \u001b[0ms\u001b[0m \u001b[0;34m=\u001b[0m \u001b[0mpd\u001b[0m\u001b[0;34m.\u001b[0m\u001b[0mSeries\u001b[0m\u001b[0;34m(\u001b[0m \u001b[0mX_all\u001b[0m\u001b[0;34m[\u001b[0m\u001b[0;34m'ps_reg_02'\u001b[0m\u001b[0;34m]\u001b[0m\u001b[0;34m.\u001b[0m\u001b[0mvalue_counts\u001b[0m\u001b[0;34m(\u001b[0m\u001b[0;34m)\u001b[0m \u001b[0;34m)\u001b[0m\u001b[0;34m\u001b[0m\u001b[0m\n\u001b[1;32m     12\u001b[0m \u001b[0ms\u001b[0m \u001b[0;34m=\u001b[0m \u001b[0ms\u001b[0m\u001b[0;34m.\u001b[0m\u001b[0msort_index\u001b[0m\u001b[0;34m(\u001b[0m\u001b[0;34m)\u001b[0m\u001b[0;34m\u001b[0m\u001b[0m\n",
      "\u001b[0;32m/Users/sling/anaconda/lib/python3.6/site-packages/numpy/lib/function_base.py\u001b[0m in \u001b[0;36mhistogram\u001b[0;34m(a, bins, range, normed, weights, density)\u001b[0m\n\u001b[1;32m    668\u001b[0m     \u001b[0;32mif\u001b[0m \u001b[0;32mnot\u001b[0m \u001b[0mnp\u001b[0m\u001b[0;34m.\u001b[0m\u001b[0mall\u001b[0m\u001b[0;34m(\u001b[0m\u001b[0mnp\u001b[0m\u001b[0;34m.\u001b[0m\u001b[0misfinite\u001b[0m\u001b[0;34m(\u001b[0m\u001b[0;34m[\u001b[0m\u001b[0mmn\u001b[0m\u001b[0;34m,\u001b[0m \u001b[0mmx\u001b[0m\u001b[0;34m]\u001b[0m\u001b[0;34m)\u001b[0m\u001b[0;34m)\u001b[0m\u001b[0;34m:\u001b[0m\u001b[0;34m\u001b[0m\u001b[0m\n\u001b[1;32m    669\u001b[0m         raise ValueError(\n\u001b[0;32m--> 670\u001b[0;31m             'range parameter must be finite.')\n\u001b[0m\u001b[1;32m    671\u001b[0m     \u001b[0;32mif\u001b[0m \u001b[0mmn\u001b[0m \u001b[0;34m==\u001b[0m \u001b[0mmx\u001b[0m\u001b[0;34m:\u001b[0m\u001b[0;34m\u001b[0m\u001b[0m\n\u001b[1;32m    672\u001b[0m         \u001b[0mmn\u001b[0m \u001b[0;34m-=\u001b[0m \u001b[0;36m0.5\u001b[0m\u001b[0;34m\u001b[0m\u001b[0m\n",
      "\u001b[0;31mValueError\u001b[0m: range parameter must be finite."
     ]
    }
   ],
   "source": [
    "# define poisson function, parameter lamb (can't use reserved word lambda) is the fit parameter\n",
    "from scipy.misc import factorial\n",
    "from scipy.optimize import curve_fit\n",
    "def poisson(k, lamb):\n",
    "    return (lamb**k/factorial(k)) * np.exp(-lamb)\n",
    "def exponential(k, lamb):\n",
    "    return lamb * np.exp(-lamb * k)\n",
    "# fit with curve_fit\n",
    "\n",
    "hist = np.histogram(X_all['ps_reg_02'], bins=40, density = True)\n",
    "s = pd.Series( X_all['ps_reg_02'].value_counts() )\n",
    "s = s.sort_index()\n",
    "bin_edges = s.index.ravel()\n",
    "hist =  s.values.ravel()\n",
    "area = 0\n",
    "for i in range(len(bin_edges)):\n",
    "    if i < len(bin_edges) - 1:\n",
    "        area += ( hist[i]  + hist [i+1] ) * ( bin_edges[i+1] - bin_edges[i] ) /2\n",
    "    else:\n",
    "        area += hist[i] * ( bin_edges[i] - bin_edges[i-1] ) /2\n",
    "hist = hist/area\n",
    "params, cov_matrix = curve_fit(exponential, bin_edges, hist)\n",
    "\n",
    "# %matplotlib\n",
    "\n",
    "width = 0.2\n",
    "hist_ = pd.DataFrame( {'histogram' : [bin_edges, hist] ,})\n",
    "fit_ = pd.DataFrame( { 'fit' : [bin_edges, exponential(bin_edges, params)] ,})\n",
    "\n",
    "plt.bar(bin_edges, hist, width = width )\n",
    "plt.plot(bin_edges, exponential(bin_edges, params), color = 'r', lw = 3)\n",
    "plt.show()\n"
   ]
  },
  {
   "cell_type": "code",
   "execution_count": null,
   "metadata": {
    "collapsed": true
   },
   "outputs": [],
   "source": [
    "sns.distplot( X_all['ps_reg_02'] ) "
   ]
  },
  {
   "cell_type": "code",
   "execution_count": null,
   "metadata": {
    "collapsed": true
   },
   "outputs": [],
   "source": [
    "sns.distplot( X_all['ps_car_12'])"
   ]
  },
  {
   "cell_type": "code",
   "execution_count": null,
   "metadata": {
    "collapsed": true
   },
   "outputs": [],
   "source": [
    "sns.distplot( np.log( X_all['ps_car_13']) )"
   ]
  },
  {
   "cell_type": "code",
   "execution_count": null,
   "metadata": {
    "collapsed": true
   },
   "outputs": [],
   "source": [
    "## Only ps_car_13 can be log-transformed to make it normal, rest will have to be left alone.\n",
    "X_all['ps_car_13'] = np.log( X_all['ps_car_13'] )"
   ]
  },
  {
   "cell_type": "code",
   "execution_count": null,
   "metadata": {
    "collapsed": true
   },
   "outputs": [],
   "source": [
    "sns.distplot( X_all['ps_car_13'] )"
   ]
  },
  {
   "cell_type": "code",
   "execution_count": 77,
   "metadata": {},
   "outputs": [
    {
     "name": "stdout",
     "output_type": "stream",
     "text": [
      "number of feartures with NaN =  0\n",
      "number of features with NaN =  0\n",
      "number of y's with NaN =  0\n"
     ]
    }
   ],
   "source": [
    "# replace categorical features by one-hot columns - ignoring the NaNs\n",
    "#X_all = pd.get_dummies(X_all)\n",
    "\n",
    "# Check for NaNs\n",
    "print('number of feartures with NaN = ', X_all.isnull().any().sum())\n",
    "# What to do? A simple solution is to impute by mean\n",
    "X_all = X_all.fillna(X_all.mean())\n",
    "print('number of features with NaN = ', X_all.isnull().any().sum())\n",
    "print(\"number of y's with NaN = \", y_train.isnull().any().sum())"
   ]
  },
  {
   "cell_type": "code",
   "execution_count": 79,
   "metadata": {},
   "outputs": [
    {
     "name": "stdout",
     "output_type": "stream",
     "text": [
      "PCT of zeros in y_train : [ 0.96355248]\n",
      "PCT of ones in y_train : [ 0.03644752]\n",
      "shape of y_train:  (595212,)\n"
     ]
    }
   ],
   "source": [
    "# Is target imbalanced?\n",
    "print( 'PCT of zeros in y_train :',  ( ( y_train == 0 ).sum() )/ y_train.shape )\n",
    "print( 'PCT of ones in y_train :',  ( ( y_train == 1 ).sum() )/ y_train.shape )\n",
    "print('shape of y_train: ', y_train.shape )"
   ]
  },
  {
   "cell_type": "code",
   "execution_count": null,
   "metadata": {
    "collapsed": true
   },
   "outputs": [],
   "source": [
    "# The data is highly imbalanced - We should try to balance the data\n",
    "# Authors: Guillaume Lemaitre <g.lemaitre58@gmail.com>\n",
    "# License: MIT\n",
    "# from sklearn.svm import LinearSVC\n",
    "# from sklearn.model_selection import train_test_split\n",
    "\n",
    "# from imblearn import over_sampling as os\n",
    "# from imblearn import pipeline as pl\n",
    "# from imblearn.metrics import (geometric_mean_score,\n",
    "#                               make_index_balanced_accuracy)\n",
    "# print(__doc__)\n",
    "\n",
    "# RANDOM_STATE = 42\n",
    "\n",
    "# # Generate the training set\n",
    "# X, y = X_all[:y_train_raw.shape[0]], y_train_raw\n",
    "\n",
    "# pipeline = pl.make_pipeline(os.SMOTE(random_state=RANDOM_STATE),\n",
    "#                             LinearSVC(random_state=RANDOM_STATE))\n",
    "\n",
    "# # Split the data\n",
    "# X_train, X_test, y_train, y_test = train_test_split(X, y,\n",
    "#                                                     random_state=RANDOM_STATE)\n",
    "\n",
    "\n",
    "# # Train the classifier with balancing\n",
    "# pipeline.fit(X_train, y_train)\n",
    "\n",
    "\n",
    "# # Test the classifier and get the prediction\n",
    "# y_pred_bal = pipeline.predict(X_test)\n",
    "\n",
    "# # LinearSVC on the original data\n",
    "# clf = LinearSVC(random_state=RANDOM_STATE)\n",
    "# clf.fit(X_train, y_train)\n",
    "# y_pred_original = clf.predict(X_test)\n",
    "\n",
    "# ##\n",
    "# print( 'PCT of zeros in y_pred_bal :',  ( ( y_test == 0 ).sum() )/ y_test.shape )\n",
    "# print( 'PCT of zeros in y_pred_bal :',  ( ( y_pred_bal == 0 ).sum() )/ y_pred_bal.shape )\n",
    "# print( 'PCT of zeros in y_pred_original :',  ( ( y_pred_original == 0 ).sum() )/ y_pred_original.shape )"
   ]
  },
  {
   "cell_type": "code",
   "execution_count": null,
   "metadata": {
    "collapsed": true
   },
   "outputs": [],
   "source": [
    "# # Train the classifier with balancing\n",
    "\n",
    "# from sklearn import svm\n",
    "\n",
    "# # tic = time()\n",
    "# # pipeline = pl.make_pipeline(os.SMOTE(random_state=RANDOM_STATE),\n",
    "# #                             svm.SVC(random_state=RANDOM_STATE))\n",
    "# # pipeline.fit(X_train, y_train)\n",
    "# # # Test the classifier and get the prediction\n",
    "# # y_pred_bal = pipeline.predict(X_test)\n",
    "\n",
    "# # toc = time()\n",
    "# # print('time to smote, train, predict svc_rbf', toc - tic, 'sec.')\n",
    "\n",
    "# # SVC on the original data\n",
    "# tic = time()\n",
    "# clf = svm.SVC(random_state=RANDOM_STATE)\n",
    "# clf.fit(X_train, y_train)\n",
    "# y_pred_original = clf.predict(X_test)\n",
    "# toc = time()\n",
    "# print('time to train, predict svc_rbf', toc - tic, 'sec.')\n",
    "# ##\n",
    "# print( 'PCT of zeros in y_pred_bal :',  ( ( y_test == 0 ).sum() )/ y_test.shape )\n",
    "# print( 'PCT of zeros in y_pred_bal :',  ( ( y_pred_bal == 0 ).sum() )/ y_pred_bal.shape )\n",
    "# print( 'PCT of zeros in y_pred_original :',  ( ( y_pred_original == 0 ).sum() )/ y_pred_original.shape ) "
   ]
  },
  {
   "cell_type": "code",
   "execution_count": 98,
   "metadata": {},
   "outputs": [
    {
     "data": {
      "text/plain": [
       "<matplotlib.text.Text at 0x1289837f0>"
      ]
     },
     "execution_count": 98,
     "metadata": {},
     "output_type": "execute_result"
    }
   ],
   "source": [
    "## Train so that False Positives are minimized\n",
    "from sklearn.metrics import precision_recall_curve, average_precision_score\n",
    "from sklearn import svm \n",
    "from sklearn.model_selection import train_test_split\n",
    "\n",
    " \n",
    "# Choose parameters\n",
    "RS = 42  # random_state\n",
    "TS = 0.5 # test_size\n",
    "\n",
    "X, y = X_all[:y_train.shape[0]], y_train\n",
    "\n",
    "# Limit to the two first classes, and split into training and test\n",
    "X_train, X_test, y_train, y_test = train_test_split(X, y, test_size = TS,random_state = RS)\n",
    "\n",
    "# Create a simple classifier\n",
    "clf = svm.LinearSVC(class_weight=\"balanced\", random_state=random_state)\n",
    "clf.fit(X_train, y_train)\n",
    "y_pred = clf.decision_function(X_test)\n",
    "\n",
    "precision, recall, _ = precision_recall_curve(y_test, y_pred)\n",
    "\n",
    "\n",
    "average_precision = average_precision_score(y_test, y_pred)\n",
    "\n",
    "plt.step(recall, precision, color='b', alpha=0.2, where='post')\n",
    "plt.fill_between(recall, precision, step='post', alpha=0.2, color='b')\n",
    "\n",
    "plt.xlabel('Recall')\n",
    "plt.ylabel('Precision')\n",
    "plt.ylim([0.0, 1.05])\n",
    "plt.xlim([0.0, 1.0])\n",
    "plt.title('2-class Precision-Recall curve: AUC={0:0.2f}'.format(average_precision))\n",
    "\n"
   ]
  },
  {
   "cell_type": "code",
   "execution_count": 100,
   "metadata": {},
   "outputs": [
    {
     "data": {
      "text/plain": [
       "<function matplotlib.pyplot.show>"
      ]
     },
     "execution_count": 100,
     "metadata": {},
     "output_type": "execute_result"
    }
   ],
   "source": [
    "y_pred = clf.predict(X_test)\n",
    "plt.scatter(y_test, y_pred)\n",
    "plt.show"
   ]
  },
  {
   "cell_type": "code",
   "execution_count": 92,
   "metadata": {},
   "outputs": [
    {
     "data": {
      "text/plain": [
       "array([71630,  2771])"
      ]
     },
     "execution_count": 92,
     "metadata": {},
     "output_type": "execute_result"
    }
   ],
   "source": [
    "np.bincount(y)"
   ]
  },
  {
   "cell_type": "code",
   "execution_count": 101,
   "metadata": {},
   "outputs": [
    {
     "name": "stdout",
     "output_type": "stream",
     "text": [
      "PCT of zeros in y_test : [ 0.96107527]\n",
      "PCT of zeros in y_pred : [ 1.]\n"
     ]
    }
   ],
   "source": [
    "print( 'PCT of zeros in y_test :',  ( ( y_test == 0 ).sum() )/ y_test.shape )\n",
    "print( 'PCT of zeros in y_pred :',  ( ( y_pred == 0 ).sum() )/ y_pred.shape )"
   ]
  },
  {
   "cell_type": "code",
   "execution_count": 136,
   "metadata": {},
   "outputs": [
    {
     "ename": "ValueError",
     "evalue": "cannot reindex from a duplicate axis",
     "output_type": "error",
     "traceback": [
      "\u001b[0;31m---------------------------------------------------------------------------\u001b[0m",
      "\u001b[0;31mValueError\u001b[0m                                Traceback (most recent call last)",
      "\u001b[0;32m<ipython-input-136-f03388b93117>\u001b[0m in \u001b[0;36m<module>\u001b[0;34m()\u001b[0m\n\u001b[1;32m      1\u001b[0m \u001b[0;32mfrom\u001b[0m \u001b[0msklearn\u001b[0m\u001b[0;34m.\u001b[0m\u001b[0mmodel_selection\u001b[0m \u001b[0;32mimport\u001b[0m \u001b[0mStratifiedShuffleSplit\u001b[0m\u001b[0;34m\u001b[0m\u001b[0m\n\u001b[1;32m      2\u001b[0m \u001b[0;34m\u001b[0m\u001b[0m\n\u001b[0;32m----> 3\u001b[0;31m \u001b[0mX\u001b[0m\u001b[0;34m,\u001b[0m \u001b[0my\u001b[0m \u001b[0;34m=\u001b[0m \u001b[0mpd\u001b[0m\u001b[0;34m.\u001b[0m\u001b[0mDataFrame\u001b[0m\u001b[0;34m(\u001b[0m\u001b[0mX_all\u001b[0m\u001b[0;34m.\u001b[0m\u001b[0mloc\u001b[0m\u001b[0;34m[\u001b[0m\u001b[0;34m:\u001b[0m\u001b[0my_train\u001b[0m\u001b[0;34m.\u001b[0m\u001b[0mshape\u001b[0m\u001b[0;34m[\u001b[0m\u001b[0;36m0\u001b[0m\u001b[0;34m]\u001b[0m\u001b[0;34m,\u001b[0m \u001b[0;34m:\u001b[0m\u001b[0;34m]\u001b[0m\u001b[0;34m,\u001b[0m \u001b[0mindex\u001b[0m \u001b[0;34m=\u001b[0m \u001b[0mX_all\u001b[0m\u001b[0;34m.\u001b[0m\u001b[0mindex\u001b[0m \u001b[0;34m)\u001b[0m\u001b[0;34m,\u001b[0m \u001b[0my_train\u001b[0m\u001b[0;34m\u001b[0m\u001b[0m\n\u001b[0m\u001b[1;32m      4\u001b[0m \u001b[0;34m\u001b[0m\u001b[0m\n\u001b[1;32m      5\u001b[0m \u001b[0msss\u001b[0m \u001b[0;34m=\u001b[0m \u001b[0mStratifiedShuffleSplit\u001b[0m\u001b[0;34m(\u001b[0m\u001b[0mn_splits\u001b[0m\u001b[0;34m=\u001b[0m\u001b[0;36m1\u001b[0m\u001b[0;34m,\u001b[0m \u001b[0mtest_size\u001b[0m\u001b[0;34m=\u001b[0m\u001b[0;36m0.5\u001b[0m\u001b[0;34m,\u001b[0m \u001b[0mrandom_state\u001b[0m\u001b[0;34m=\u001b[0m\u001b[0;36m42\u001b[0m\u001b[0;34m)\u001b[0m\u001b[0;34m\u001b[0m\u001b[0m\n",
      "\u001b[0;32m/Users/sling/anaconda/lib/python3.6/site-packages/pandas/core/frame.py\u001b[0m in \u001b[0;36m__init__\u001b[0;34m(self, data, index, columns, dtype, copy)\u001b[0m\n\u001b[1;32m    271\u001b[0m         \u001b[0;32mif\u001b[0m \u001b[0misinstance\u001b[0m\u001b[0;34m(\u001b[0m\u001b[0mdata\u001b[0m\u001b[0;34m,\u001b[0m \u001b[0mBlockManager\u001b[0m\u001b[0;34m)\u001b[0m\u001b[0;34m:\u001b[0m\u001b[0;34m\u001b[0m\u001b[0m\n\u001b[1;32m    272\u001b[0m             mgr = self._init_mgr(data, axes=dict(index=index, columns=columns),\n\u001b[0;32m--> 273\u001b[0;31m                                  dtype=dtype, copy=copy)\n\u001b[0m\u001b[1;32m    274\u001b[0m         \u001b[0;32melif\u001b[0m \u001b[0misinstance\u001b[0m\u001b[0;34m(\u001b[0m\u001b[0mdata\u001b[0m\u001b[0;34m,\u001b[0m \u001b[0mdict\u001b[0m\u001b[0;34m)\u001b[0m\u001b[0;34m:\u001b[0m\u001b[0;34m\u001b[0m\u001b[0m\n\u001b[1;32m    275\u001b[0m             \u001b[0mmgr\u001b[0m \u001b[0;34m=\u001b[0m \u001b[0mself\u001b[0m\u001b[0;34m.\u001b[0m\u001b[0m_init_dict\u001b[0m\u001b[0;34m(\u001b[0m\u001b[0mdata\u001b[0m\u001b[0;34m,\u001b[0m \u001b[0mindex\u001b[0m\u001b[0;34m,\u001b[0m \u001b[0mcolumns\u001b[0m\u001b[0;34m,\u001b[0m \u001b[0mdtype\u001b[0m\u001b[0;34m=\u001b[0m\u001b[0mdtype\u001b[0m\u001b[0;34m)\u001b[0m\u001b[0;34m\u001b[0m\u001b[0m\n",
      "\u001b[0;32m/Users/sling/anaconda/lib/python3.6/site-packages/pandas/core/generic.py\u001b[0m in \u001b[0;36m_init_mgr\u001b[0;34m(self, mgr, axes, dtype, copy)\u001b[0m\n\u001b[1;32m    163\u001b[0m                 mgr = mgr.reindex_axis(axe,\n\u001b[1;32m    164\u001b[0m                                        \u001b[0maxis\u001b[0m\u001b[0;34m=\u001b[0m\u001b[0mself\u001b[0m\u001b[0;34m.\u001b[0m\u001b[0m_get_block_manager_axis\u001b[0m\u001b[0;34m(\u001b[0m\u001b[0ma\u001b[0m\u001b[0;34m)\u001b[0m\u001b[0;34m,\u001b[0m\u001b[0;34m\u001b[0m\u001b[0m\n\u001b[0;32m--> 165\u001b[0;31m                                        copy=False)\n\u001b[0m\u001b[1;32m    166\u001b[0m \u001b[0;34m\u001b[0m\u001b[0m\n\u001b[1;32m    167\u001b[0m         \u001b[0;31m# make a copy if explicitly requested\u001b[0m\u001b[0;34m\u001b[0m\u001b[0;34m\u001b[0m\u001b[0m\n",
      "\u001b[0;32m/Users/sling/anaconda/lib/python3.6/site-packages/pandas/core/internals.py\u001b[0m in \u001b[0;36mreindex_axis\u001b[0;34m(self, new_index, axis, method, limit, fill_value, copy)\u001b[0m\n\u001b[1;32m   3856\u001b[0m \u001b[0;34m\u001b[0m\u001b[0m\n\u001b[1;32m   3857\u001b[0m         return self.reindex_indexer(new_index, indexer, axis=axis,\n\u001b[0;32m-> 3858\u001b[0;31m                                     fill_value=fill_value, copy=copy)\n\u001b[0m\u001b[1;32m   3859\u001b[0m \u001b[0;34m\u001b[0m\u001b[0m\n\u001b[1;32m   3860\u001b[0m     def reindex_indexer(self, new_axis, indexer, axis, fill_value=None,\n",
      "\u001b[0;32m/Users/sling/anaconda/lib/python3.6/site-packages/pandas/core/internals.py\u001b[0m in \u001b[0;36mreindex_indexer\u001b[0;34m(self, new_axis, indexer, axis, fill_value, allow_dups, copy)\u001b[0m\n\u001b[1;32m   3884\u001b[0m         \u001b[0;31m# some axes don't allow reindexing with dups\u001b[0m\u001b[0;34m\u001b[0m\u001b[0;34m\u001b[0m\u001b[0m\n\u001b[1;32m   3885\u001b[0m         \u001b[0;32mif\u001b[0m \u001b[0;32mnot\u001b[0m \u001b[0mallow_dups\u001b[0m\u001b[0;34m:\u001b[0m\u001b[0;34m\u001b[0m\u001b[0m\n\u001b[0;32m-> 3886\u001b[0;31m             \u001b[0mself\u001b[0m\u001b[0;34m.\u001b[0m\u001b[0maxes\u001b[0m\u001b[0;34m[\u001b[0m\u001b[0maxis\u001b[0m\u001b[0;34m]\u001b[0m\u001b[0;34m.\u001b[0m\u001b[0m_can_reindex\u001b[0m\u001b[0;34m(\u001b[0m\u001b[0mindexer\u001b[0m\u001b[0;34m)\u001b[0m\u001b[0;34m\u001b[0m\u001b[0m\n\u001b[0m\u001b[1;32m   3887\u001b[0m \u001b[0;34m\u001b[0m\u001b[0m\n\u001b[1;32m   3888\u001b[0m         \u001b[0;32mif\u001b[0m \u001b[0maxis\u001b[0m \u001b[0;34m>=\u001b[0m \u001b[0mself\u001b[0m\u001b[0;34m.\u001b[0m\u001b[0mndim\u001b[0m\u001b[0;34m:\u001b[0m\u001b[0;34m\u001b[0m\u001b[0m\n",
      "\u001b[0;32m/Users/sling/anaconda/lib/python3.6/site-packages/pandas/core/indexes/base.py\u001b[0m in \u001b[0;36m_can_reindex\u001b[0;34m(self, indexer)\u001b[0m\n\u001b[1;32m   2834\u001b[0m         \u001b[0;31m# trying to reindex on an axis with duplicates\u001b[0m\u001b[0;34m\u001b[0m\u001b[0;34m\u001b[0m\u001b[0m\n\u001b[1;32m   2835\u001b[0m         \u001b[0;32mif\u001b[0m \u001b[0;32mnot\u001b[0m \u001b[0mself\u001b[0m\u001b[0;34m.\u001b[0m\u001b[0mis_unique\u001b[0m \u001b[0;32mand\u001b[0m \u001b[0mlen\u001b[0m\u001b[0;34m(\u001b[0m\u001b[0mindexer\u001b[0m\u001b[0;34m)\u001b[0m\u001b[0;34m:\u001b[0m\u001b[0;34m\u001b[0m\u001b[0m\n\u001b[0;32m-> 2836\u001b[0;31m             \u001b[0;32mraise\u001b[0m \u001b[0mValueError\u001b[0m\u001b[0;34m(\u001b[0m\u001b[0;34m\"cannot reindex from a duplicate axis\"\u001b[0m\u001b[0;34m)\u001b[0m\u001b[0;34m\u001b[0m\u001b[0m\n\u001b[0m\u001b[1;32m   2837\u001b[0m \u001b[0;34m\u001b[0m\u001b[0m\n\u001b[1;32m   2838\u001b[0m     def reindex(self, target, method=None, level=None, limit=None,\n",
      "\u001b[0;31mValueError\u001b[0m: cannot reindex from a duplicate axis"
     ]
    }
   ],
   "source": [
    "from sklearn.model_selection import StratifiedShuffleSplit\n",
    "\n",
    "X, y = pd.DataFrame(X_all.loc[:y_train.shape[0], :], index = X_all.index ), y_train \n",
    "\n",
    "sss = StratifiedShuffleSplit(n_splits=1, test_size=0.5, random_state=42)\n",
    "st = sss.split(X, y)\n",
    "for train_index, test_index in st:\n",
    "    X_train, X_test = X[train_index], X[test_index]\n",
    "#     y_train, y_test = y[train_index], y[test_index]\n",
    "# # Create a simple classifier\n",
    "# clf = svm.LinearSVC(class_weight=\"balanced\", random_state=random_state)\n",
    "# clf.fit(X_train, y_train)\n",
    "# y_pred = clf.decision_function(X_test)\n",
    "\n",
    "# precision, recall, _ = precision_recall_curve(y_test, y_pred)\n",
    "\n",
    "\n",
    "# average_precision = average_precision_score(y_test, y_pred)\n",
    "\n",
    "# plt.step(recall, precision, color='b', alpha=0.2, where='post')\n",
    "# plt.fill_between(recall, precision, step='post', alpha=0.2, color='b')\n",
    "\n",
    "# plt.xlabel('Recall')\n",
    "# plt.ylabel('Precision')\n",
    "# plt.ylim([0.0, 1.05])\n",
    "# plt.xlim([0.0, 1.0])\n",
    "# plt.title('2-class Precision-Recall curve: AUC={0:0.2f}'.format(average_precision))\n"
   ]
  },
  {
   "cell_type": "code",
   "execution_count": 123,
   "metadata": {},
   "outputs": [
    {
     "data": {
      "text/plain": [
       "(595212, 58)"
      ]
     },
     "execution_count": 123,
     "metadata": {},
     "output_type": "execute_result"
    }
   ],
   "source": [
    "X.shape"
   ]
  },
  {
   "cell_type": "code",
   "execution_count": 124,
   "metadata": {},
   "outputs": [
    {
     "data": {
      "text/plain": [
       "(595212,)"
      ]
     },
     "execution_count": 124,
     "metadata": {},
     "output_type": "execute_result"
    }
   ],
   "source": [
    "y.shape"
   ]
  },
  {
   "cell_type": "code",
   "execution_count": 125,
   "metadata": {},
   "outputs": [
    {
     "data": {
      "text/plain": [
       "595211"
      ]
     },
     "execution_count": 125,
     "metadata": {},
     "output_type": "execute_result"
    }
   ],
   "source": [
    "y.index[-1]"
   ]
  },
  {
   "cell_type": "code",
   "execution_count": 130,
   "metadata": {},
   "outputs": [
    {
     "data": {
      "text/plain": [
       "0"
      ]
     },
     "execution_count": 130,
     "metadata": {},
     "output_type": "execute_result"
    }
   ],
   "source": [
    "y.iloc[16476]"
   ]
  },
  {
   "cell_type": "code",
   "execution_count": null,
   "metadata": {
    "collapsed": true
   },
   "outputs": [],
   "source": []
  }
 ],
 "metadata": {
  "kernelspec": {
   "display_name": "Python 3",
   "language": "python",
   "name": "python3"
  },
  "language_info": {
   "codemirror_mode": {
    "name": "ipython",
    "version": 3
   },
   "file_extension": ".py",
   "mimetype": "text/x-python",
   "name": "python",
   "nbconvert_exporter": "python",
   "pygments_lexer": "ipython3",
   "version": "3.6.1"
  }
 },
 "nbformat": 4,
 "nbformat_minor": 2
}
