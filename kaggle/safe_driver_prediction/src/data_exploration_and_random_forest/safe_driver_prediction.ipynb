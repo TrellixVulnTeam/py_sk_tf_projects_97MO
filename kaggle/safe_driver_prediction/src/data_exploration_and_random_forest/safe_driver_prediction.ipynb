{
 "cells": [
  {
   "cell_type": "code",
   "execution_count": 138,
   "metadata": {
    "collapsed": true
   },
   "outputs": [],
   "source": [
    "import pandas as pd\n",
    "import numpy as np\n",
    "\n",
    "import matplotlib\n",
    "import matplotlib.pyplot as plt\n",
    "import seaborn as sns\n",
    "sns.set(color_codes=True)\n",
    "\n",
    "from scipy.stats import skew # the target will be log-transformed and so will be some features\n",
    "\n",
    "from time import time\n",
    "import warnings\n",
    "warnings.filterwarnings('ignore')\n"
   ]
  },
  {
   "cell_type": "code",
   "execution_count": 139,
   "metadata": {},
   "outputs": [
    {
     "name": "stdout",
     "output_type": "stream",
     "text": [
      "time to read data into DataFrame =  17.63637137413025 sec.\n"
     ]
    }
   ],
   "source": [
    "# Read the data from the data file\n",
    "tic = time()\n",
    "train_df = pd.read_csv(\"./data/train.csv\")\n",
    "test_df = pd.read_csv(\"./data/test.csv\")\n",
    "toc = time()\n",
    "print('time to read data into DataFrame = ', toc-tic, 'sec.') ## 16.8 sec"
   ]
  },
  {
   "cell_type": "code",
   "execution_count": 140,
   "metadata": {},
   "outputs": [
    {
     "name": "stdout",
     "output_type": "stream",
     "text": [
      "   id  target  ps_ind_01  ps_ind_02_cat  ps_ind_03  ps_ind_04_cat  \\\n",
      "0   7       0          2              2          5              1   \n",
      "1   9       0          1              1          7              0   \n",
      "\n",
      "   ps_ind_05_cat  ps_ind_06_bin  ps_ind_07_bin  ps_ind_08_bin       ...        \\\n",
      "0              0              0              1              0       ...         \n",
      "1              0              0              0              1       ...         \n",
      "\n",
      "   ps_calc_11  ps_calc_12  ps_calc_13  ps_calc_14  ps_calc_15_bin  \\\n",
      "0           9           1           5           8               0   \n",
      "1           3           1           1           9               0   \n",
      "\n",
      "   ps_calc_16_bin  ps_calc_17_bin  ps_calc_18_bin  ps_calc_19_bin  \\\n",
      "0               1               1               0               0   \n",
      "1               1               1               0               1   \n",
      "\n",
      "   ps_calc_20_bin  \n",
      "0               1  \n",
      "1               0  \n",
      "\n",
      "[2 rows x 59 columns]\n",
      "time to change index to id and drop id column =  2.174110174179077 sec.\n"
     ]
    }
   ],
   "source": [
    "print(train_df.head(2))\n",
    "tic = time()\n",
    "train_df.index = train_df.id\n",
    "test_df.index = test_df.id\n",
    "train_df.drop('id', axis = 1, inplace=True)\n",
    "test_df.drop('id', axis = 1, inplace=True)\n",
    "toc = time()\n",
    "print('time to change index to id and drop id column = ', toc-tic, 'sec.') ## 2.0 sec"
   ]
  },
  {
   "cell_type": "code",
   "execution_count": 141,
   "metadata": {},
   "outputs": [
    {
     "name": "stdout",
     "output_type": "stream",
     "text": [
      "time to concat train and test X dsta =  4.212993144989014 sec.\n",
      "(1488028, 57)\n",
      "(595212,)\n"
     ]
    }
   ],
   "source": [
    "tic = time()\n",
    "X_all = pd.concat( (train_df.drop('target', axis = 1), test_df) )\n",
    "y_train = train_df.target\n",
    "del train_df # release workspace\n",
    "del test_df # release workspace\n",
    "toc = time()\n",
    "print('time to concat train and test X dsta = ', toc-tic, 'sec.') # 3.63 sec\n",
    "print(X_all.shape)\n",
    "print(y_train.shape)"
   ]
  },
  {
   "cell_type": "code",
   "execution_count": 142,
   "metadata": {
    "collapsed": true
   },
   "outputs": [],
   "source": [
    "# Need to change the dtype of all variables whose names end in _cat\n",
    "# Extract numerical columns\n",
    "def parse_feature_names(df):\n",
    "    cat_columns = []\n",
    "    num_columns = []\n",
    "    col_names = df.columns\n",
    "    for col in col_names:\n",
    "        split_list = col.split('_')\n",
    "        if 'cat' in split_list:\n",
    "            cat_columns.append(col)\n",
    "        if ('cat' not in split_list) and ('bin' not in split_list):\n",
    "            num_columns.append(col)\n",
    "    \n",
    "    return cat_columns, num_columns\n",
    "                              \n",
    "cat_features, num_features = parse_feature_names(X_all)  # We are leaving binary features as 0/1      "
   ]
  },
  {
   "cell_type": "code",
   "execution_count": 143,
   "metadata": {},
   "outputs": [
    {
     "name": "stdout",
     "output_type": "stream",
     "text": [
      "ps_reg_02    1.280007\n",
      "ps_car_12    1.092367\n",
      "ps_car_13    1.697220\n",
      "dtype: float64\n"
     ]
    }
   ],
   "source": [
    "# Figuring out if any columns need to be log-transformed\n",
    "skew_vals = X_all[num_features].apply(lambda x: skew(x.dropna())) #compute skewness\n",
    "skew_vals_filtered1 = skew_vals[ skew_vals > 1 ] # The threshold is arbitrary but large enough\n",
    "# This results in some binary type data to also show up as highly skewed. Eliminate them:\n",
    "skew_vals_filtered = skew_vals_filtered1[ skew_vals_filtered1 < 10]\n",
    "print(skew_vals_filtered) # index of skew_vals_filtered are the names of those features"
   ]
  },
  {
   "cell_type": "code",
   "execution_count": 144,
   "metadata": {},
   "outputs": [
    {
     "name": "stdout",
     "output_type": "stream",
     "text": [
      "Using matplotlib backend: MacOSX\n"
     ]
    }
   ],
   "source": [
    "%matplotlib\n",
    "import seaborn as sns\n",
    "# sns.set(color_codes=True)\n",
    "# sns.distplot( X_all['ps_reg_02'] )"
   ]
  },
  {
   "cell_type": "code",
   "execution_count": 145,
   "metadata": {},
   "outputs": [],
   "source": [
    "# define poisson function, parameter lamb (can't use reserved word lambda) is the fit parameter\n",
    "# from scipy.misc import factorial\n",
    "# from scipy.optimize import curve_fit\n",
    "# def poisson(k, lamb):\n",
    "#     return (lamb**k/factorial(k)) * np.exp(-lamb)\n",
    "# def exponential(k, lamb):\n",
    "#     return lamb * np.exp(-lamb * k)\n",
    "# # fit with curve_fit\n",
    "\n",
    "# hist = np.histogram(X_all['ps_reg_02'], bins=40, density = True)\n",
    "# s = pd.Series( X_all['ps_reg_02'].value_counts() )\n",
    "# s = s.sort_index()\n",
    "# bin_edges = s.index.ravel()\n",
    "# hist =  s.values.ravel()\n",
    "# area = 0\n",
    "# for i in range(len(bin_edges)):\n",
    "#     if i < len(bin_edges) - 1:\n",
    "#         area += ( hist[i]  + hist [i+1] ) * ( bin_edges[i+1] - bin_edges[i] ) /2\n",
    "#     else:\n",
    "#         area += hist[i] * ( bin_edges[i] - bin_edges[i-1] ) /2\n",
    "# hist = hist/area\n",
    "# params, cov_matrix = curve_fit(exponential, bin_edges, hist)\n",
    "\n",
    "# # %matplotlib\n",
    "\n",
    "# width = 0.2\n",
    "# hist_ = pd.DataFrame( {'histogram' : [bin_edges, hist] ,})\n",
    "# fit_ = pd.DataFrame( { 'fit' : [bin_edges, exponential(bin_edges, params)] ,})\n",
    "\n",
    "# plt.bar(bin_edges, hist, width = width )\n",
    "# plt.plot(bin_edges, exponential(bin_edges, params), color = 'r', lw = 3)\n",
    "# plt.show()\n"
   ]
  },
  {
   "cell_type": "code",
   "execution_count": null,
   "metadata": {
    "collapsed": true
   },
   "outputs": [],
   "source": []
  },
  {
   "cell_type": "code",
   "execution_count": null,
   "metadata": {
    "collapsed": true
   },
   "outputs": [],
   "source": []
  },
  {
   "cell_type": "code",
   "execution_count": null,
   "metadata": {
    "collapsed": true
   },
   "outputs": [],
   "source": []
  },
  {
   "cell_type": "code",
   "execution_count": null,
   "metadata": {
    "collapsed": true
   },
   "outputs": [],
   "source": []
  },
  {
   "cell_type": "code",
   "execution_count": null,
   "metadata": {
    "collapsed": true
   },
   "outputs": [],
   "source": []
  },
  {
   "cell_type": "code",
   "execution_count": 146,
   "metadata": {},
   "outputs": [
    {
     "name": "stdout",
     "output_type": "stream",
     "text": [
      "number of feartures with NaN =  0\n",
      "number of features with NaN =  0\n",
      "number of y's with NaN =  0\n"
     ]
    }
   ],
   "source": [
    "# replace categorical features by one-hot columns - ignoring the NaNs\n",
    "X_all = pd.get_dummies(X_all)\n",
    "\n",
    "# Check for NaNs\n",
    "print('number of feartures with NaN = ', X_all.isnull().any().sum())\n",
    "# What to do? A simple solution is to impute by mean\n",
    "X_all = X_all.fillna(X_all.mean())\n",
    "print('number of features with NaN = ', X_all.isnull().any().sum())\n",
    "print(\"number of y's with NaN = \", y_train.isnull().any().sum())"
   ]
  },
  {
   "cell_type": "code",
   "execution_count": 147,
   "metadata": {},
   "outputs": [
    {
     "name": "stdout",
     "output_type": "stream",
     "text": [
      "PCT of zeros in y_train : [ 0.96355248]\n",
      "PCT of ones in y_train : [ 0.03644752]\n",
      "shape of y_train:  (595212,)\n"
     ]
    }
   ],
   "source": [
    "# Is target imbalanced?\n",
    "print( 'PCT of zeros in y_train :',  ( ( y_train == 0 ).sum() )/ y_train.shape )\n",
    "print( 'PCT of ones in y_train :',  ( ( y_train == 1 ).sum() )/ y_train.shape )\n",
    "print('shape of y_train: ', y_train.shape )"
   ]
  },
  {
   "cell_type": "code",
   "execution_count": 148,
   "metadata": {
    "collapsed": true
   },
   "outputs": [],
   "source": [
    "# The data is highly imbalanced - We should try to balance the data\n",
    "# Authors: Guillaume Lemaitre <g.lemaitre58@gmail.com>\n",
    "# License: MIT\n",
    "# from sklearn.svm import LinearSVC\n",
    "# from sklearn.model_selection import train_test_split\n",
    "\n",
    "# from imblearn import over_sampling as os\n",
    "# from imblearn import pipeline as pl\n",
    "# from imblearn.metrics import (geometric_mean_score,\n",
    "#                               make_index_balanced_accuracy)\n",
    "# print(__doc__)\n",
    "\n",
    "# RANDOM_STATE = 42\n",
    "\n",
    "# # Generate the training set\n",
    "# X, y = X_all[:y_train_raw.shape[0]], y_train_raw\n",
    "\n",
    "# pipeline = pl.make_pipeline(os.SMOTE(random_state=RANDOM_STATE),\n",
    "#                             LinearSVC(random_state=RANDOM_STATE))\n",
    "\n",
    "# # Split the data\n",
    "# X_train, X_test, y_train, y_test = train_test_split(X, y,\n",
    "#                                                     random_state=RANDOM_STATE)\n",
    "\n",
    "\n",
    "# # Train the classifier with balancing\n",
    "# pipeline.fit(X_train, y_train)\n",
    "\n",
    "\n",
    "# # Test the classifier and get the prediction\n",
    "# y_pred_bal = pipeline.predict(X_test)\n",
    "\n",
    "# # LinearSVC on the original data\n",
    "# clf = LinearSVC(random_state=RANDOM_STATE)\n",
    "# clf.fit(X_train, y_train)\n",
    "# y_pred_original = clf.predict(X_test)\n",
    "\n",
    "# ##\n",
    "# print( 'PCT of zeros in y_pred_bal :',  ( ( y_test == 0 ).sum() )/ y_test.shape )\n",
    "# print( 'PCT of zeros in y_pred_bal :',  ( ( y_pred_bal == 0 ).sum() )/ y_pred_bal.shape )\n",
    "# print( 'PCT of zeros in y_pred_original :',  ( ( y_pred_original == 0 ).sum() )/ y_pred_original.shape )"
   ]
  },
  {
   "cell_type": "code",
   "execution_count": 149,
   "metadata": {
    "collapsed": true
   },
   "outputs": [],
   "source": [
    "# # Train the classifier with balancing\n",
    "\n",
    "# from sklearn import svm\n",
    "\n",
    "# # tic = time()\n",
    "# # pipeline = pl.make_pipeline(os.SMOTE(random_state=RANDOM_STATE),\n",
    "# #                             svm.SVC(random_state=RANDOM_STATE))\n",
    "# # pipeline.fit(X_train, y_train)\n",
    "# # # Test the classifier and get the prediction\n",
    "# # y_pred_bal = pipeline.predict(X_test)\n",
    "\n",
    "# # toc = time()\n",
    "# # print('time to smote, train, predict svc_rbf', toc - tic, 'sec.')\n",
    "\n",
    "# # SVC on the original data\n",
    "# tic = time()\n",
    "# clf = svm.SVC(random_state=RANDOM_STATE)\n",
    "# clf.fit(X_train, y_train)\n",
    "# y_pred_original = clf.predict(X_test)\n",
    "# toc = time()\n",
    "# print('time to train, predict svc_rbf', toc - tic, 'sec.')\n",
    "# ##\n",
    "# print( 'PCT of zeros in y_pred_bal :',  ( ( y_test == 0 ).sum() )/ y_test.shape )\n",
    "# print( 'PCT of zeros in y_pred_bal :',  ( ( y_pred_bal == 0 ).sum() )/ y_pred_bal.shape )\n",
    "# print( 'PCT of zeros in y_pred_original :',  ( ( y_pred_original == 0 ).sum() )/ y_pred_original.shape ) "
   ]
  },
  {
   "cell_type": "code",
   "execution_count": null,
   "metadata": {},
   "outputs": [],
   "source": []
  },
  {
   "cell_type": "code",
   "execution_count": 150,
   "metadata": {},
   "outputs": [
    {
     "data": {
      "text/plain": [
       "<function matplotlib.pyplot.show>"
      ]
     },
     "execution_count": 150,
     "metadata": {},
     "output_type": "execute_result"
    }
   ],
   "source": [
    "# y_pred = clf.predict(X_test)\n",
    "# plt.scatter(y_test, y_pred)\n",
    "# plt.show"
   ]
  },
  {
   "cell_type": "code",
   "execution_count": 151,
   "metadata": {},
   "outputs": [
    {
     "data": {
      "text/plain": [
       "array([573518,  21694])"
      ]
     },
     "execution_count": 151,
     "metadata": {},
     "output_type": "execute_result"
    }
   ],
   "source": [
    "np.bincount(y)"
   ]
  },
  {
   "cell_type": "code",
   "execution_count": 152,
   "metadata": {},
   "outputs": [
    {
     "name": "stdout",
     "output_type": "stream",
     "text": [
      "PCT of zeros in y_test : [ 0.96107527]\n",
      "PCT of zeros in y_pred : [ 1.]\n"
     ]
    }
   ],
   "source": [
    "print( 'PCT of zeros in y_test :',  ( ( y_test == 0 ).sum() )/ y_test.shape )\n",
    "print( 'PCT of zeros in y_pred :',  ( ( y_pred == 0 ).sum() )/ y_pred.shape )"
   ]
  },
  {
   "cell_type": "code",
   "execution_count": 156,
   "metadata": {},
   "outputs": [],
   "source": [
    "## Train so that False Positives are minimized\n",
    "from sklearn.metrics import precision_recall_curve, average_precision_score\n",
    "from sklearn import svm\n",
    "from sklearn.model_selection import train_test_split\n",
    "from sklearn.grid_search import GridSearchCV\n",
    "# Choose parameters\n",
    "RS = 42  # random_state\n",
    "TS = 0.5  # test_size\n",
    "\n",
    "X, y = X_all[:y_train.shape[0]], y_train\n",
    "\n",
    "# Split into training and test\n",
    "X_train, X_test, y_train, y_test = train_test_split(X, y, test_size=TS, random_state=RS)\n",
    "\n",
    "# Create a simple classifier\n",
    "clf = svm.LinearSVC(class_weight=\"balanced\", random_state=RS)\n",
    "\n",
    "param_grid = {'C' : [0.001, 0.003, 0.01, 0.03, 0.1, 0.3, 1, 3, 10, 30, 100, 300, 1000],}\n",
    "clf = GridSearchCV(clf, param_grid, scoring=\"recall\")\n",
    "\n",
    "clf.fit(X_train, y_train)\n",
    "y_pred = clf.decision_function(X_test)\n",
    "\n",
    "precision, recall, _ = precision_recall_curve(y_test, y_pred)\n",
    "\n",
    "average_precision = average_precision_score(y_test, y_pred)\n",
    "\n",
    "plt.step(recall, precision, color='b', alpha=0.2, where='post')\n",
    "plt.fill_between(recall, precision, step='post', alpha=0.2, color='b')\n",
    "\n",
    "plt.xlabel('Recall')\n",
    "plt.ylabel('Precision')\n",
    "plt.ylim([0.0, 1.05])\n",
    "plt.xlim([0.0, 1.0])\n",
    "plt.title('2-class Precision-Recall curve: AUC={0:0.2f}'.format(average_precision))\n",
    "plt.show()"
   ]
  },
  {
   "cell_type": "code",
   "execution_count": 161,
   "metadata": {},
   "outputs": [
    {
     "data": {
      "text/plain": [
       "{'C': 0.001}"
      ]
     },
     "execution_count": 161,
     "metadata": {},
     "output_type": "execute_result"
    }
   ],
   "source": [
    "clf.best_params_"
   ]
  },
  {
   "cell_type": "code",
   "execution_count": 162,
   "metadata": {},
   "outputs": [
    {
     "data": {
      "text/plain": [
       "0.4554307116104868"
      ]
     },
     "execution_count": 162,
     "metadata": {},
     "output_type": "execute_result"
    }
   ],
   "source": [
    "clf.best_score_ "
   ]
  },
  {
   "cell_type": "code",
   "execution_count": 164,
   "metadata": {},
   "outputs": [],
   "source": [
    "clf = svm.LinearSVC(class_weight=\"balanced\", random_state=RS)\n",
    "param_grid = {'C' : [0.00001, 0.00003, 0.0001, 0.0003, 0.001, 0.003],}\n",
    "clf = GridSearchCV(clf, param_grid, scoring=\"recall\")\n",
    "\n",
    "clf.fit(X_train, y_train)\n",
    "y_pred = clf.decision_function(X_test)\n",
    "\n",
    "precision, recall, _ = precision_recall_curve(y_test, y_pred)\n",
    "\n",
    "average_precision = average_precision_score(y_test, y_pred)\n",
    "\n",
    "plt.step(recall, precision, color='b', alpha=0.2, where='post')\n",
    "plt.fill_between(recall, precision, step='post', alpha=0.2, color='b')\n",
    "\n",
    "plt.xlabel('Recall')\n",
    "plt.ylabel('Precision')\n",
    "plt.ylim([0.0, 1.05])\n",
    "plt.xlim([0.0, 1.0])\n",
    "plt.title('2-class Precision-Recall curve: AUC={0:0.2f}'.format(average_precision))\n",
    "plt.show()"
   ]
  },
  {
   "cell_type": "code",
   "execution_count": 165,
   "metadata": {},
   "outputs": [
    {
     "data": {
      "text/plain": [
       "{'C': 3e-05}"
      ]
     },
     "execution_count": 165,
     "metadata": {},
     "output_type": "execute_result"
    }
   ],
   "source": [
    "clf.best_params_"
   ]
  },
  {
   "cell_type": "code",
   "execution_count": 166,
   "metadata": {},
   "outputs": [
    {
     "data": {
      "text/plain": [
       "0.47415730337078654"
      ]
     },
     "execution_count": 166,
     "metadata": {},
     "output_type": "execute_result"
    }
   ],
   "source": [
    "clf.best_score_"
   ]
  },
  {
   "cell_type": "code",
   "execution_count": 167,
   "metadata": {
    "collapsed": true
   },
   "outputs": [],
   "source": [
    "clf = svm.LinearSVC(class_weight=\"balanced\", random_state=RS)\n",
    "param_grid = {'C' : [0.000001, 0.000003, 0.00001, 0.00003, 0.0001, 0.0003],}\n",
    "clf = GridSearchCV(clf, param_grid, scoring=\"recall\")\n",
    "\n",
    "clf.fit(X_train, y_train)\n",
    "y_pred = clf.decision_function(X_test)\n",
    "\n",
    "precision, recall, _ = precision_recall_curve(y_test, y_pred)\n",
    "\n",
    "average_precision = average_precision_score(y_test, y_pred)\n",
    "\n",
    "plt.step(recall, precision, color='b', alpha=0.2, where='post')\n",
    "plt.fill_between(recall, precision, step='post', alpha=0.2, color='b')\n",
    "\n",
    "plt.xlabel('Recall')\n",
    "plt.ylabel('Precision')\n",
    "plt.ylim([0.0, 1.05])\n",
    "plt.xlim([0.0, 1.0])\n",
    "plt.title('2-class Precision-Recall curve: AUC={0:0.2f}'.format(average_precision))\n",
    "plt.show()"
   ]
  },
  {
   "cell_type": "code",
   "execution_count": 168,
   "metadata": {},
   "outputs": [
    {
     "data": {
      "text/plain": [
       "{'C': 1e-06}"
      ]
     },
     "execution_count": 168,
     "metadata": {},
     "output_type": "execute_result"
    }
   ],
   "source": [
    "clf.best_params_"
   ]
  },
  {
   "cell_type": "code",
   "execution_count": 169,
   "metadata": {},
   "outputs": [
    {
     "data": {
      "text/plain": [
       "0.48014981273408247"
      ]
     },
     "execution_count": 169,
     "metadata": {},
     "output_type": "execute_result"
    }
   ],
   "source": [
    "clf.best_score_"
   ]
  },
  {
   "cell_type": "code",
   "execution_count": 172,
   "metadata": {},
   "outputs": [],
   "source": [
    "clf = svm.LinearSVC(class_weight=\"balanced\", random_state=RS)\n",
    "param_grid = {'C' : [1.0e-10, 1.0e-6],}\n",
    "clf = GridSearchCV(clf, param_grid, scoring=\"recall\")\n",
    "\n",
    "clf.fit(X_train, y_train)\n",
    "y_pred = clf.decision_function(X_test)\n",
    "\n",
    "precision, recall, _ = precision_recall_curve(y_test, y_pred)\n",
    "\n",
    "average_precision = average_precision_score(y_test, y_pred)\n",
    "\n",
    "plt.step(recall, precision, color='b', alpha=0.2, where='post')\n",
    "plt.fill_between(recall, precision, step='post', alpha=0.2, color='b')\n",
    "\n",
    "plt.xlabel('Recall')\n",
    "plt.ylabel('Precision')\n",
    "plt.ylim([0.0, 1.05])\n",
    "plt.xlim([0.0, 1.0])\n",
    "plt.title('2-class Precision-Recall curve: AUC={0:0.2f}'.format(average_precision))\n",
    "plt.show()\n",
    "print('C_best = ', clf.best_params_)\n",
    "print('recall_best = ', clf.best_score_)"
   ]
  },
  {
   "cell_type": "code",
   "execution_count": 173,
   "metadata": {},
   "outputs": [
    {
     "data": {
      "text/plain": [
       "{'C': 1e-06}"
      ]
     },
     "execution_count": 173,
     "metadata": {},
     "output_type": "execute_result"
    }
   ],
   "source": [
    "clf.best_params_"
   ]
  },
  {
   "cell_type": "code",
   "execution_count": 174,
   "metadata": {},
   "outputs": [
    {
     "data": {
      "text/plain": [
       "0.48014981273408247"
      ]
     },
     "execution_count": 174,
     "metadata": {},
     "output_type": "execute_result"
    }
   ],
   "source": [
    "clf.best_score_"
   ]
  },
  {
   "cell_type": "code",
   "execution_count": 176,
   "metadata": {},
   "outputs": [
    {
     "data": {
      "text/plain": [
       "array([-0.03087269,  0.01394985, -0.01601431, -0.01118446,  0.017896  ,\n",
       "        0.00387498, -0.0095496 , -0.01610037, -0.00520305, -0.04586   ])"
      ]
     },
     "execution_count": 176,
     "metadata": {},
     "output_type": "execute_result"
    }
   ],
   "source": [
    "y_pred[:10] "
   ]
  },
  {
   "cell_type": "code",
   "execution_count": 177,
   "metadata": {},
   "outputs": [
    {
     "data": {
      "text/plain": [
       "False"
      ]
     },
     "execution_count": 177,
     "metadata": {},
     "output_type": "execute_result"
    }
   ],
   "source": [
    "y_pred[y_pred>0.5].any()"
   ]
  },
  {
   "cell_type": "code",
   "execution_count": 178,
   "metadata": {},
   "outputs": [
    {
     "data": {
      "text/plain": [
       "True"
      ]
     },
     "execution_count": 178,
     "metadata": {},
     "output_type": "execute_result"
    }
   ],
   "source": [
    "y_test[y_test>0.5].any()"
   ]
  },
  {
   "cell_type": "code",
   "execution_count": 179,
   "metadata": {},
   "outputs": [
    {
     "name": "stdout",
     "output_type": "stream",
     "text": [
      "Counter({dtype('int64'): 47, dtype('float64'): 10})\n"
     ]
    }
   ],
   "source": [
    "from collections import Counter\n",
    "print( Counter(X_all.dtypes.values) )"
   ]
  },
  {
   "cell_type": "code",
   "execution_count": null,
   "metadata": {
    "collapsed": true
   },
   "outputs": [],
   "source": []
  }
 ],
 "metadata": {
  "kernelspec": {
   "display_name": "Python 3",
   "language": "python",
   "name": "python3"
  },
  "language_info": {
   "codemirror_mode": {
    "name": "ipython",
    "version": 3
   },
   "file_extension": ".py",
   "mimetype": "text/x-python",
   "name": "python",
   "nbconvert_exporter": "python",
   "pygments_lexer": "ipython3",
   "version": "3.6.1"
  }
 },
 "nbformat": 4,
 "nbformat_minor": 2
}
